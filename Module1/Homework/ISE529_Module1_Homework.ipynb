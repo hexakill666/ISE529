{
 "cells": [
  {
   "cell_type": "markdown",
   "id": "ba05f31f",
   "metadata": {},
   "source": [
    "# <center> Module 1 Homework\n",
    "\n",
    "<center>  ISE-529 Predictive Analytics\n",
    "<center> Student Name"
   ]
  },
  {
   "cell_type": "markdown",
   "id": "7c95b500",
   "metadata": {},
   "source": [
    "#### 1.  For this problem, we will be using the file \"Cars Data.csv\"\n",
    "\n",
    "a.  Load the file Cars Data.csv into a dataframe named cars and display the first 10 rows of the dataframe."
   ]
  },
  {
   "cell_type": "code",
   "execution_count": null,
   "id": "068e4a68",
   "metadata": {
    "scrolled": true
   },
   "outputs": [],
   "source": []
  },
  {
   "cell_type": "markdown",
   "id": "a88e4fca",
   "metadata": {},
   "source": [
    "b. Use the describe() function to produce a numerical summary of the variables in the dataset. (10 points)"
   ]
  },
  {
   "cell_type": "code",
   "execution_count": null,
   "id": "a589b1d8",
   "metadata": {},
   "outputs": [],
   "source": []
  },
  {
   "cell_type": "markdown",
   "id": "3cb241c0",
   "metadata": {},
   "source": [
    "c. Use the groupby() and size() functions to create a table of the number of observations in the dataset of each car Make (e.g., Acura, Audi, etc.)  (15 points)"
   ]
  },
  {
   "cell_type": "code",
   "execution_count": null,
   "id": "c1dc0ab4",
   "metadata": {},
   "outputs": [],
   "source": []
  },
  {
   "cell_type": "markdown",
   "id": "8fcde87d",
   "metadata": {},
   "source": [
    "d.  Use the corr() function to create a correlation matrix of the numeric attributes in the cars dataset.  Use the \"pearson\" correlation coefficient algorithm  (15 points)"
   ]
  },
  {
   "cell_type": "code",
   "execution_count": null,
   "id": "94dfe8c5",
   "metadata": {},
   "outputs": [],
   "source": []
  },
  {
   "cell_type": "markdown",
   "id": "0d40054b",
   "metadata": {},
   "source": [
    "e.  Add a new attribute to the dataframe called HP_Groups which has one of the following values:\n",
    "  - \"Low\":  Horsepower is <= 200\n",
    "  - \"Medium\":  Horsepower is > 200 and <= 300\n",
    "  - \"High\":  Horsepower is > 300\n",
    "\n",
    "Hint:  create a function that takes a number and return one of the three bins and then use the apply method"
   ]
  },
  {
   "cell_type": "code",
   "execution_count": null,
   "id": "731b3295",
   "metadata": {},
   "outputs": [],
   "source": []
  },
  {
   "cell_type": "markdown",
   "id": "465fb82c",
   "metadata": {},
   "source": [
    "f.  Using a Seaborn, create side-by-side boxplots showing the MPG (City) for each of the three HP_Groups"
   ]
  },
  {
   "cell_type": "code",
   "execution_count": null,
   "id": "3cf45411",
   "metadata": {},
   "outputs": [],
   "source": []
  },
  {
   "cell_type": "markdown",
   "id": "25c82688",
   "metadata": {},
   "source": [
    "#### 2.  Function Definition\n",
    "A common metric of health is the Body Mass Index (BMI), which is calculated simply as the weight in \n",
    "kilograms divided by the height in meters squared (BMI = kg/m2)\n",
    "\n",
    "a. Create a function called calculate_bmi() that takes height in inches and weight in pounds as parameters and returns the BMI. Use the conversions inches ∗ 0.025 = m and pounds ∗ 0.453592 = kg. Test the function with a height of 72\" and a weight of 190 lbs. (15 points)\n"
   ]
  },
  {
   "cell_type": "code",
   "execution_count": null,
   "id": "9afccaf5",
   "metadata": {},
   "outputs": [],
   "source": []
  },
  {
   "cell_type": "markdown",
   "id": "37c2cc41",
   "metadata": {},
   "source": [
    "b.  General standard categories for BMI are given by:\n",
    "  - BMI < 18.5:  Underweight\n",
    "  - BMI 18.5 - 24.9: Normal weight\n",
    "  - BMI 25 - 29.9:  Overweight\n",
    "  - BMI 30 or greater:  Obese\n",
    "  \n",
    "Create a function called determine_weight_category that takes height in inches and weight in pounds\n",
    "as parameters and returns the category the person falls into. Test your function with the following\n",
    "values: (15 points)\n",
    "  - Height 60\" / Weight 160 lbs\n",
    "  - Height 68\" / Weight 160 lbs\n",
    "  - Height 72\" / Weight 160 lbs\n",
    "\n",
    "    "
   ]
  },
  {
   "cell_type": "code",
   "execution_count": null,
   "id": "67714ac1",
   "metadata": {
    "scrolled": true
   },
   "outputs": [],
   "source": []
  },
  {
   "cell_type": "markdown",
   "id": "1a52bede",
   "metadata": {},
   "source": [
    "c.  You want to create a plot of the BMI for a 180-pound individual at various heights from 60\" to 84\"\n",
    "(in one-inch increments). Create a vector ‘heights’ to hold the various heights from 60 to 84 and\n",
    "write a for-loop to call your calculate_bmi() function for each value of heights. Then, use these two\n",
    "vectors to create a scatter plot showing the relationship. Give the chart a title of ‘BMI at Various Heights for\n",
    "a 180-Pound Individual’. For full credit, label the axes and give the chart a title. "
   ]
  },
  {
   "cell_type": "code",
   "execution_count": null,
   "id": "f483134b",
   "metadata": {},
   "outputs": [],
   "source": []
  },
  {
   "cell_type": "markdown",
   "id": "1a5c3c79",
   "metadata": {},
   "source": [
    "d.  Repeat part c from above but without using a loop"
   ]
  },
  {
   "cell_type": "code",
   "execution_count": null,
   "id": "9760933b",
   "metadata": {
    "scrolled": true
   },
   "outputs": [],
   "source": []
  },
  {
   "cell_type": "markdown",
   "id": "ca923250",
   "metadata": {},
   "source": [
    "#### 3)  Demographics Dataset Analysis\n",
    "\n",
    "a.  For this problem, load the file \"demographics.csv\" into a DataFrame called \"demos\".  Uset the \"type\" function to verify that it is a dataframe"
   ]
  },
  {
   "cell_type": "code",
   "execution_count": null,
   "id": "bd84df62",
   "metadata": {},
   "outputs": [],
   "source": []
  },
  {
   "cell_type": "markdown",
   "id": "18934ae9",
   "metadata": {},
   "source": [
    "b.  For each continent, summarize the average (mean) city size"
   ]
  },
  {
   "cell_type": "code",
   "execution_count": null,
   "id": "183f8fd3",
   "metadata": {},
   "outputs": [],
   "source": []
  },
  {
   "cell_type": "markdown",
   "id": "f8ba9d20",
   "metadata": {},
   "source": [
    "c.  Find the size of the largest country in each continent"
   ]
  },
  {
   "cell_type": "code",
   "execution_count": null,
   "id": "2d1b6f1e",
   "metadata": {},
   "outputs": [],
   "source": []
  },
  {
   "cell_type": "markdown",
   "id": "4326ccaa",
   "metadata": {},
   "source": [
    "d.  What is the average percentage of males and females that attend school in each continent?"
   ]
  },
  {
   "cell_type": "code",
   "execution_count": null,
   "id": "0ec389d2",
   "metadata": {},
   "outputs": [],
   "source": []
  },
  {
   "cell_type": "markdown",
   "id": "60823dfd",
   "metadata": {},
   "source": [
    "e.  What is the average percentage of females that attend school in each continent.  Sort the list from highest to lowest."
   ]
  },
  {
   "cell_type": "code",
   "execution_count": null,
   "id": "82b89dee",
   "metadata": {},
   "outputs": [],
   "source": []
  }
 ],
 "metadata": {
  "kernelspec": {
   "display_name": "Python 3",
   "language": "python",
   "name": "python3"
  },
  "language_info": {
   "codemirror_mode": {
    "name": "ipython",
    "version": 3
   },
   "file_extension": ".py",
   "mimetype": "text/x-python",
   "name": "python",
   "nbconvert_exporter": "python",
   "pygments_lexer": "ipython3",
   "version": "3.8.8"
  }
 },
 "nbformat": 4,
 "nbformat_minor": 5
}
