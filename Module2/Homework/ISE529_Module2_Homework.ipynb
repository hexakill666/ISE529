{
 "cells": [
  {
   "cell_type": "markdown",
   "id": "ba05f31f",
   "metadata": {},
   "source": [
    "# <center> Module 2 Homework\n",
    "\n",
    "<center>  ISE-529 Predictive Analytics"
   ]
  },
  {
   "cell_type": "markdown",
   "id": "eee11b7a",
   "metadata": {},
   "source": [
    "*Note:  In answering the following questions, you may only use functionality from Base Python, NumPy, Pandas, or Seaborn*"
   ]
  },
  {
   "cell_type": "markdown",
   "id": "1266b9d2",
   "metadata": {},
   "source": [
    "#### 1.  Evaluating regression functions"
   ]
  },
  {
   "cell_type": "markdown",
   "id": "c46d20da",
   "metadata": {},
   "source": [
    "1A)  The file \"HW 2 Problem 1 Data.xlsx\" contains two datasets - training and test in two different spreadsheet tabs.  Read the tables into two dataframes (training_data and test_data) and display the first 10 rows of each dataframe.  Hint - look up the Pandas function for reading in Excel files."
   ]
  },
  {
   "cell_type": "code",
   "execution_count": null,
   "id": "068e4a68",
   "metadata": {
    "scrolled": true
   },
   "outputs": [],
   "source": []
  },
  {
   "cell_type": "code",
   "execution_count": null,
   "id": "114437b2",
   "metadata": {},
   "outputs": [],
   "source": []
  },
  {
   "cell_type": "markdown",
   "id": "4f84156b",
   "metadata": {},
   "source": [
    "1b)  Using Seaborn, create scatterplots of the two dataframes.  For full credit, include a title (\"Training Data\" and \"Test Data\") for the two scatterplots."
   ]
  },
  {
   "cell_type": "code",
   "execution_count": null,
   "id": "60b786f2",
   "metadata": {},
   "outputs": [],
   "source": []
  },
  {
   "cell_type": "code",
   "execution_count": null,
   "id": "08d49141",
   "metadata": {},
   "outputs": [],
   "source": []
  },
  {
   "cell_type": "markdown",
   "id": "ae4041c9",
   "metadata": {},
   "source": [
    "1c)  Now, we are going to calculate the test and training MSEs for three different candidate regression models:\n",
    "  - F1:  $300x - 4280$\n",
    "  - F2:  $3.37x^2 - 36.8x + 1220$\n",
    "  - F3:  $0.1x^3 - 12x^2 + 590x - 3600$"
   ]
  },
  {
   "cell_type": "markdown",
   "id": "b3bcf698",
   "metadata": {},
   "source": [
    "Create three functions for these three candidate models - f1(), f2(), and f3().  They should take as an input $x$ and return the predicted value of $y$ corresponding to that input:"
   ]
  },
  {
   "cell_type": "code",
   "execution_count": null,
   "id": "e17ad846",
   "metadata": {},
   "outputs": [],
   "source": []
  },
  {
   "cell_type": "code",
   "execution_count": null,
   "id": "7d4245e6",
   "metadata": {},
   "outputs": [],
   "source": []
  },
  {
   "cell_type": "code",
   "execution_count": null,
   "id": "cea4f878",
   "metadata": {},
   "outputs": [],
   "source": []
  },
  {
   "cell_type": "markdown",
   "id": "08a77d6a",
   "metadata": {},
   "source": [
    "1d)  Now, write a function calc_mse() that takes three parameter inputs:\n",
    "  - $x$ - an array (or Pandas series) of predictor $X$ values\n",
    "  - $y$ - an array (or Pandas series) of response $Y$ values\n",
    "  - $f$ - a function to be called for each value of the $x$ and $y$ arrays\n",
    "  \n",
    "The function should calculate the MSE for the function $f$ using the $x$ and $y$ data arrays"
   ]
  },
  {
   "cell_type": "code",
   "execution_count": null,
   "id": "0558f478",
   "metadata": {},
   "outputs": [],
   "source": []
  },
  {
   "cell_type": "markdown",
   "id": "3922efb5",
   "metadata": {},
   "source": [
    "1e)  Call this calc_mse function six times to calculate the training and test MSE for each of the three models:"
   ]
  },
  {
   "cell_type": "code",
   "execution_count": null,
   "id": "db0a794c",
   "metadata": {},
   "outputs": [],
   "source": []
  },
  {
   "cell_type": "code",
   "execution_count": null,
   "id": "0bbe3198",
   "metadata": {},
   "outputs": [],
   "source": []
  },
  {
   "cell_type": "code",
   "execution_count": null,
   "id": "52b9c287",
   "metadata": {},
   "outputs": [],
   "source": []
  },
  {
   "cell_type": "code",
   "execution_count": null,
   "id": "85b295df",
   "metadata": {},
   "outputs": [],
   "source": []
  },
  {
   "cell_type": "code",
   "execution_count": null,
   "id": "9f19bed9",
   "metadata": {},
   "outputs": [],
   "source": []
  },
  {
   "cell_type": "code",
   "execution_count": null,
   "id": "730fef2e",
   "metadata": {},
   "outputs": [],
   "source": []
  },
  {
   "cell_type": "markdown",
   "id": "80f769a7",
   "metadata": {},
   "source": [
    "1f)  Which of the three models would you select for use and why?"
   ]
  },
  {
   "cell_type": "markdown",
   "id": "23ff162b",
   "metadata": {},
   "source": []
  },
  {
   "cell_type": "markdown",
   "id": "af7d3223",
   "metadata": {},
   "source": [
    "1g) Insted of writing functions, write a single line of Python code to calculate the test MSE for function F1.  Hint:  use the Python map and lambda functions."
   ]
  },
  {
   "cell_type": "code",
   "execution_count": null,
   "id": "c30ead05",
   "metadata": {},
   "outputs": [],
   "source": []
  },
  {
   "cell_type": "markdown",
   "id": "d2240699",
   "metadata": {},
   "source": [
    "#### 2.  KNN and Calculate Misclassification Rates"
   ]
  },
  {
   "cell_type": "markdown",
   "id": "2fdbf553",
   "metadata": {},
   "source": [
    "2a)  Read the file \"HW 2 Problem 2 Data.csv\" into a dataframe called knn_data and display its first 10 rows"
   ]
  },
  {
   "cell_type": "code",
   "execution_count": null,
   "id": "c7bfc903",
   "metadata": {},
   "outputs": [],
   "source": []
  },
  {
   "cell_type": "markdown",
   "id": "8bed4f75",
   "metadata": {},
   "source": [
    "2b)  Using Seaborn, create a color-coded scatterplot of the data (where each point is colored with its category color).  For full credit, be sure to color the points correctly with yellow, blue, and red colors. "
   ]
  },
  {
   "cell_type": "code",
   "execution_count": null,
   "id": "277fcef7",
   "metadata": {
    "scrolled": true
   },
   "outputs": [],
   "source": []
  },
  {
   "cell_type": "markdown",
   "id": "300c46fa",
   "metadata": {},
   "source": [
    "Now, we are going to create and assess predictions for the category of each observation using KNN-1 and KNN-3 algorithms.  This means for each observation we are going to determine a prediction for its category color as if we didn't know what it was and then we will be checking to see if the prediction matches its actual category color.  \n",
    "\n",
    "The problem sub-parts below will step you through the process of doing this."
   ]
  },
  {
   "cell_type": "markdown",
   "id": "e276f424",
   "metadata": {},
   "source": [
    "2c)  Create a two-dimensional numpy array of size 50x50 that has the distance of each observation to every other observation.  Use a Euclidean formula to calculate the distances.  Display the first row of the distance table (this row will show the distance of each observation from the first observation)"
   ]
  },
  {
   "cell_type": "code",
   "execution_count": null,
   "id": "884d0285",
   "metadata": {},
   "outputs": [],
   "source": []
  },
  {
   "cell_type": "markdown",
   "id": "d1ef68b1",
   "metadata": {},
   "source": [
    "2d)  Now create a dataframe with 50 rows (one per observation) and 3 columns labeled 'nn1_cat', 'nn2_cat', and 'nn3_cat'.  Populate the dataframe with the category color for the first, second, and third nearest neighbor for each observation.\n",
    "\n",
    "Display the first ten rows of this dataframe"
   ]
  },
  {
   "cell_type": "code",
   "execution_count": null,
   "id": "91898601",
   "metadata": {},
   "outputs": [],
   "source": []
  },
  {
   "cell_type": "markdown",
   "id": "fe320330",
   "metadata": {},
   "source": [
    "2e)  Create a Pandas series nn1_preds that has the prediction for each observation using a KNN1 algorithm.  Display the first 10 rows of the series."
   ]
  },
  {
   "cell_type": "code",
   "execution_count": null,
   "id": "026afa0e",
   "metadata": {},
   "outputs": [],
   "source": []
  },
  {
   "cell_type": "markdown",
   "id": "348d2c83",
   "metadata": {},
   "source": [
    "2f)  Calculate the misclassification rate for the KNN1 algorithm on this dataset"
   ]
  },
  {
   "cell_type": "code",
   "execution_count": null,
   "id": "3609b458",
   "metadata": {},
   "outputs": [],
   "source": []
  },
  {
   "cell_type": "markdown",
   "id": "53a32dc4",
   "metadata": {},
   "source": [
    "2g)  Create a Pandas series nn3_preds that has the prediction for each observation using a KNN3 algorithm.  Display the first 10 rows of the series.  (If the three nearest neighbors all have different color categories, use the first nearest neighbor category as the prediction)"
   ]
  },
  {
   "cell_type": "code",
   "execution_count": null,
   "id": "c97340ae",
   "metadata": {},
   "outputs": [],
   "source": []
  },
  {
   "cell_type": "code",
   "execution_count": null,
   "id": "464c22d4",
   "metadata": {},
   "outputs": [],
   "source": []
  },
  {
   "cell_type": "markdown",
   "id": "eb722323",
   "metadata": {},
   "source": [
    "2h) Calculate the misclassification rate for the KNN3 algorithm on this dataset"
   ]
  },
  {
   "cell_type": "code",
   "execution_count": null,
   "id": "85f0b227",
   "metadata": {},
   "outputs": [],
   "source": []
  }
 ],
 "metadata": {
  "kernelspec": {
   "display_name": "Python 3",
   "language": "python",
   "name": "python3"
  },
  "language_info": {
   "codemirror_mode": {
    "name": "ipython",
    "version": 3
   },
   "file_extension": ".py",
   "mimetype": "text/x-python",
   "name": "python",
   "nbconvert_exporter": "python",
   "pygments_lexer": "ipython3",
   "version": "3.8.8"
  }
 },
 "nbformat": 4,
 "nbformat_minor": 5
}
