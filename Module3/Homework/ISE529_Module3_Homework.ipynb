{
 "cells": [
  {
   "cell_type": "markdown",
   "id": "ba05f31f",
   "metadata": {},
   "source": [
    "# <center> Module 3 Homework\n",
    "\n",
    "<center>  ISE-529 Predictive Analytics"
   ]
  },
  {
   "cell_type": "markdown",
   "id": "802cac0d",
   "metadata": {},
   "source": [
    "1a)  Read the file \"HW Problem 1 Dataset.csv\" into a dataframe and convert the category column X6 into binary dummary variables.  Display the first three rows of the resulting dataset."
   ]
  },
  {
   "cell_type": "code",
   "execution_count": null,
   "id": "8d746f8b",
   "metadata": {},
   "outputs": [],
   "source": []
  },
  {
   "cell_type": "markdown",
   "id": "9737dba1",
   "metadata": {},
   "source": [
    "1b) Using statsodels, perform a regression for Y using X1 through X5 and your dummy variables display the fit summary below."
   ]
  },
  {
   "cell_type": "code",
   "execution_count": null,
   "id": "e9d3d0df",
   "metadata": {},
   "outputs": [],
   "source": []
  },
  {
   "cell_type": "markdown",
   "id": "83cbb1ee",
   "metadata": {},
   "source": [
    "1c)  Investigating the resulting coefficient p-values, Which predictors appear to not have a statistically significant relationship to the response variable? "
   ]
  },
  {
   "cell_type": "markdown",
   "id": "afa1488c",
   "metadata": {},
   "source": []
  },
  {
   "cell_type": "markdown",
   "id": "dac815b0",
   "metadata": {},
   "source": [
    "1d)  Drop any predictors that you found not to have a relationship with the response and display the first 10 rows of the resulting dataframe."
   ]
  },
  {
   "cell_type": "code",
   "execution_count": null,
   "id": "4f4087df",
   "metadata": {},
   "outputs": [],
   "source": []
  },
  {
   "cell_type": "markdown",
   "id": "5fb21ccd",
   "metadata": {},
   "source": [
    "1e)  Re-run the regression without the irrelevant variables and display the fit summary"
   ]
  },
  {
   "cell_type": "code",
   "execution_count": null,
   "id": "4dc14668",
   "metadata": {
    "scrolled": false
   },
   "outputs": [],
   "source": []
  },
  {
   "cell_type": "markdown",
   "id": "e7b424d3",
   "metadata": {},
   "source": [
    "1f)  Write the full regression equation"
   ]
  },
  {
   "cell_type": "markdown",
   "id": "337b292c",
   "metadata": {},
   "source": []
  },
  {
   "cell_type": "markdown",
   "id": "f0c27f5a",
   "metadata": {},
   "source": [
    "1g)  Write the equation for the observations where the \"color\" category is yellow:"
   ]
  },
  {
   "cell_type": "markdown",
   "id": "ad9f46f7",
   "metadata": {},
   "source": []
  },
  {
   "cell_type": "markdown",
   "id": "c08fa186",
   "metadata": {},
   "source": [
    "1h) Write the equation for the observations where the \"color\" category is blue:"
   ]
  },
  {
   "cell_type": "markdown",
   "id": "02481aea",
   "metadata": {},
   "source": []
  },
  {
   "cell_type": "markdown",
   "id": "66a57f2d",
   "metadata": {},
   "source": [
    "Write the equation for the observations where the \"color\" category is red:"
   ]
  },
  {
   "cell_type": "markdown",
   "id": "49876faf",
   "metadata": {},
   "source": []
  },
  {
   "cell_type": "markdown",
   "id": "8385b582",
   "metadata": {},
   "source": [
    "1i) Now, use the sklearn library to run the same regression and display the resulting model coefficients"
   ]
  },
  {
   "cell_type": "code",
   "execution_count": null,
   "id": "e9108f74",
   "metadata": {},
   "outputs": [],
   "source": []
  },
  {
   "cell_type": "markdown",
   "id": "200e0e8c",
   "metadata": {},
   "source": [
    "1j)  Calculate and display the following fit assessment statistics:  $R^2$, Mean Squared Error, Mean Absolute Error, and Max Error"
   ]
  },
  {
   "cell_type": "code",
   "execution_count": null,
   "id": "23be45ba",
   "metadata": {},
   "outputs": [],
   "source": []
  },
  {
   "cell_type": "markdown",
   "id": "69aba5f8",
   "metadata": {},
   "source": [
    "1k)  Using Seaborn, create a scatterplot of the actual values of Y vs the predicted values of Y"
   ]
  },
  {
   "cell_type": "code",
   "execution_count": null,
   "id": "cbae3580",
   "metadata": {
    "scrolled": true
   },
   "outputs": [],
   "source": []
  },
  {
   "cell_type": "markdown",
   "id": "250a0df7",
   "metadata": {},
   "source": [
    "Investigate adding nonlinear terms"
   ]
  },
  {
   "cell_type": "markdown",
   "id": "3ed70786",
   "metadata": {},
   "source": [
    "1L)  Now, create one scatterplot for each numeric predictor (not including dummy variables) against the response variables:"
   ]
  },
  {
   "cell_type": "code",
   "execution_count": null,
   "id": "569c270b",
   "metadata": {},
   "outputs": [],
   "source": []
  },
  {
   "cell_type": "markdown",
   "id": "ecf5144f",
   "metadata": {},
   "source": [
    "1M)  Which predictor or predictors appear to have a nonlinear relationship with the response variable?"
   ]
  },
  {
   "cell_type": "markdown",
   "id": "b71f0cf6",
   "metadata": {},
   "source": []
  },
  {
   "cell_type": "markdown",
   "id": "7509a830",
   "metadata": {},
   "source": [
    "1n)  Try adding a squared term of any predictors that appear to have a nonlinear relationship.  Re-run the regression and display the resulting coefficients and assessment statistics ($R^2$, Mean Squared Error, Mean Absolute Error, and Max Error)"
   ]
  },
  {
   "cell_type": "code",
   "execution_count": 225,
   "id": "8f2cd600",
   "metadata": {},
   "outputs": [],
   "source": []
  },
  {
   "cell_type": "markdown",
   "id": "49facfe2",
   "metadata": {},
   "source": [
    "Investigate adding interaction effects"
   ]
  },
  {
   "cell_type": "markdown",
   "id": "3b75af53",
   "metadata": {},
   "source": [
    "1o)  For each numeric predictor, plot a scatterplot against the response variable color coding and the points according to their category values and include regresison lines"
   ]
  },
  {
   "cell_type": "code",
   "execution_count": 229,
   "id": "6b047c87",
   "metadata": {},
   "outputs": [],
   "source": []
  },
  {
   "cell_type": "markdown",
   "id": "955f1c68",
   "metadata": {},
   "source": [
    "1p)  Which predictor appears to have interactions with the color category?"
   ]
  },
  {
   "cell_type": "markdown",
   "id": "e59cdb97",
   "metadata": {},
   "source": []
  },
  {
   "cell_type": "markdown",
   "id": "2367f800",
   "metadata": {},
   "source": [
    "1q)  Add an interaction effect to the model for this predictor, run the new regression, and display the coefficients and fit statistics"
   ]
  },
  {
   "cell_type": "code",
   "execution_count": null,
   "id": "1ac2d8af",
   "metadata": {},
   "outputs": [],
   "source": []
  },
  {
   "cell_type": "markdown",
   "id": "76979a61",
   "metadata": {},
   "source": [
    "1r)  Using statsmodels, run the same regression and assess the p-values of the coefficients.  Which interaction affects appear to be statistically significant?"
   ]
  },
  {
   "cell_type": "code",
   "execution_count": null,
   "id": "26ff57a1",
   "metadata": {},
   "outputs": [],
   "source": []
  },
  {
   "cell_type": "markdown",
   "id": "4b7d79fc",
   "metadata": {},
   "source": []
  }
 ],
 "metadata": {
  "kernelspec": {
   "display_name": "Python 3",
   "language": "python",
   "name": "python3"
  },
  "language_info": {
   "codemirror_mode": {
    "name": "ipython",
    "version": 3
   },
   "file_extension": ".py",
   "mimetype": "text/x-python",
   "name": "python",
   "nbconvert_exporter": "python",
   "pygments_lexer": "ipython3",
   "version": "3.8.8"
  }
 },
 "nbformat": 4,
 "nbformat_minor": 5
}
