{
 "cells": [
  {
   "cell_type": "markdown",
   "id": "6cd850dc",
   "metadata": {},
   "source": [
    "# Module 3:  Linear Regression\n",
    "## Model Definition and Assessment"
   ]
  },
  {
   "cell_type": "code",
   "execution_count": 448,
   "id": "e97275b9",
   "metadata": {},
   "outputs": [
    {
     "data": {
      "text/html": [
       "<div>\n",
       "<style scoped>\n",
       "    .dataframe tbody tr th:only-of-type {\n",
       "        vertical-align: middle;\n",
       "    }\n",
       "\n",
       "    .dataframe tbody tr th {\n",
       "        vertical-align: top;\n",
       "    }\n",
       "\n",
       "    .dataframe thead th {\n",
       "        text-align: right;\n",
       "    }\n",
       "</style>\n",
       "<table border=\"1\" class=\"dataframe\">\n",
       "  <thead>\n",
       "    <tr style=\"text-align: right;\">\n",
       "      <th></th>\n",
       "      <th>TV</th>\n",
       "      <th>radio</th>\n",
       "      <th>newspaper</th>\n",
       "      <th>sales</th>\n",
       "    </tr>\n",
       "  </thead>\n",
       "  <tbody>\n",
       "    <tr>\n",
       "      <th>0</th>\n",
       "      <td>230.1</td>\n",
       "      <td>37.8</td>\n",
       "      <td>69.2</td>\n",
       "      <td>22.1</td>\n",
       "    </tr>\n",
       "    <tr>\n",
       "      <th>1</th>\n",
       "      <td>44.5</td>\n",
       "      <td>39.3</td>\n",
       "      <td>45.1</td>\n",
       "      <td>10.4</td>\n",
       "    </tr>\n",
       "    <tr>\n",
       "      <th>2</th>\n",
       "      <td>17.2</td>\n",
       "      <td>45.9</td>\n",
       "      <td>69.3</td>\n",
       "      <td>9.3</td>\n",
       "    </tr>\n",
       "    <tr>\n",
       "      <th>3</th>\n",
       "      <td>151.5</td>\n",
       "      <td>41.3</td>\n",
       "      <td>58.5</td>\n",
       "      <td>18.5</td>\n",
       "    </tr>\n",
       "    <tr>\n",
       "      <th>4</th>\n",
       "      <td>180.8</td>\n",
       "      <td>10.8</td>\n",
       "      <td>58.4</td>\n",
       "      <td>12.9</td>\n",
       "    </tr>\n",
       "    <tr>\n",
       "      <th>...</th>\n",
       "      <td>...</td>\n",
       "      <td>...</td>\n",
       "      <td>...</td>\n",
       "      <td>...</td>\n",
       "    </tr>\n",
       "    <tr>\n",
       "      <th>195</th>\n",
       "      <td>38.2</td>\n",
       "      <td>3.7</td>\n",
       "      <td>13.8</td>\n",
       "      <td>7.6</td>\n",
       "    </tr>\n",
       "    <tr>\n",
       "      <th>196</th>\n",
       "      <td>94.2</td>\n",
       "      <td>4.9</td>\n",
       "      <td>8.1</td>\n",
       "      <td>9.7</td>\n",
       "    </tr>\n",
       "    <tr>\n",
       "      <th>197</th>\n",
       "      <td>177.0</td>\n",
       "      <td>9.3</td>\n",
       "      <td>6.4</td>\n",
       "      <td>12.8</td>\n",
       "    </tr>\n",
       "    <tr>\n",
       "      <th>198</th>\n",
       "      <td>283.6</td>\n",
       "      <td>42.0</td>\n",
       "      <td>66.2</td>\n",
       "      <td>25.5</td>\n",
       "    </tr>\n",
       "    <tr>\n",
       "      <th>199</th>\n",
       "      <td>232.1</td>\n",
       "      <td>8.6</td>\n",
       "      <td>8.7</td>\n",
       "      <td>13.4</td>\n",
       "    </tr>\n",
       "  </tbody>\n",
       "</table>\n",
       "<p>200 rows × 4 columns</p>\n",
       "</div>"
      ],
      "text/plain": [
       "        TV  radio  newspaper  sales\n",
       "0    230.1   37.8       69.2   22.1\n",
       "1     44.5   39.3       45.1   10.4\n",
       "2     17.2   45.9       69.3    9.3\n",
       "3    151.5   41.3       58.5   18.5\n",
       "4    180.8   10.8       58.4   12.9\n",
       "..     ...    ...        ...    ...\n",
       "195   38.2    3.7       13.8    7.6\n",
       "196   94.2    4.9        8.1    9.7\n",
       "197  177.0    9.3        6.4   12.8\n",
       "198  283.6   42.0       66.2   25.5\n",
       "199  232.1    8.6        8.7   13.4\n",
       "\n",
       "[200 rows x 4 columns]"
      ]
     },
     "execution_count": 448,
     "metadata": {},
     "output_type": "execute_result"
    }
   ],
   "source": [
    "import numpy as np\n",
    "import pandas as pd\n",
    "from matplotlib import pyplot as plt\n",
    "%matplotlib inline\n",
    "plt.style.use('classic')\n",
    "import seaborn as sns\n",
    "advertising = pd.read_csv('Advertising.csv')\n",
    "advertising"
   ]
  },
  {
   "cell_type": "markdown",
   "id": "bc3ca51a",
   "metadata": {},
   "source": [
    "## Model Specification and Assessment"
   ]
  },
  {
   "cell_type": "markdown",
   "id": "a72cb604",
   "metadata": {},
   "source": [
    "### Create simple linear regression to model sales as a function of TV advertising budget"
   ]
  },
  {
   "cell_type": "markdown",
   "id": "3a1acb59",
   "metadata": {},
   "source": [
    "Step 1:  Import the linear regression model class from sklearn"
   ]
  },
  {
   "cell_type": "code",
   "execution_count": 449,
   "id": "b8182990",
   "metadata": {},
   "outputs": [],
   "source": [
    "from sklearn.linear_model import LinearRegression"
   ]
  },
  {
   "cell_type": "markdown",
   "id": "6ea935d4",
   "metadata": {},
   "source": [
    "Step 2:  Instantiate the model and specify that we want to estimate the intercept as well as the slope by setting the fit_intercept hyperparameter to True"
   ]
  },
  {
   "cell_type": "code",
   "execution_count": 450,
   "id": "3786fd00",
   "metadata": {},
   "outputs": [],
   "source": [
    "slr_model = LinearRegression(fit_intercept=True)"
   ]
  },
  {
   "cell_type": "markdown",
   "id": "6be5dc62",
   "metadata": {},
   "source": [
    "Step 3:  Arrange the data into a features matrix and a target vector"
   ]
  },
  {
   "cell_type": "code",
   "execution_count": 451,
   "id": "e4489150",
   "metadata": {},
   "outputs": [
    {
     "data": {
      "text/plain": [
       "0      22.1\n",
       "1      10.4\n",
       "2       9.3\n",
       "3      18.5\n",
       "4      12.9\n",
       "       ... \n",
       "195     7.6\n",
       "196     9.7\n",
       "197    12.8\n",
       "198    25.5\n",
       "199    13.4\n",
       "Name: sales, Length: 200, dtype: float64"
      ]
     },
     "execution_count": 451,
     "metadata": {},
     "output_type": "execute_result"
    }
   ],
   "source": [
    "y = advertising['sales']\n",
    "y"
   ]
  },
  {
   "cell_type": "code",
   "execution_count": 452,
   "id": "dd4ce0ae",
   "metadata": {},
   "outputs": [
    {
     "data": {
      "text/html": [
       "<div>\n",
       "<style scoped>\n",
       "    .dataframe tbody tr th:only-of-type {\n",
       "        vertical-align: middle;\n",
       "    }\n",
       "\n",
       "    .dataframe tbody tr th {\n",
       "        vertical-align: top;\n",
       "    }\n",
       "\n",
       "    .dataframe thead th {\n",
       "        text-align: right;\n",
       "    }\n",
       "</style>\n",
       "<table border=\"1\" class=\"dataframe\">\n",
       "  <thead>\n",
       "    <tr style=\"text-align: right;\">\n",
       "      <th></th>\n",
       "      <th>TV</th>\n",
       "    </tr>\n",
       "  </thead>\n",
       "  <tbody>\n",
       "    <tr>\n",
       "      <th>0</th>\n",
       "      <td>230.1</td>\n",
       "    </tr>\n",
       "    <tr>\n",
       "      <th>1</th>\n",
       "      <td>44.5</td>\n",
       "    </tr>\n",
       "    <tr>\n",
       "      <th>2</th>\n",
       "      <td>17.2</td>\n",
       "    </tr>\n",
       "    <tr>\n",
       "      <th>3</th>\n",
       "      <td>151.5</td>\n",
       "    </tr>\n",
       "    <tr>\n",
       "      <th>4</th>\n",
       "      <td>180.8</td>\n",
       "    </tr>\n",
       "    <tr>\n",
       "      <th>...</th>\n",
       "      <td>...</td>\n",
       "    </tr>\n",
       "    <tr>\n",
       "      <th>195</th>\n",
       "      <td>38.2</td>\n",
       "    </tr>\n",
       "    <tr>\n",
       "      <th>196</th>\n",
       "      <td>94.2</td>\n",
       "    </tr>\n",
       "    <tr>\n",
       "      <th>197</th>\n",
       "      <td>177.0</td>\n",
       "    </tr>\n",
       "    <tr>\n",
       "      <th>198</th>\n",
       "      <td>283.6</td>\n",
       "    </tr>\n",
       "    <tr>\n",
       "      <th>199</th>\n",
       "      <td>232.1</td>\n",
       "    </tr>\n",
       "  </tbody>\n",
       "</table>\n",
       "<p>200 rows × 1 columns</p>\n",
       "</div>"
      ],
      "text/plain": [
       "        TV\n",
       "0    230.1\n",
       "1     44.5\n",
       "2     17.2\n",
       "3    151.5\n",
       "4    180.8\n",
       "..     ...\n",
       "195   38.2\n",
       "196   94.2\n",
       "197  177.0\n",
       "198  283.6\n",
       "199  232.1\n",
       "\n",
       "[200 rows x 1 columns]"
      ]
     },
     "execution_count": 452,
     "metadata": {},
     "output_type": "execute_result"
    }
   ],
   "source": [
    "X = advertising[['TV']]  # the features matrix needs to be a Pandas dataframe or a 2-d NumPy array\n",
    "X"
   ]
  },
  {
   "cell_type": "markdown",
   "id": "0645f9e8",
   "metadata": {},
   "source": [
    "Step 4:  Fit the model"
   ]
  },
  {
   "cell_type": "code",
   "execution_count": 453,
   "id": "d660d96f",
   "metadata": {},
   "outputs": [
    {
     "data": {
      "text/plain": [
       "LinearRegression()"
      ]
     },
     "execution_count": 453,
     "metadata": {},
     "output_type": "execute_result"
    }
   ],
   "source": [
    "slr_model.fit(X,y)"
   ]
  },
  {
   "cell_type": "markdown",
   "id": "fb56f162",
   "metadata": {},
   "source": [
    "Investigate the fitted coefficients:"
   ]
  },
  {
   "cell_type": "code",
   "execution_count": 454,
   "id": "ada5c738",
   "metadata": {},
   "outputs": [
    {
     "data": {
      "text/plain": [
       "array([0.04753664])"
      ]
     },
     "execution_count": 454,
     "metadata": {},
     "output_type": "execute_result"
    }
   ],
   "source": [
    "slr_model.coef_"
   ]
  },
  {
   "cell_type": "code",
   "execution_count": 455,
   "id": "3d26043c",
   "metadata": {},
   "outputs": [
    {
     "data": {
      "text/plain": [
       "7.032593549127694"
      ]
     },
     "execution_count": 455,
     "metadata": {},
     "output_type": "execute_result"
    }
   ],
   "source": [
    "slr_model.intercept_"
   ]
  },
  {
   "cell_type": "markdown",
   "id": "1279dd4c",
   "metadata": {},
   "source": [
    "Plot the model against the data"
   ]
  },
  {
   "cell_type": "code",
   "execution_count": 456,
   "id": "706bd661",
   "metadata": {},
   "outputs": [
    {
     "data": {
      "text/plain": [
       "(500, 1)"
      ]
     },
     "execution_count": 456,
     "metadata": {},
     "output_type": "execute_result"
    }
   ],
   "source": [
    "x_fit = np.linspace(0,300, num = 500) # Create an array of 500 points from 0 to 300 (max TV budget)\n",
    "x_fit = x_fit[:,np.newaxis]  # Reshape the array to be in the correct format for sklearn methods\n",
    "x_fit.shape"
   ]
  },
  {
   "cell_type": "code",
   "execution_count": 457,
   "id": "cbaa3ce3",
   "metadata": {},
   "outputs": [],
   "source": [
    "y_fit = slr_model.predict(x_fit) "
   ]
  },
  {
   "cell_type": "code",
   "execution_count": 458,
   "id": "b8679b0b",
   "metadata": {},
   "outputs": [
    {
     "data": {
      "image/png": "[encoded data removed]",
      "text/plain": [
       "<Figure size 640x480 with 1 Axes>"
      ]
     },
     "metadata": {},
     "output_type": "display_data"
    }
   ],
   "source": [
    "plt.scatter(x = X, y = y)\n",
    "plt.scatter(x = x_fit, y = y_fit)\n",
    "plt.title('SLR Model Results')\n",
    "plt.xlabel('TV Budget')\n",
    "plt.ylabel('Sales')\n",
    "p1 = plt.show()"
   ]
  },
  {
   "cell_type": "markdown",
   "id": "63c1d64e",
   "metadata": {},
   "source": [
    "Find the predictions for the training data"
   ]
  },
  {
   "cell_type": "code",
   "execution_count": 459,
   "id": "62ecaab0",
   "metadata": {},
   "outputs": [],
   "source": [
    "y_hat = slr_model.predict(X)"
   ]
  },
  {
   "cell_type": "code",
   "execution_count": 460,
   "id": "2965e114",
   "metadata": {
    "scrolled": true
   },
   "outputs": [
    {
     "data": {
      "image/png": "[encoded data removed]",
      "text/plain": [
       "<Figure size 640x480 with 1 Axes>"
      ]
     },
     "metadata": {},
     "output_type": "display_data"
    }
   ],
   "source": [
    "#  Plot the predictions against the actual values to get a sense of the model performance\n",
    "plt.scatter(x = y, y = y_hat)\n",
    "plt.title('SLR Model Results')\n",
    "plt.xlabel('Actual Sales')\n",
    "plt.ylabel('Predicted Sales')\n",
    "plt.plot([0, 30], [0, 30], color = 'black', linewidth = 2)\n",
    "p1 = plt.show()"
   ]
  },
  {
   "cell_type": "markdown",
   "id": "c9e9203b",
   "metadata": {},
   "source": [
    "Plot the residuals against the actual values of y"
   ]
  },
  {
   "cell_type": "code",
   "execution_count": 461,
   "id": "1f10e7ae",
   "metadata": {},
   "outputs": [
    {
     "data": {
      "image/png": "[encoded data removed]",
      "text/plain": [
       "<Figure size 640x480 with 1 Axes>"
      ]
     },
     "metadata": {},
     "output_type": "display_data"
    }
   ],
   "source": [
    "residuals = y - y_hat\n",
    "plt.scatter(x= y, y = residuals)\n",
    "plt.title('SLR Model Residuals Plot')\n",
    "plt.xlabel('Actual Sales')\n",
    "plt.ylabel('Residuals')\n",
    "plt.plot([0, 30], [0,0], color = 'black', linewidth = 2)\n",
    "p1 = plt.show()"
   ]
  },
  {
   "cell_type": "markdown",
   "id": "32fcf3c6",
   "metadata": {},
   "source": [
    "#### Using statsmodel to find p-values of coefficients"
   ]
  },
  {
   "cell_type": "code",
   "execution_count": 462,
   "id": "0f2c715b",
   "metadata": {},
   "outputs": [],
   "source": [
    "import statsmodels.api as sm\n",
    "import statsmodels.formula.api as smf"
   ]
  },
  {
   "cell_type": "code",
   "execution_count": 463,
   "id": "5f7cee69",
   "metadata": {},
   "outputs": [
    {
     "data": {
      "text/html": [
       "<div>\n",
       "<style scoped>\n",
       "    .dataframe tbody tr th:only-of-type {\n",
       "        vertical-align: middle;\n",
       "    }\n",
       "\n",
       "    .dataframe tbody tr th {\n",
       "        vertical-align: top;\n",
       "    }\n",
       "\n",
       "    .dataframe thead th {\n",
       "        text-align: right;\n",
       "    }\n",
       "</style>\n",
       "<table border=\"1\" class=\"dataframe\">\n",
       "  <thead>\n",
       "    <tr style=\"text-align: right;\">\n",
       "      <th></th>\n",
       "      <th>TV</th>\n",
       "    </tr>\n",
       "  </thead>\n",
       "  <tbody>\n",
       "    <tr>\n",
       "      <th>0</th>\n",
       "      <td>230.1</td>\n",
       "    </tr>\n",
       "    <tr>\n",
       "      <th>1</th>\n",
       "      <td>44.5</td>\n",
       "    </tr>\n",
       "    <tr>\n",
       "      <th>2</th>\n",
       "      <td>17.2</td>\n",
       "    </tr>\n",
       "    <tr>\n",
       "      <th>3</th>\n",
       "      <td>151.5</td>\n",
       "    </tr>\n",
       "    <tr>\n",
       "      <th>4</th>\n",
       "      <td>180.8</td>\n",
       "    </tr>\n",
       "    <tr>\n",
       "      <th>...</th>\n",
       "      <td>...</td>\n",
       "    </tr>\n",
       "    <tr>\n",
       "      <th>195</th>\n",
       "      <td>38.2</td>\n",
       "    </tr>\n",
       "    <tr>\n",
       "      <th>196</th>\n",
       "      <td>94.2</td>\n",
       "    </tr>\n",
       "    <tr>\n",
       "      <th>197</th>\n",
       "      <td>177.0</td>\n",
       "    </tr>\n",
       "    <tr>\n",
       "      <th>198</th>\n",
       "      <td>283.6</td>\n",
       "    </tr>\n",
       "    <tr>\n",
       "      <th>199</th>\n",
       "      <td>232.1</td>\n",
       "    </tr>\n",
       "  </tbody>\n",
       "</table>\n",
       "<p>200 rows × 1 columns</p>\n",
       "</div>"
      ],
      "text/plain": [
       "        TV\n",
       "0    230.1\n",
       "1     44.5\n",
       "2     17.2\n",
       "3    151.5\n",
       "4    180.8\n",
       "..     ...\n",
       "195   38.2\n",
       "196   94.2\n",
       "197  177.0\n",
       "198  283.6\n",
       "199  232.1\n",
       "\n",
       "[200 rows x 1 columns]"
      ]
     },
     "execution_count": 463,
     "metadata": {},
     "output_type": "execute_result"
    }
   ],
   "source": [
    "X"
   ]
  },
  {
   "cell_type": "code",
   "execution_count": 464,
   "id": "b948bcbf",
   "metadata": {},
   "outputs": [
    {
     "data": {
      "text/html": [
       "<div>\n",
       "<style scoped>\n",
       "    .dataframe tbody tr th:only-of-type {\n",
       "        vertical-align: middle;\n",
       "    }\n",
       "\n",
       "    .dataframe tbody tr th {\n",
       "        vertical-align: top;\n",
       "    }\n",
       "\n",
       "    .dataframe thead th {\n",
       "        text-align: right;\n",
       "    }\n",
       "</style>\n",
       "<table border=\"1\" class=\"dataframe\">\n",
       "  <thead>\n",
       "    <tr style=\"text-align: right;\">\n",
       "      <th></th>\n",
       "      <th>const</th>\n",
       "      <th>TV</th>\n",
       "    </tr>\n",
       "  </thead>\n",
       "  <tbody>\n",
       "    <tr>\n",
       "      <th>0</th>\n",
       "      <td>1.0</td>\n",
       "      <td>230.1</td>\n",
       "    </tr>\n",
       "    <tr>\n",
       "      <th>1</th>\n",
       "      <td>1.0</td>\n",
       "      <td>44.5</td>\n",
       "    </tr>\n",
       "    <tr>\n",
       "      <th>2</th>\n",
       "      <td>1.0</td>\n",
       "      <td>17.2</td>\n",
       "    </tr>\n",
       "    <tr>\n",
       "      <th>3</th>\n",
       "      <td>1.0</td>\n",
       "      <td>151.5</td>\n",
       "    </tr>\n",
       "    <tr>\n",
       "      <th>4</th>\n",
       "      <td>1.0</td>\n",
       "      <td>180.8</td>\n",
       "    </tr>\n",
       "    <tr>\n",
       "      <th>...</th>\n",
       "      <td>...</td>\n",
       "      <td>...</td>\n",
       "    </tr>\n",
       "    <tr>\n",
       "      <th>195</th>\n",
       "      <td>1.0</td>\n",
       "      <td>38.2</td>\n",
       "    </tr>\n",
       "    <tr>\n",
       "      <th>196</th>\n",
       "      <td>1.0</td>\n",
       "      <td>94.2</td>\n",
       "    </tr>\n",
       "    <tr>\n",
       "      <th>197</th>\n",
       "      <td>1.0</td>\n",
       "      <td>177.0</td>\n",
       "    </tr>\n",
       "    <tr>\n",
       "      <th>198</th>\n",
       "      <td>1.0</td>\n",
       "      <td>283.6</td>\n",
       "    </tr>\n",
       "    <tr>\n",
       "      <th>199</th>\n",
       "      <td>1.0</td>\n",
       "      <td>232.1</td>\n",
       "    </tr>\n",
       "  </tbody>\n",
       "</table>\n",
       "<p>200 rows × 2 columns</p>\n",
       "</div>"
      ],
      "text/plain": [
       "     const     TV\n",
       "0      1.0  230.1\n",
       "1      1.0   44.5\n",
       "2      1.0   17.2\n",
       "3      1.0  151.5\n",
       "4      1.0  180.8\n",
       "..     ...    ...\n",
       "195    1.0   38.2\n",
       "196    1.0   94.2\n",
       "197    1.0  177.0\n",
       "198    1.0  283.6\n",
       "199    1.0  232.1\n",
       "\n",
       "[200 rows x 2 columns]"
      ]
     },
     "execution_count": 464,
     "metadata": {},
     "output_type": "execute_result"
    }
   ],
   "source": [
    "X_b = sm.add_constant(X)\n",
    "X_b"
   ]
  },
  {
   "cell_type": "code",
   "execution_count": 465,
   "id": "2ae1daf6",
   "metadata": {
    "scrolled": false
   },
   "outputs": [
    {
     "data": {
      "text/html": [
       "<table class=\"simpletable\">\n",
       "<caption>OLS Regression Results</caption>\n",
       "<tr>\n",
       "  <th>Dep. Variable:</th>          <td>sales</td>      <th>  R-squared:         </th> <td>   0.612</td>\n",
       "</tr>\n",
       "<tr>\n",
       "  <th>Model:</th>                   <td>OLS</td>       <th>  Adj. R-squared:    </th> <td>   0.610</td>\n",
       "</tr>\n",
       "<tr>\n",
       "  <th>Method:</th>             <td>Least Squares</td>  <th>  F-statistic:       </th> <td>   312.1</td>\n",
       "</tr>\n",
       "<tr>\n",
       "  <th>Date:</th>             <td>Sun, 10 Jul 2022</td> <th>  Prob (F-statistic):</th> <td>1.47e-42</td>\n",
       "</tr>\n",
       "<tr>\n",
       "  <th>Time:</th>                 <td>13:02:47</td>     <th>  Log-Likelihood:    </th> <td> -519.05</td>\n",
       "</tr>\n",
       "<tr>\n",
       "  <th>No. Observations:</th>      <td>   200</td>      <th>  AIC:               </th> <td>   1042.</td>\n",
       "</tr>\n",
       "<tr>\n",
       "  <th>Df Residuals:</th>          <td>   198</td>      <th>  BIC:               </th> <td>   1049.</td>\n",
       "</tr>\n",
       "<tr>\n",
       "  <th>Df Model:</th>              <td>     1</td>      <th>                     </th>     <td> </td>   \n",
       "</tr>\n",
       "<tr>\n",
       "  <th>Covariance Type:</th>      <td>nonrobust</td>    <th>                     </th>     <td> </td>   \n",
       "</tr>\n",
       "</table>\n",
       "<table class=\"simpletable\">\n",
       "<tr>\n",
       "    <td></td>       <th>coef</th>     <th>std err</th>      <th>t</th>      <th>P>|t|</th>  <th>[0.025</th>    <th>0.975]</th>  \n",
       "</tr>\n",
       "<tr>\n",
       "  <th>const</th> <td>    7.0326</td> <td>    0.458</td> <td>   15.360</td> <td> 0.000</td> <td>    6.130</td> <td>    7.935</td>\n",
       "</tr>\n",
       "<tr>\n",
       "  <th>TV</th>    <td>    0.0475</td> <td>    0.003</td> <td>   17.668</td> <td> 0.000</td> <td>    0.042</td> <td>    0.053</td>\n",
       "</tr>\n",
       "</table>\n",
       "<table class=\"simpletable\">\n",
       "<tr>\n",
       "  <th>Omnibus:</th>       <td> 0.531</td> <th>  Durbin-Watson:     </th> <td>   1.935</td>\n",
       "</tr>\n",
       "<tr>\n",
       "  <th>Prob(Omnibus):</th> <td> 0.767</td> <th>  Jarque-Bera (JB):  </th> <td>   0.669</td>\n",
       "</tr>\n",
       "<tr>\n",
       "  <th>Skew:</th>          <td>-0.089</td> <th>  Prob(JB):          </th> <td>   0.716</td>\n",
       "</tr>\n",
       "<tr>\n",
       "  <th>Kurtosis:</th>      <td> 2.779</td> <th>  Cond. No.          </th> <td>    338.</td>\n",
       "</tr>\n",
       "</table><br/><br/>Notes:<br/>[1] Standard Errors assume that the covariance matrix of the errors is correctly specified."
      ],
      "text/plain": [
       "<class 'statsmodels.iolib.summary.Summary'>\n",
       "\"\"\"\n",
       "                            OLS Regression Results                            \n",
       "==============================================================================\n",
       "Dep. Variable:                  sales   R-squared:                       0.612\n",
       "Model:                            OLS   Adj. R-squared:                  0.610\n",
       "Method:                 Least Squares   F-statistic:                     312.1\n",
       "Date:                Sun, 10 Jul 2022   Prob (F-statistic):           1.47e-42\n",
       "Time:                        13:02:47   Log-Likelihood:                -519.05\n",
       "No. Observations:                 200   AIC:                             1042.\n",
       "Df Residuals:                     198   BIC:                             1049.\n",
       "Df Model:                           1                                         \n",
       "Covariance Type:            nonrobust                                         \n",
       "==============================================================================\n",
       "                 coef    std err          t      P>|t|      [0.025      0.975]\n",
       "------------------------------------------------------------------------------\n",
       "const          7.0326      0.458     15.360      0.000       6.130       7.935\n",
       "TV             0.0475      0.003     17.668      0.000       0.042       0.053\n",
       "==============================================================================\n",
       "Omnibus:                        0.531   Durbin-Watson:                   1.935\n",
       "Prob(Omnibus):                  0.767   Jarque-Bera (JB):                0.669\n",
       "Skew:                          -0.089   Prob(JB):                        0.716\n",
       "Kurtosis:                       2.779   Cond. No.                         338.\n",
       "==============================================================================\n",
       "\n",
       "Notes:\n",
       "[1] Standard Errors assume that the covariance matrix of the errors is correctly specified.\n",
       "\"\"\""
      ]
     },
     "execution_count": 465,
     "metadata": {},
     "output_type": "execute_result"
    }
   ],
   "source": [
    "slr_model2 = sm.OLS(y,X_b)\n",
    "slr_model2.fit().summary()"
   ]
  },
  {
   "cell_type": "markdown",
   "id": "110ad6c5",
   "metadata": {},
   "source": [
    "#### Considering a model with no relationship between predictor and response"
   ]
  },
  {
   "cell_type": "code",
   "execution_count": 466,
   "id": "fabad86f",
   "metadata": {},
   "outputs": [
    {
     "data": {
      "text/plain": [
       "<matplotlib.collections.PathCollection at 0x1ce6579df10>"
      ]
     },
     "execution_count": 466,
     "metadata": {},
     "output_type": "execute_result"
    },
    {
     "data": {
      "image/png": "[encoded data removed]",
      "text/plain": [
       "<Figure size 640x480 with 1 Axes>"
      ]
     },
     "metadata": {},
     "output_type": "display_data"
    }
   ],
   "source": [
    "x_random = np.random.uniform(0,1,1000)\n",
    "y_random = np.random.uniform(0,1,1000)\n",
    "plt.scatter(x_random, y_random)"
   ]
  },
  {
   "cell_type": "code",
   "execution_count": 467,
   "id": "d8c83629",
   "metadata": {},
   "outputs": [
    {
     "data": {
      "text/html": [
       "<table class=\"simpletable\">\n",
       "<caption>OLS Regression Results</caption>\n",
       "<tr>\n",
       "  <th>Dep. Variable:</th>            <td>y</td>        <th>  R-squared:         </th> <td>   0.000</td>\n",
       "</tr>\n",
       "<tr>\n",
       "  <th>Model:</th>                   <td>OLS</td>       <th>  Adj. R-squared:    </th> <td>  -0.001</td>\n",
       "</tr>\n",
       "<tr>\n",
       "  <th>Method:</th>             <td>Least Squares</td>  <th>  F-statistic:       </th> <td>  0.1509</td>\n",
       "</tr>\n",
       "<tr>\n",
       "  <th>Date:</th>             <td>Sun, 10 Jul 2022</td> <th>  Prob (F-statistic):</th>  <td> 0.698</td> \n",
       "</tr>\n",
       "<tr>\n",
       "  <th>Time:</th>                 <td>13:02:48</td>     <th>  Log-Likelihood:    </th> <td> -187.18</td>\n",
       "</tr>\n",
       "<tr>\n",
       "  <th>No. Observations:</th>      <td>  1000</td>      <th>  AIC:               </th> <td>   378.4</td>\n",
       "</tr>\n",
       "<tr>\n",
       "  <th>Df Residuals:</th>          <td>   998</td>      <th>  BIC:               </th> <td>   388.2</td>\n",
       "</tr>\n",
       "<tr>\n",
       "  <th>Df Model:</th>              <td>     1</td>      <th>                     </th>     <td> </td>   \n",
       "</tr>\n",
       "<tr>\n",
       "  <th>Covariance Type:</th>      <td>nonrobust</td>    <th>                     </th>     <td> </td>   \n",
       "</tr>\n",
       "</table>\n",
       "<table class=\"simpletable\">\n",
       "<tr>\n",
       "    <td></td>       <th>coef</th>     <th>std err</th>      <th>t</th>      <th>P>|t|</th>  <th>[0.025</th>    <th>0.975]</th>  \n",
       "</tr>\n",
       "<tr>\n",
       "  <th>const</th> <td>    0.5066</td> <td>    0.019</td> <td>   27.140</td> <td> 0.000</td> <td>    0.470</td> <td>    0.543</td>\n",
       "</tr>\n",
       "<tr>\n",
       "  <th>x1</th>    <td>   -0.0125</td> <td>    0.032</td> <td>   -0.389</td> <td> 0.698</td> <td>   -0.076</td> <td>    0.051</td>\n",
       "</tr>\n",
       "</table>\n",
       "<table class=\"simpletable\">\n",
       "<tr>\n",
       "  <th>Omnibus:</th>       <td>757.113</td> <th>  Durbin-Watson:     </th> <td>   2.077</td>\n",
       "</tr>\n",
       "<tr>\n",
       "  <th>Prob(Omnibus):</th> <td> 0.000</td>  <th>  Jarque-Bera (JB):  </th> <td>  60.384</td>\n",
       "</tr>\n",
       "<tr>\n",
       "  <th>Skew:</th>          <td>-0.009</td>  <th>  Prob(JB):          </th> <td>7.72e-14</td>\n",
       "</tr>\n",
       "<tr>\n",
       "  <th>Kurtosis:</th>      <td> 1.796</td>  <th>  Cond. No.          </th> <td>    4.43</td>\n",
       "</tr>\n",
       "</table><br/><br/>Notes:<br/>[1] Standard Errors assume that the covariance matrix of the errors is correctly specified."
      ],
      "text/plain": [
       "<class 'statsmodels.iolib.summary.Summary'>\n",
       "\"\"\"\n",
       "                            OLS Regression Results                            \n",
       "==============================================================================\n",
       "Dep. Variable:                      y   R-squared:                       0.000\n",
       "Model:                            OLS   Adj. R-squared:                 -0.001\n",
       "Method:                 Least Squares   F-statistic:                    0.1509\n",
       "Date:                Sun, 10 Jul 2022   Prob (F-statistic):              0.698\n",
       "Time:                        13:02:48   Log-Likelihood:                -187.18\n",
       "No. Observations:                1000   AIC:                             378.4\n",
       "Df Residuals:                     998   BIC:                             388.2\n",
       "Df Model:                           1                                         \n",
       "Covariance Type:            nonrobust                                         \n",
       "==============================================================================\n",
       "                 coef    std err          t      P>|t|      [0.025      0.975]\n",
       "------------------------------------------------------------------------------\n",
       "const          0.5066      0.019     27.140      0.000       0.470       0.543\n",
       "x1            -0.0125      0.032     -0.389      0.698      -0.076       0.051\n",
       "==============================================================================\n",
       "Omnibus:                      757.113   Durbin-Watson:                   2.077\n",
       "Prob(Omnibus):                  0.000   Jarque-Bera (JB):               60.384\n",
       "Skew:                          -0.009   Prob(JB):                     7.72e-14\n",
       "Kurtosis:                       1.796   Cond. No.                         4.43\n",
       "==============================================================================\n",
       "\n",
       "Notes:\n",
       "[1] Standard Errors assume that the covariance matrix of the errors is correctly specified.\n",
       "\"\"\""
      ]
     },
     "execution_count": 467,
     "metadata": {},
     "output_type": "execute_result"
    }
   ],
   "source": [
    "sm.OLS(y_random, sm.add_constant(x_random)).fit().summary()"
   ]
  },
  {
   "cell_type": "markdown",
   "id": "c6bdab40",
   "metadata": {},
   "source": [
    "### Assessing the Accuracy of the Model"
   ]
  },
  {
   "cell_type": "markdown",
   "id": "1f62dd01",
   "metadata": {},
   "source": [
    "Assess the model's fit to the data"
   ]
  },
  {
   "cell_type": "code",
   "execution_count": 468,
   "id": "bc12c783",
   "metadata": {},
   "outputs": [
    {
     "data": {
      "text/plain": [
       "0.611875050850071"
      ]
     },
     "execution_count": 468,
     "metadata": {},
     "output_type": "execute_result"
    }
   ],
   "source": [
    "slr_model.score(X,y)  # R-Square is the default score for linear regression models"
   ]
  },
  {
   "cell_type": "code",
   "execution_count": 469,
   "id": "5ba35cd3",
   "metadata": {},
   "outputs": [
    {
     "data": {
      "text/plain": [
       "0.611875050850071"
      ]
     },
     "execution_count": 469,
     "metadata": {},
     "output_type": "execute_result"
    }
   ],
   "source": [
    "from sklearn import metrics\n",
    "metrics.r2_score(y, y_hat)"
   ]
  },
  {
   "cell_type": "code",
   "execution_count": 470,
   "id": "5f056382",
   "metadata": {},
   "outputs": [
    {
     "data": {
      "text/plain": [
       "10.512652915656759"
      ]
     },
     "execution_count": 470,
     "metadata": {},
     "output_type": "execute_result"
    }
   ],
   "source": [
    "metrics.mean_squared_error(y, y_hat)"
   ]
  },
  {
   "cell_type": "code",
   "execution_count": 471,
   "id": "cc7bc51d",
   "metadata": {},
   "outputs": [
    {
     "data": {
      "text/plain": [
       "2.549806038927486"
      ]
     },
     "execution_count": 471,
     "metadata": {},
     "output_type": "execute_result"
    }
   ],
   "source": [
    "metrics.mean_absolute_error(y, y_hat)"
   ]
  },
  {
   "cell_type": "code",
   "execution_count": 472,
   "id": "5d72bf1c",
   "metadata": {},
   "outputs": [
    {
     "data": {
      "text/plain": [
       "8.38598195694426"
      ]
     },
     "execution_count": 472,
     "metadata": {},
     "output_type": "execute_result"
    }
   ],
   "source": [
    "metrics.max_error(y, y_hat)"
   ]
  },
  {
   "cell_type": "markdown",
   "id": "0ddaf40a",
   "metadata": {},
   "source": [
    "Find the Residual Standard Error (RSE)"
   ]
  },
  {
   "cell_type": "code",
   "execution_count": 473,
   "id": "6c13e17c",
   "metadata": {},
   "outputs": [
    {
     "data": {
      "text/plain": [
       "3.2586563686504624"
      ]
     },
     "execution_count": 473,
     "metadata": {},
     "output_type": "execute_result"
    }
   ],
   "source": [
    "slr_model2_rse = np.sqrt(slr_model2.fit().mse_resid)\n",
    "slr_model2_rse"
   ]
  },
  {
   "cell_type": "code",
   "execution_count": 474,
   "id": "af5a5ac7",
   "metadata": {},
   "outputs": [
    {
     "data": {
      "text/plain": [
       "198.0"
      ]
     },
     "execution_count": 474,
     "metadata": {},
     "output_type": "execute_result"
    }
   ],
   "source": [
    "slr_model2.fit().df_resid"
   ]
  },
  {
   "cell_type": "code",
   "execution_count": 475,
   "id": "d6565a3a",
   "metadata": {
    "scrolled": true
   },
   "outputs": [
    {
     "data": {
      "text/plain": [
       "3.258656368650462"
      ]
     },
     "execution_count": 475,
     "metadata": {},
     "output_type": "execute_result"
    }
   ],
   "source": [
    "slr_model2_rse = np.sqrt(sum(slr_model2.fit().resid**2)/slr_model2.fit().df_resid)\n",
    "slr_model2_rse"
   ]
  },
  {
   "cell_type": "markdown",
   "id": "799d065a",
   "metadata": {},
   "source": [
    "## Create multiple linear regression to model sales as a function of all budgets"
   ]
  },
  {
   "cell_type": "markdown",
   "id": "55d6e848",
   "metadata": {},
   "source": [
    "Instantiate a new model"
   ]
  },
  {
   "cell_type": "code",
   "execution_count": 476,
   "id": "03612df6",
   "metadata": {},
   "outputs": [],
   "source": [
    "mlr_model = LinearRegression(fit_intercept=True)"
   ]
  },
  {
   "cell_type": "markdown",
   "id": "6bdefc4f",
   "metadata": {},
   "source": [
    "Prepare the data"
   ]
  },
  {
   "cell_type": "code",
   "execution_count": 477,
   "id": "e696d434",
   "metadata": {},
   "outputs": [
    {
     "data": {
      "text/html": [
       "<div>\n",
       "<style scoped>\n",
       "    .dataframe tbody tr th:only-of-type {\n",
       "        vertical-align: middle;\n",
       "    }\n",
       "\n",
       "    .dataframe tbody tr th {\n",
       "        vertical-align: top;\n",
       "    }\n",
       "\n",
       "    .dataframe thead th {\n",
       "        text-align: right;\n",
       "    }\n",
       "</style>\n",
       "<table border=\"1\" class=\"dataframe\">\n",
       "  <thead>\n",
       "    <tr style=\"text-align: right;\">\n",
       "      <th></th>\n",
       "      <th>TV</th>\n",
       "      <th>radio</th>\n",
       "      <th>newspaper</th>\n",
       "    </tr>\n",
       "  </thead>\n",
       "  <tbody>\n",
       "    <tr>\n",
       "      <th>0</th>\n",
       "      <td>230.1</td>\n",
       "      <td>37.8</td>\n",
       "      <td>69.2</td>\n",
       "    </tr>\n",
       "    <tr>\n",
       "      <th>1</th>\n",
       "      <td>44.5</td>\n",
       "      <td>39.3</td>\n",
       "      <td>45.1</td>\n",
       "    </tr>\n",
       "    <tr>\n",
       "      <th>2</th>\n",
       "      <td>17.2</td>\n",
       "      <td>45.9</td>\n",
       "      <td>69.3</td>\n",
       "    </tr>\n",
       "    <tr>\n",
       "      <th>3</th>\n",
       "      <td>151.5</td>\n",
       "      <td>41.3</td>\n",
       "      <td>58.5</td>\n",
       "    </tr>\n",
       "    <tr>\n",
       "      <th>4</th>\n",
       "      <td>180.8</td>\n",
       "      <td>10.8</td>\n",
       "      <td>58.4</td>\n",
       "    </tr>\n",
       "    <tr>\n",
       "      <th>...</th>\n",
       "      <td>...</td>\n",
       "      <td>...</td>\n",
       "      <td>...</td>\n",
       "    </tr>\n",
       "    <tr>\n",
       "      <th>195</th>\n",
       "      <td>38.2</td>\n",
       "      <td>3.7</td>\n",
       "      <td>13.8</td>\n",
       "    </tr>\n",
       "    <tr>\n",
       "      <th>196</th>\n",
       "      <td>94.2</td>\n",
       "      <td>4.9</td>\n",
       "      <td>8.1</td>\n",
       "    </tr>\n",
       "    <tr>\n",
       "      <th>197</th>\n",
       "      <td>177.0</td>\n",
       "      <td>9.3</td>\n",
       "      <td>6.4</td>\n",
       "    </tr>\n",
       "    <tr>\n",
       "      <th>198</th>\n",
       "      <td>283.6</td>\n",
       "      <td>42.0</td>\n",
       "      <td>66.2</td>\n",
       "    </tr>\n",
       "    <tr>\n",
       "      <th>199</th>\n",
       "      <td>232.1</td>\n",
       "      <td>8.6</td>\n",
       "      <td>8.7</td>\n",
       "    </tr>\n",
       "  </tbody>\n",
       "</table>\n",
       "<p>200 rows × 3 columns</p>\n",
       "</div>"
      ],
      "text/plain": [
       "        TV  radio  newspaper\n",
       "0    230.1   37.8       69.2\n",
       "1     44.5   39.3       45.1\n",
       "2     17.2   45.9       69.3\n",
       "3    151.5   41.3       58.5\n",
       "4    180.8   10.8       58.4\n",
       "..     ...    ...        ...\n",
       "195   38.2    3.7       13.8\n",
       "196   94.2    4.9        8.1\n",
       "197  177.0    9.3        6.4\n",
       "198  283.6   42.0       66.2\n",
       "199  232.1    8.6        8.7\n",
       "\n",
       "[200 rows x 3 columns]"
      ]
     },
     "execution_count": 477,
     "metadata": {},
     "output_type": "execute_result"
    }
   ],
   "source": [
    "y = advertising['sales']\n",
    "X2 = advertising[['TV', 'radio', 'newspaper']]\n",
    "X2"
   ]
  },
  {
   "cell_type": "markdown",
   "id": "0a914851",
   "metadata": {},
   "source": [
    "Fit the model"
   ]
  },
  {
   "cell_type": "code",
   "execution_count": 478,
   "id": "17cf77ed",
   "metadata": {
    "scrolled": true
   },
   "outputs": [
    {
     "data": {
      "text/plain": [
       "LinearRegression()"
      ]
     },
     "execution_count": 478,
     "metadata": {},
     "output_type": "execute_result"
    }
   ],
   "source": [
    "mlr_model.fit(X2,y)"
   ]
  },
  {
   "cell_type": "markdown",
   "id": "bd0d6c32",
   "metadata": {},
   "source": [
    "Investigate the model"
   ]
  },
  {
   "cell_type": "code",
   "execution_count": 479,
   "id": "3165eb3d",
   "metadata": {},
   "outputs": [
    {
     "data": {
      "text/plain": [
       "2.9388893694594067"
      ]
     },
     "execution_count": 479,
     "metadata": {},
     "output_type": "execute_result"
    }
   ],
   "source": [
    "mlr_model.intercept_"
   ]
  },
  {
   "cell_type": "code",
   "execution_count": 480,
   "id": "49dd1995",
   "metadata": {},
   "outputs": [
    {
     "data": {
      "text/plain": [
       "array([ 0.04576465,  0.18853002, -0.00103749])"
      ]
     },
     "execution_count": 480,
     "metadata": {},
     "output_type": "execute_result"
    }
   ],
   "source": [
    "mlr_model.coef_"
   ]
  },
  {
   "cell_type": "markdown",
   "id": "6999820d",
   "metadata": {},
   "source": [
    "Plot the predictions against the data"
   ]
  },
  {
   "cell_type": "code",
   "execution_count": 481,
   "id": "2c117c0d",
   "metadata": {},
   "outputs": [],
   "source": [
    "y_hat = mlr_model.predict(X2)"
   ]
  },
  {
   "cell_type": "code",
   "execution_count": 482,
   "id": "4266bf65",
   "metadata": {},
   "outputs": [
    {
     "data": {
      "image/png": "[encoded data removed]",
      "text/plain": [
       "<Figure size 640x480 with 1 Axes>"
      ]
     },
     "metadata": {},
     "output_type": "display_data"
    }
   ],
   "source": [
    "#  Plot the residuals against the actual values\n",
    "plt.scatter(x = y, y = y_hat)\n",
    "plt.title('MLR Model Results')\n",
    "plt.xlabel('Actual Sales')\n",
    "plt.ylabel('Predicted Sales')\n",
    "plt.plot([0, 30], [0, 30], color = 'black', linewidth = 2)\n",
    "p1 = plt.show()"
   ]
  },
  {
   "cell_type": "code",
   "execution_count": 483,
   "id": "20831f00",
   "metadata": {},
   "outputs": [
    {
     "data": {
      "image/png": "[encoded data removed]",
      "text/plain": [
       "<Figure size 640x480 with 1 Axes>"
      ]
     },
     "metadata": {},
     "output_type": "display_data"
    }
   ],
   "source": [
    "#  Plot the residuals against the actual values\n",
    "residuals = y - y_hat\n",
    "plt.scatter(x= y, y = residuals)\n",
    "plt.title('MLR Model Residuals Plot')\n",
    "plt.xlabel('Actual Sales')\n",
    "plt.ylabel('Residuals')\n",
    "plt.plot([0, 30], [0,0], color = 'black', linewidth = 2)\n",
    "p1 = plt.show()"
   ]
  },
  {
   "cell_type": "code",
   "execution_count": 484,
   "id": "c4cce419",
   "metadata": {},
   "outputs": [
    {
     "data": {
      "text/plain": [
       "<AxesSubplot:xlabel='sales'>"
      ]
     },
     "execution_count": 484,
     "metadata": {},
     "output_type": "execute_result"
    },
    {
     "data": {
      "image/png": "[encoded data removed]",
      "text/plain": [
       "<Figure size 640x480 with 1 Axes>"
      ]
     },
     "metadata": {},
     "output_type": "display_data"
    }
   ],
   "source": [
    "sns.residplot(x = y, y = mlr_model.predict(X2))"
   ]
  },
  {
   "cell_type": "markdown",
   "id": "ff9d49f7",
   "metadata": {},
   "source": [
    "Assess the model's fit to the data"
   ]
  },
  {
   "cell_type": "code",
   "execution_count": 485,
   "id": "7a504a83",
   "metadata": {},
   "outputs": [
    {
     "data": {
      "text/plain": [
       "0.8972106381789522"
      ]
     },
     "execution_count": 485,
     "metadata": {},
     "output_type": "execute_result"
    }
   ],
   "source": [
    "metrics.r2_score(y, y_hat)"
   ]
  },
  {
   "cell_type": "code",
   "execution_count": 486,
   "id": "84a3cc5e",
   "metadata": {},
   "outputs": [
    {
     "data": {
      "text/plain": [
       "2.784126314510936"
      ]
     },
     "execution_count": 486,
     "metadata": {},
     "output_type": "execute_result"
    }
   ],
   "source": [
    "metrics.mean_squared_error(y, y_hat)"
   ]
  },
  {
   "cell_type": "code",
   "execution_count": 487,
   "id": "d4570cab",
   "metadata": {},
   "outputs": [
    {
     "data": {
      "text/plain": [
       "1.2520112296870687"
      ]
     },
     "execution_count": 487,
     "metadata": {},
     "output_type": "execute_result"
    }
   ],
   "source": [
    "metrics.mean_absolute_error(y, y_hat)"
   ]
  },
  {
   "cell_type": "markdown",
   "id": "f8805531",
   "metadata": {},
   "source": [
    "#### Coefficient Significance Analysis"
   ]
  },
  {
   "cell_type": "markdown",
   "id": "15fdd267",
   "metadata": {},
   "source": [
    "Looking at other possible SLR models"
   ]
  },
  {
   "cell_type": "code",
   "execution_count": 488,
   "id": "581dae51",
   "metadata": {},
   "outputs": [
    {
     "data": {
      "text/html": [
       "<table class=\"simpletable\">\n",
       "<caption>OLS Regression Results</caption>\n",
       "<tr>\n",
       "  <th>Dep. Variable:</th>          <td>sales</td>      <th>  R-squared:         </th> <td>   0.332</td>\n",
       "</tr>\n",
       "<tr>\n",
       "  <th>Model:</th>                   <td>OLS</td>       <th>  Adj. R-squared:    </th> <td>   0.329</td>\n",
       "</tr>\n",
       "<tr>\n",
       "  <th>Method:</th>             <td>Least Squares</td>  <th>  F-statistic:       </th> <td>   98.42</td>\n",
       "</tr>\n",
       "<tr>\n",
       "  <th>Date:</th>             <td>Sun, 10 Jul 2022</td> <th>  Prob (F-statistic):</th> <td>4.35e-19</td>\n",
       "</tr>\n",
       "<tr>\n",
       "  <th>Time:</th>                 <td>13:02:48</td>     <th>  Log-Likelihood:    </th> <td> -573.34</td>\n",
       "</tr>\n",
       "<tr>\n",
       "  <th>No. Observations:</th>      <td>   200</td>      <th>  AIC:               </th> <td>   1151.</td>\n",
       "</tr>\n",
       "<tr>\n",
       "  <th>Df Residuals:</th>          <td>   198</td>      <th>  BIC:               </th> <td>   1157.</td>\n",
       "</tr>\n",
       "<tr>\n",
       "  <th>Df Model:</th>              <td>     1</td>      <th>                     </th>     <td> </td>   \n",
       "</tr>\n",
       "<tr>\n",
       "  <th>Covariance Type:</th>      <td>nonrobust</td>    <th>                     </th>     <td> </td>   \n",
       "</tr>\n",
       "</table>\n",
       "<table class=\"simpletable\">\n",
       "<tr>\n",
       "    <td></td>       <th>coef</th>     <th>std err</th>      <th>t</th>      <th>P>|t|</th>  <th>[0.025</th>    <th>0.975]</th>  \n",
       "</tr>\n",
       "<tr>\n",
       "  <th>const</th> <td>    9.3116</td> <td>    0.563</td> <td>   16.542</td> <td> 0.000</td> <td>    8.202</td> <td>   10.422</td>\n",
       "</tr>\n",
       "<tr>\n",
       "  <th>radio</th> <td>    0.2025</td> <td>    0.020</td> <td>    9.921</td> <td> 0.000</td> <td>    0.162</td> <td>    0.243</td>\n",
       "</tr>\n",
       "</table>\n",
       "<table class=\"simpletable\">\n",
       "<tr>\n",
       "  <th>Omnibus:</th>       <td>19.358</td> <th>  Durbin-Watson:     </th> <td>   1.946</td>\n",
       "</tr>\n",
       "<tr>\n",
       "  <th>Prob(Omnibus):</th> <td> 0.000</td> <th>  Jarque-Bera (JB):  </th> <td>  21.910</td>\n",
       "</tr>\n",
       "<tr>\n",
       "  <th>Skew:</th>          <td>-0.764</td> <th>  Prob(JB):          </th> <td>1.75e-05</td>\n",
       "</tr>\n",
       "<tr>\n",
       "  <th>Kurtosis:</th>      <td> 3.544</td> <th>  Cond. No.          </th> <td>    51.4</td>\n",
       "</tr>\n",
       "</table><br/><br/>Notes:<br/>[1] Standard Errors assume that the covariance matrix of the errors is correctly specified."
      ],
      "text/plain": [
       "<class 'statsmodels.iolib.summary.Summary'>\n",
       "\"\"\"\n",
       "                            OLS Regression Results                            \n",
       "==============================================================================\n",
       "Dep. Variable:                  sales   R-squared:                       0.332\n",
       "Model:                            OLS   Adj. R-squared:                  0.329\n",
       "Method:                 Least Squares   F-statistic:                     98.42\n",
       "Date:                Sun, 10 Jul 2022   Prob (F-statistic):           4.35e-19\n",
       "Time:                        13:02:48   Log-Likelihood:                -573.34\n",
       "No. Observations:                 200   AIC:                             1151.\n",
       "Df Residuals:                     198   BIC:                             1157.\n",
       "Df Model:                           1                                         \n",
       "Covariance Type:            nonrobust                                         \n",
       "==============================================================================\n",
       "                 coef    std err          t      P>|t|      [0.025      0.975]\n",
       "------------------------------------------------------------------------------\n",
       "const          9.3116      0.563     16.542      0.000       8.202      10.422\n",
       "radio          0.2025      0.020      9.921      0.000       0.162       0.243\n",
       "==============================================================================\n",
       "Omnibus:                       19.358   Durbin-Watson:                   1.946\n",
       "Prob(Omnibus):                  0.000   Jarque-Bera (JB):               21.910\n",
       "Skew:                          -0.764   Prob(JB):                     1.75e-05\n",
       "Kurtosis:                       3.544   Cond. No.                         51.4\n",
       "==============================================================================\n",
       "\n",
       "Notes:\n",
       "[1] Standard Errors assume that the covariance matrix of the errors is correctly specified.\n",
       "\"\"\""
      ]
     },
     "execution_count": 488,
     "metadata": {},
     "output_type": "execute_result"
    }
   ],
   "source": [
    "sm.OLS(y,sm.add_constant(advertising['radio'])).fit().summary()"
   ]
  },
  {
   "cell_type": "code",
   "execution_count": 489,
   "id": "e0d6cb47",
   "metadata": {
    "scrolled": true
   },
   "outputs": [
    {
     "data": {
      "text/html": [
       "<table class=\"simpletable\">\n",
       "<caption>OLS Regression Results</caption>\n",
       "<tr>\n",
       "  <th>Dep. Variable:</th>          <td>sales</td>      <th>  R-squared:         </th> <td>   0.052</td>\n",
       "</tr>\n",
       "<tr>\n",
       "  <th>Model:</th>                   <td>OLS</td>       <th>  Adj. R-squared:    </th> <td>   0.047</td>\n",
       "</tr>\n",
       "<tr>\n",
       "  <th>Method:</th>             <td>Least Squares</td>  <th>  F-statistic:       </th> <td>   10.89</td>\n",
       "</tr>\n",
       "<tr>\n",
       "  <th>Date:</th>             <td>Sun, 10 Jul 2022</td> <th>  Prob (F-statistic):</th>  <td>0.00115</td>\n",
       "</tr>\n",
       "<tr>\n",
       "  <th>Time:</th>                 <td>13:02:48</td>     <th>  Log-Likelihood:    </th> <td> -608.34</td>\n",
       "</tr>\n",
       "<tr>\n",
       "  <th>No. Observations:</th>      <td>   200</td>      <th>  AIC:               </th> <td>   1221.</td>\n",
       "</tr>\n",
       "<tr>\n",
       "  <th>Df Residuals:</th>          <td>   198</td>      <th>  BIC:               </th> <td>   1227.</td>\n",
       "</tr>\n",
       "<tr>\n",
       "  <th>Df Model:</th>              <td>     1</td>      <th>                     </th>     <td> </td>   \n",
       "</tr>\n",
       "<tr>\n",
       "  <th>Covariance Type:</th>      <td>nonrobust</td>    <th>                     </th>     <td> </td>   \n",
       "</tr>\n",
       "</table>\n",
       "<table class=\"simpletable\">\n",
       "<tr>\n",
       "      <td></td>         <th>coef</th>     <th>std err</th>      <th>t</th>      <th>P>|t|</th>  <th>[0.025</th>    <th>0.975]</th>  \n",
       "</tr>\n",
       "<tr>\n",
       "  <th>const</th>     <td>   12.3514</td> <td>    0.621</td> <td>   19.876</td> <td> 0.000</td> <td>   11.126</td> <td>   13.577</td>\n",
       "</tr>\n",
       "<tr>\n",
       "  <th>newspaper</th> <td>    0.0547</td> <td>    0.017</td> <td>    3.300</td> <td> 0.001</td> <td>    0.022</td> <td>    0.087</td>\n",
       "</tr>\n",
       "</table>\n",
       "<table class=\"simpletable\">\n",
       "<tr>\n",
       "  <th>Omnibus:</th>       <td> 6.231</td> <th>  Durbin-Watson:     </th> <td>   1.983</td>\n",
       "</tr>\n",
       "<tr>\n",
       "  <th>Prob(Omnibus):</th> <td> 0.044</td> <th>  Jarque-Bera (JB):  </th> <td>   5.483</td>\n",
       "</tr>\n",
       "<tr>\n",
       "  <th>Skew:</th>          <td> 0.330</td> <th>  Prob(JB):          </th> <td>  0.0645</td>\n",
       "</tr>\n",
       "<tr>\n",
       "  <th>Kurtosis:</th>      <td> 2.527</td> <th>  Cond. No.          </th> <td>    64.7</td>\n",
       "</tr>\n",
       "</table><br/><br/>Notes:<br/>[1] Standard Errors assume that the covariance matrix of the errors is correctly specified."
      ],
      "text/plain": [
       "<class 'statsmodels.iolib.summary.Summary'>\n",
       "\"\"\"\n",
       "                            OLS Regression Results                            \n",
       "==============================================================================\n",
       "Dep. Variable:                  sales   R-squared:                       0.052\n",
       "Model:                            OLS   Adj. R-squared:                  0.047\n",
       "Method:                 Least Squares   F-statistic:                     10.89\n",
       "Date:                Sun, 10 Jul 2022   Prob (F-statistic):            0.00115\n",
       "Time:                        13:02:48   Log-Likelihood:                -608.34\n",
       "No. Observations:                 200   AIC:                             1221.\n",
       "Df Residuals:                     198   BIC:                             1227.\n",
       "Df Model:                           1                                         \n",
       "Covariance Type:            nonrobust                                         \n",
       "==============================================================================\n",
       "                 coef    std err          t      P>|t|      [0.025      0.975]\n",
       "------------------------------------------------------------------------------\n",
       "const         12.3514      0.621     19.876      0.000      11.126      13.577\n",
       "newspaper      0.0547      0.017      3.300      0.001       0.022       0.087\n",
       "==============================================================================\n",
       "Omnibus:                        6.231   Durbin-Watson:                   1.983\n",
       "Prob(Omnibus):                  0.044   Jarque-Bera (JB):                5.483\n",
       "Skew:                           0.330   Prob(JB):                       0.0645\n",
       "Kurtosis:                       2.527   Cond. No.                         64.7\n",
       "==============================================================================\n",
       "\n",
       "Notes:\n",
       "[1] Standard Errors assume that the covariance matrix of the errors is correctly specified.\n",
       "\"\"\""
      ]
     },
     "execution_count": 489,
     "metadata": {},
     "output_type": "execute_result"
    }
   ],
   "source": [
    "sm.OLS(y,sm.add_constant(advertising['newspaper'])).fit().summary()"
   ]
  },
  {
   "cell_type": "code",
   "execution_count": 490,
   "id": "75448145",
   "metadata": {},
   "outputs": [
    {
     "data": {
      "text/html": [
       "<table class=\"simpletable\">\n",
       "<caption>OLS Regression Results</caption>\n",
       "<tr>\n",
       "  <th>Dep. Variable:</th>          <td>sales</td>      <th>  R-squared:         </th> <td>   0.897</td>\n",
       "</tr>\n",
       "<tr>\n",
       "  <th>Model:</th>                   <td>OLS</td>       <th>  Adj. R-squared:    </th> <td>   0.896</td>\n",
       "</tr>\n",
       "<tr>\n",
       "  <th>Method:</th>             <td>Least Squares</td>  <th>  F-statistic:       </th> <td>   570.3</td>\n",
       "</tr>\n",
       "<tr>\n",
       "  <th>Date:</th>             <td>Sun, 10 Jul 2022</td> <th>  Prob (F-statistic):</th> <td>1.58e-96</td>\n",
       "</tr>\n",
       "<tr>\n",
       "  <th>Time:</th>                 <td>13:02:48</td>     <th>  Log-Likelihood:    </th> <td> -386.18</td>\n",
       "</tr>\n",
       "<tr>\n",
       "  <th>No. Observations:</th>      <td>   200</td>      <th>  AIC:               </th> <td>   780.4</td>\n",
       "</tr>\n",
       "<tr>\n",
       "  <th>Df Residuals:</th>          <td>   196</td>      <th>  BIC:               </th> <td>   793.6</td>\n",
       "</tr>\n",
       "<tr>\n",
       "  <th>Df Model:</th>              <td>     3</td>      <th>                     </th>     <td> </td>   \n",
       "</tr>\n",
       "<tr>\n",
       "  <th>Covariance Type:</th>      <td>nonrobust</td>    <th>                     </th>     <td> </td>   \n",
       "</tr>\n",
       "</table>\n",
       "<table class=\"simpletable\">\n",
       "<tr>\n",
       "      <td></td>         <th>coef</th>     <th>std err</th>      <th>t</th>      <th>P>|t|</th>  <th>[0.025</th>    <th>0.975]</th>  \n",
       "</tr>\n",
       "<tr>\n",
       "  <th>const</th>     <td>    2.9389</td> <td>    0.312</td> <td>    9.422</td> <td> 0.000</td> <td>    2.324</td> <td>    3.554</td>\n",
       "</tr>\n",
       "<tr>\n",
       "  <th>TV</th>        <td>    0.0458</td> <td>    0.001</td> <td>   32.809</td> <td> 0.000</td> <td>    0.043</td> <td>    0.049</td>\n",
       "</tr>\n",
       "<tr>\n",
       "  <th>radio</th>     <td>    0.1885</td> <td>    0.009</td> <td>   21.893</td> <td> 0.000</td> <td>    0.172</td> <td>    0.206</td>\n",
       "</tr>\n",
       "<tr>\n",
       "  <th>newspaper</th> <td>   -0.0010</td> <td>    0.006</td> <td>   -0.177</td> <td> 0.860</td> <td>   -0.013</td> <td>    0.011</td>\n",
       "</tr>\n",
       "</table>\n",
       "<table class=\"simpletable\">\n",
       "<tr>\n",
       "  <th>Omnibus:</th>       <td>60.414</td> <th>  Durbin-Watson:     </th> <td>   2.084</td>\n",
       "</tr>\n",
       "<tr>\n",
       "  <th>Prob(Omnibus):</th> <td> 0.000</td> <th>  Jarque-Bera (JB):  </th> <td> 151.241</td>\n",
       "</tr>\n",
       "<tr>\n",
       "  <th>Skew:</th>          <td>-1.327</td> <th>  Prob(JB):          </th> <td>1.44e-33</td>\n",
       "</tr>\n",
       "<tr>\n",
       "  <th>Kurtosis:</th>      <td> 6.332</td> <th>  Cond. No.          </th> <td>    454.</td>\n",
       "</tr>\n",
       "</table><br/><br/>Notes:<br/>[1] Standard Errors assume that the covariance matrix of the errors is correctly specified."
      ],
      "text/plain": [
       "<class 'statsmodels.iolib.summary.Summary'>\n",
       "\"\"\"\n",
       "                            OLS Regression Results                            \n",
       "==============================================================================\n",
       "Dep. Variable:                  sales   R-squared:                       0.897\n",
       "Model:                            OLS   Adj. R-squared:                  0.896\n",
       "Method:                 Least Squares   F-statistic:                     570.3\n",
       "Date:                Sun, 10 Jul 2022   Prob (F-statistic):           1.58e-96\n",
       "Time:                        13:02:48   Log-Likelihood:                -386.18\n",
       "No. Observations:                 200   AIC:                             780.4\n",
       "Df Residuals:                     196   BIC:                             793.6\n",
       "Df Model:                           3                                         \n",
       "Covariance Type:            nonrobust                                         \n",
       "==============================================================================\n",
       "                 coef    std err          t      P>|t|      [0.025      0.975]\n",
       "------------------------------------------------------------------------------\n",
       "const          2.9389      0.312      9.422      0.000       2.324       3.554\n",
       "TV             0.0458      0.001     32.809      0.000       0.043       0.049\n",
       "radio          0.1885      0.009     21.893      0.000       0.172       0.206\n",
       "newspaper     -0.0010      0.006     -0.177      0.860      -0.013       0.011\n",
       "==============================================================================\n",
       "Omnibus:                       60.414   Durbin-Watson:                   2.084\n",
       "Prob(Omnibus):                  0.000   Jarque-Bera (JB):              151.241\n",
       "Skew:                          -1.327   Prob(JB):                     1.44e-33\n",
       "Kurtosis:                       6.332   Cond. No.                         454.\n",
       "==============================================================================\n",
       "\n",
       "Notes:\n",
       "[1] Standard Errors assume that the covariance matrix of the errors is correctly specified.\n",
       "\"\"\""
      ]
     },
     "execution_count": 490,
     "metadata": {},
     "output_type": "execute_result"
    }
   ],
   "source": [
    "sm.OLS(y,sm.add_constant(advertising[['TV', 'radio','newspaper']])).fit().summary()"
   ]
  },
  {
   "cell_type": "code",
   "execution_count": 491,
   "id": "4819c5bf",
   "metadata": {},
   "outputs": [
    {
     "data": {
      "text/html": [
       "<div>\n",
       "<style scoped>\n",
       "    .dataframe tbody tr th:only-of-type {\n",
       "        vertical-align: middle;\n",
       "    }\n",
       "\n",
       "    .dataframe tbody tr th {\n",
       "        vertical-align: top;\n",
       "    }\n",
       "\n",
       "    .dataframe thead th {\n",
       "        text-align: right;\n",
       "    }\n",
       "</style>\n",
       "<table border=\"1\" class=\"dataframe\">\n",
       "  <thead>\n",
       "    <tr style=\"text-align: right;\">\n",
       "      <th></th>\n",
       "      <th>TV</th>\n",
       "      <th>radio</th>\n",
       "      <th>newspaper</th>\n",
       "    </tr>\n",
       "  </thead>\n",
       "  <tbody>\n",
       "    <tr>\n",
       "      <th>TV</th>\n",
       "      <td>1.000000</td>\n",
       "      <td>0.054809</td>\n",
       "      <td>0.056648</td>\n",
       "    </tr>\n",
       "    <tr>\n",
       "      <th>radio</th>\n",
       "      <td>0.054809</td>\n",
       "      <td>1.000000</td>\n",
       "      <td>0.354104</td>\n",
       "    </tr>\n",
       "    <tr>\n",
       "      <th>newspaper</th>\n",
       "      <td>0.056648</td>\n",
       "      <td>0.354104</td>\n",
       "      <td>1.000000</td>\n",
       "    </tr>\n",
       "  </tbody>\n",
       "</table>\n",
       "</div>"
      ],
      "text/plain": [
       "                 TV     radio  newspaper\n",
       "TV         1.000000  0.054809   0.056648\n",
       "radio      0.054809  1.000000   0.354104\n",
       "newspaper  0.056648  0.354104   1.000000"
      ]
     },
     "execution_count": 491,
     "metadata": {},
     "output_type": "execute_result"
    }
   ],
   "source": [
    "advertising[['TV', 'radio','newspaper']].corr()"
   ]
  },
  {
   "cell_type": "markdown",
   "id": "6feb2d5c",
   "metadata": {},
   "source": [
    "Assessing random predictors and responses for MLR model"
   ]
  },
  {
   "cell_type": "code",
   "execution_count": 492,
   "id": "70515be6",
   "metadata": {},
   "outputs": [
    {
     "data": {
      "text/html": [
       "<div>\n",
       "<style scoped>\n",
       "    .dataframe tbody tr th:only-of-type {\n",
       "        vertical-align: middle;\n",
       "    }\n",
       "\n",
       "    .dataframe tbody tr th {\n",
       "        vertical-align: top;\n",
       "    }\n",
       "\n",
       "    .dataframe thead th {\n",
       "        text-align: right;\n",
       "    }\n",
       "</style>\n",
       "<table border=\"1\" class=\"dataframe\">\n",
       "  <thead>\n",
       "    <tr style=\"text-align: right;\">\n",
       "      <th></th>\n",
       "      <th>X1</th>\n",
       "      <th>X2</th>\n",
       "      <th>X3</th>\n",
       "    </tr>\n",
       "  </thead>\n",
       "  <tbody>\n",
       "    <tr>\n",
       "      <th>0</th>\n",
       "      <td>0.079798</td>\n",
       "      <td>0.278948</td>\n",
       "      <td>0.121808</td>\n",
       "    </tr>\n",
       "    <tr>\n",
       "      <th>1</th>\n",
       "      <td>0.262686</td>\n",
       "      <td>0.687016</td>\n",
       "      <td>0.248104</td>\n",
       "    </tr>\n",
       "    <tr>\n",
       "      <th>2</th>\n",
       "      <td>0.826048</td>\n",
       "      <td>0.829990</td>\n",
       "      <td>0.687709</td>\n",
       "    </tr>\n",
       "    <tr>\n",
       "      <th>3</th>\n",
       "      <td>0.402081</td>\n",
       "      <td>0.756834</td>\n",
       "      <td>0.652595</td>\n",
       "    </tr>\n",
       "    <tr>\n",
       "      <th>4</th>\n",
       "      <td>0.139294</td>\n",
       "      <td>0.327221</td>\n",
       "      <td>0.381533</td>\n",
       "    </tr>\n",
       "    <tr>\n",
       "      <th>...</th>\n",
       "      <td>...</td>\n",
       "      <td>...</td>\n",
       "      <td>...</td>\n",
       "    </tr>\n",
       "    <tr>\n",
       "      <th>995</th>\n",
       "      <td>0.605614</td>\n",
       "      <td>0.960506</td>\n",
       "      <td>0.868798</td>\n",
       "    </tr>\n",
       "    <tr>\n",
       "      <th>996</th>\n",
       "      <td>0.834734</td>\n",
       "      <td>0.553463</td>\n",
       "      <td>0.811602</td>\n",
       "    </tr>\n",
       "    <tr>\n",
       "      <th>997</th>\n",
       "      <td>0.670081</td>\n",
       "      <td>0.965132</td>\n",
       "      <td>0.868620</td>\n",
       "    </tr>\n",
       "    <tr>\n",
       "      <th>998</th>\n",
       "      <td>0.352741</td>\n",
       "      <td>0.303009</td>\n",
       "      <td>0.585286</td>\n",
       "    </tr>\n",
       "    <tr>\n",
       "      <th>999</th>\n",
       "      <td>0.964099</td>\n",
       "      <td>0.153584</td>\n",
       "      <td>0.506914</td>\n",
       "    </tr>\n",
       "  </tbody>\n",
       "</table>\n",
       "<p>1000 rows × 3 columns</p>\n",
       "</div>"
      ],
      "text/plain": [
       "           X1        X2        X3\n",
       "0    0.079798  0.278948  0.121808\n",
       "1    0.262686  0.687016  0.248104\n",
       "2    0.826048  0.829990  0.687709\n",
       "3    0.402081  0.756834  0.652595\n",
       "4    0.139294  0.327221  0.381533\n",
       "..        ...       ...       ...\n",
       "995  0.605614  0.960506  0.868798\n",
       "996  0.834734  0.553463  0.811602\n",
       "997  0.670081  0.965132  0.868620\n",
       "998  0.352741  0.303009  0.585286\n",
       "999  0.964099  0.153584  0.506914\n",
       "\n",
       "[1000 rows x 3 columns]"
      ]
     },
     "execution_count": 492,
     "metadata": {},
     "output_type": "execute_result"
    }
   ],
   "source": [
    "y_random = np.random.uniform(0,1,1000)\n",
    "x_random = pd.DataFrame(np.array([np.random.uniform(0,1,1000), np.random.uniform(0,1,1000), \n",
    "                                  np.random.uniform(0,1,1000)]).T)\n",
    "x_random.columns = ['X1', 'X2', 'X3']\n",
    "x_random"
   ]
  },
  {
   "cell_type": "code",
   "execution_count": 493,
   "id": "8dc22499",
   "metadata": {},
   "outputs": [
    {
     "data": {
      "text/html": [
       "<table class=\"simpletable\">\n",
       "<caption>OLS Regression Results</caption>\n",
       "<tr>\n",
       "  <th>Dep. Variable:</th>            <td>y</td>        <th>  R-squared:         </th> <td>   0.001</td>\n",
       "</tr>\n",
       "<tr>\n",
       "  <th>Model:</th>                   <td>OLS</td>       <th>  Adj. R-squared:    </th> <td>  -0.002</td>\n",
       "</tr>\n",
       "<tr>\n",
       "  <th>Method:</th>             <td>Least Squares</td>  <th>  F-statistic:       </th> <td>  0.1764</td>\n",
       "</tr>\n",
       "<tr>\n",
       "  <th>Date:</th>             <td>Sun, 10 Jul 2022</td> <th>  Prob (F-statistic):</th>  <td> 0.912</td> \n",
       "</tr>\n",
       "<tr>\n",
       "  <th>Time:</th>                 <td>13:02:48</td>     <th>  Log-Likelihood:    </th> <td> -181.44</td>\n",
       "</tr>\n",
       "<tr>\n",
       "  <th>No. Observations:</th>      <td>  1000</td>      <th>  AIC:               </th> <td>   370.9</td>\n",
       "</tr>\n",
       "<tr>\n",
       "  <th>Df Residuals:</th>          <td>   996</td>      <th>  BIC:               </th> <td>   390.5</td>\n",
       "</tr>\n",
       "<tr>\n",
       "  <th>Df Model:</th>              <td>     3</td>      <th>                     </th>     <td> </td>   \n",
       "</tr>\n",
       "<tr>\n",
       "  <th>Covariance Type:</th>      <td>nonrobust</td>    <th>                     </th>     <td> </td>   \n",
       "</tr>\n",
       "</table>\n",
       "<table class=\"simpletable\">\n",
       "<tr>\n",
       "    <td></td>       <th>coef</th>     <th>std err</th>      <th>t</th>      <th>P>|t|</th>  <th>[0.025</th>    <th>0.975]</th>  \n",
       "</tr>\n",
       "<tr>\n",
       "  <th>const</th> <td>    0.4999</td> <td>    0.030</td> <td>   16.941</td> <td> 0.000</td> <td>    0.442</td> <td>    0.558</td>\n",
       "</tr>\n",
       "<tr>\n",
       "  <th>X1</th>    <td>    0.0154</td> <td>    0.032</td> <td>    0.480</td> <td> 0.632</td> <td>   -0.048</td> <td>    0.079</td>\n",
       "</tr>\n",
       "<tr>\n",
       "  <th>X2</th>    <td>    0.0175</td> <td>    0.031</td> <td>    0.556</td> <td> 0.578</td> <td>   -0.044</td> <td>    0.079</td>\n",
       "</tr>\n",
       "<tr>\n",
       "  <th>X3</th>    <td>   -0.0018</td> <td>    0.032</td> <td>   -0.057</td> <td> 0.954</td> <td>   -0.065</td> <td>    0.061</td>\n",
       "</tr>\n",
       "</table>\n",
       "<table class=\"simpletable\">\n",
       "<tr>\n",
       "  <th>Omnibus:</th>       <td>744.007</td> <th>  Durbin-Watson:     </th> <td>   1.969</td>\n",
       "</tr>\n",
       "<tr>\n",
       "  <th>Prob(Omnibus):</th> <td> 0.000</td>  <th>  Jarque-Bera (JB):  </th> <td>  60.861</td>\n",
       "</tr>\n",
       "<tr>\n",
       "  <th>Skew:</th>          <td>-0.066</td>  <th>  Prob(JB):          </th> <td>6.08e-14</td>\n",
       "</tr>\n",
       "<tr>\n",
       "  <th>Kurtosis:</th>      <td> 1.799</td>  <th>  Cond. No.          </th> <td>    6.30</td>\n",
       "</tr>\n",
       "</table><br/><br/>Notes:<br/>[1] Standard Errors assume that the covariance matrix of the errors is correctly specified."
      ],
      "text/plain": [
       "<class 'statsmodels.iolib.summary.Summary'>\n",
       "\"\"\"\n",
       "                            OLS Regression Results                            \n",
       "==============================================================================\n",
       "Dep. Variable:                      y   R-squared:                       0.001\n",
       "Model:                            OLS   Adj. R-squared:                 -0.002\n",
       "Method:                 Least Squares   F-statistic:                    0.1764\n",
       "Date:                Sun, 10 Jul 2022   Prob (F-statistic):              0.912\n",
       "Time:                        13:02:48   Log-Likelihood:                -181.44\n",
       "No. Observations:                1000   AIC:                             370.9\n",
       "Df Residuals:                     996   BIC:                             390.5\n",
       "Df Model:                           3                                         \n",
       "Covariance Type:            nonrobust                                         \n",
       "==============================================================================\n",
       "                 coef    std err          t      P>|t|      [0.025      0.975]\n",
       "------------------------------------------------------------------------------\n",
       "const          0.4999      0.030     16.941      0.000       0.442       0.558\n",
       "X1             0.0154      0.032      0.480      0.632      -0.048       0.079\n",
       "X2             0.0175      0.031      0.556      0.578      -0.044       0.079\n",
       "X3            -0.0018      0.032     -0.057      0.954      -0.065       0.061\n",
       "==============================================================================\n",
       "Omnibus:                      744.007   Durbin-Watson:                   1.969\n",
       "Prob(Omnibus):                  0.000   Jarque-Bera (JB):               60.861\n",
       "Skew:                          -0.066   Prob(JB):                     6.08e-14\n",
       "Kurtosis:                       1.799   Cond. No.                         6.30\n",
       "==============================================================================\n",
       "\n",
       "Notes:\n",
       "[1] Standard Errors assume that the covariance matrix of the errors is correctly specified.\n",
       "\"\"\""
      ]
     },
     "execution_count": 493,
     "metadata": {},
     "output_type": "execute_result"
    }
   ],
   "source": [
    "sm.OLS(y_random, sm.add_constant(x_random)).fit().summary()"
   ]
  },
  {
   "cell_type": "markdown",
   "id": "db33ff9c",
   "metadata": {},
   "source": [
    "## Model Extensions"
   ]
  },
  {
   "cell_type": "markdown",
   "id": "1905d0c0",
   "metadata": {},
   "source": [
    "###  Initial Model"
   ]
  },
  {
   "cell_type": "code",
   "execution_count": 494,
   "id": "5045bb99",
   "metadata": {
    "scrolled": true
   },
   "outputs": [
    {
     "data": {
      "text/html": [
       "<div>\n",
       "<style scoped>\n",
       "    .dataframe tbody tr th:only-of-type {\n",
       "        vertical-align: middle;\n",
       "    }\n",
       "\n",
       "    .dataframe tbody tr th {\n",
       "        vertical-align: top;\n",
       "    }\n",
       "\n",
       "    .dataframe thead th {\n",
       "        text-align: right;\n",
       "    }\n",
       "</style>\n",
       "<table border=\"1\" class=\"dataframe\">\n",
       "  <thead>\n",
       "    <tr style=\"text-align: right;\">\n",
       "      <th></th>\n",
       "      <th>Make</th>\n",
       "      <th>Model</th>\n",
       "      <th>DriveTrain</th>\n",
       "      <th>Origin</th>\n",
       "      <th>Type</th>\n",
       "      <th>Cylinders</th>\n",
       "      <th>Engine Size (L)</th>\n",
       "      <th>Horsepower</th>\n",
       "      <th>Invoice</th>\n",
       "      <th>Length (IN)</th>\n",
       "      <th>MPG (City)</th>\n",
       "      <th>MPG (Highway)</th>\n",
       "      <th>MSRP</th>\n",
       "      <th>Weight (LBS)</th>\n",
       "      <th>Wheelbase (IN)</th>\n",
       "    </tr>\n",
       "  </thead>\n",
       "  <tbody>\n",
       "    <tr>\n",
       "      <th>0</th>\n",
       "      <td>Acura</td>\n",
       "      <td>3.5 RL 4dr</td>\n",
       "      <td>Front</td>\n",
       "      <td>Asia</td>\n",
       "      <td>Sedan</td>\n",
       "      <td>6.0</td>\n",
       "      <td>3.5</td>\n",
       "      <td>225</td>\n",
       "      <td>$39,014</td>\n",
       "      <td>197</td>\n",
       "      <td>18</td>\n",
       "      <td>24</td>\n",
       "      <td>$43,755</td>\n",
       "      <td>3880</td>\n",
       "      <td>115</td>\n",
       "    </tr>\n",
       "    <tr>\n",
       "      <th>1</th>\n",
       "      <td>Acura</td>\n",
       "      <td>3.5 RL w/Navigation 4dr</td>\n",
       "      <td>Front</td>\n",
       "      <td>Asia</td>\n",
       "      <td>Sedan</td>\n",
       "      <td>6.0</td>\n",
       "      <td>3.5</td>\n",
       "      <td>225</td>\n",
       "      <td>$41,100</td>\n",
       "      <td>197</td>\n",
       "      <td>18</td>\n",
       "      <td>24</td>\n",
       "      <td>$46,100</td>\n",
       "      <td>3893</td>\n",
       "      <td>115</td>\n",
       "    </tr>\n",
       "    <tr>\n",
       "      <th>2</th>\n",
       "      <td>Acura</td>\n",
       "      <td>MDX</td>\n",
       "      <td>All</td>\n",
       "      <td>Asia</td>\n",
       "      <td>SUV</td>\n",
       "      <td>6.0</td>\n",
       "      <td>3.5</td>\n",
       "      <td>265</td>\n",
       "      <td>$33,337</td>\n",
       "      <td>189</td>\n",
       "      <td>17</td>\n",
       "      <td>23</td>\n",
       "      <td>$36,945</td>\n",
       "      <td>4451</td>\n",
       "      <td>106</td>\n",
       "    </tr>\n",
       "    <tr>\n",
       "      <th>3</th>\n",
       "      <td>Acura</td>\n",
       "      <td>NSX coupe 2dr manual S</td>\n",
       "      <td>Rear</td>\n",
       "      <td>Asia</td>\n",
       "      <td>Sports</td>\n",
       "      <td>6.0</td>\n",
       "      <td>3.2</td>\n",
       "      <td>290</td>\n",
       "      <td>$79,978</td>\n",
       "      <td>174</td>\n",
       "      <td>17</td>\n",
       "      <td>24</td>\n",
       "      <td>$89,765</td>\n",
       "      <td>3153</td>\n",
       "      <td>100</td>\n",
       "    </tr>\n",
       "    <tr>\n",
       "      <th>4</th>\n",
       "      <td>Acura</td>\n",
       "      <td>RSX Type S 2dr</td>\n",
       "      <td>Front</td>\n",
       "      <td>Asia</td>\n",
       "      <td>Sedan</td>\n",
       "      <td>4.0</td>\n",
       "      <td>2.0</td>\n",
       "      <td>200</td>\n",
       "      <td>$21,761</td>\n",
       "      <td>172</td>\n",
       "      <td>24</td>\n",
       "      <td>31</td>\n",
       "      <td>$23,820</td>\n",
       "      <td>2778</td>\n",
       "      <td>101</td>\n",
       "    </tr>\n",
       "    <tr>\n",
       "      <th>...</th>\n",
       "      <td>...</td>\n",
       "      <td>...</td>\n",
       "      <td>...</td>\n",
       "      <td>...</td>\n",
       "      <td>...</td>\n",
       "      <td>...</td>\n",
       "      <td>...</td>\n",
       "      <td>...</td>\n",
       "      <td>...</td>\n",
       "      <td>...</td>\n",
       "      <td>...</td>\n",
       "      <td>...</td>\n",
       "      <td>...</td>\n",
       "      <td>...</td>\n",
       "      <td>...</td>\n",
       "    </tr>\n",
       "    <tr>\n",
       "      <th>423</th>\n",
       "      <td>Volvo</td>\n",
       "      <td>S80 2.9 4dr</td>\n",
       "      <td>Front</td>\n",
       "      <td>Europe</td>\n",
       "      <td>Sedan</td>\n",
       "      <td>6.0</td>\n",
       "      <td>2.9</td>\n",
       "      <td>208</td>\n",
       "      <td>$35,542</td>\n",
       "      <td>190</td>\n",
       "      <td>20</td>\n",
       "      <td>28</td>\n",
       "      <td>$37,730</td>\n",
       "      <td>3576</td>\n",
       "      <td>110</td>\n",
       "    </tr>\n",
       "    <tr>\n",
       "      <th>424</th>\n",
       "      <td>Volvo</td>\n",
       "      <td>S80 T6 4dr</td>\n",
       "      <td>Front</td>\n",
       "      <td>Europe</td>\n",
       "      <td>Sedan</td>\n",
       "      <td>6.0</td>\n",
       "      <td>2.9</td>\n",
       "      <td>268</td>\n",
       "      <td>$42,573</td>\n",
       "      <td>190</td>\n",
       "      <td>19</td>\n",
       "      <td>26</td>\n",
       "      <td>$45,210</td>\n",
       "      <td>3653</td>\n",
       "      <td>110</td>\n",
       "    </tr>\n",
       "    <tr>\n",
       "      <th>425</th>\n",
       "      <td>Volvo</td>\n",
       "      <td>V40</td>\n",
       "      <td>Front</td>\n",
       "      <td>Europe</td>\n",
       "      <td>Wagon</td>\n",
       "      <td>4.0</td>\n",
       "      <td>1.9</td>\n",
       "      <td>170</td>\n",
       "      <td>$24,641</td>\n",
       "      <td>180</td>\n",
       "      <td>22</td>\n",
       "      <td>29</td>\n",
       "      <td>$26,135</td>\n",
       "      <td>2822</td>\n",
       "      <td>101</td>\n",
       "    </tr>\n",
       "    <tr>\n",
       "      <th>426</th>\n",
       "      <td>Volvo</td>\n",
       "      <td>XC70</td>\n",
       "      <td>All</td>\n",
       "      <td>Europe</td>\n",
       "      <td>Wagon</td>\n",
       "      <td>5.0</td>\n",
       "      <td>2.5</td>\n",
       "      <td>208</td>\n",
       "      <td>$33,112</td>\n",
       "      <td>186</td>\n",
       "      <td>20</td>\n",
       "      <td>27</td>\n",
       "      <td>$35,145</td>\n",
       "      <td>3823</td>\n",
       "      <td>109</td>\n",
       "    </tr>\n",
       "    <tr>\n",
       "      <th>427</th>\n",
       "      <td>Volvo</td>\n",
       "      <td>XC90 T6</td>\n",
       "      <td>All</td>\n",
       "      <td>Europe</td>\n",
       "      <td>SUV</td>\n",
       "      <td>6.0</td>\n",
       "      <td>2.9</td>\n",
       "      <td>268</td>\n",
       "      <td>$38,851</td>\n",
       "      <td>189</td>\n",
       "      <td>15</td>\n",
       "      <td>20</td>\n",
       "      <td>$41,250</td>\n",
       "      <td>4638</td>\n",
       "      <td>113</td>\n",
       "    </tr>\n",
       "  </tbody>\n",
       "</table>\n",
       "<p>428 rows × 15 columns</p>\n",
       "</div>"
      ],
      "text/plain": [
       "      Make                    Model DriveTrain  Origin    Type  Cylinders  \\\n",
       "0    Acura               3.5 RL 4dr      Front    Asia   Sedan        6.0   \n",
       "1    Acura  3.5 RL w/Navigation 4dr      Front    Asia   Sedan        6.0   \n",
       "2    Acura                      MDX        All    Asia     SUV        6.0   \n",
       "3    Acura   NSX coupe 2dr manual S       Rear    Asia  Sports        6.0   \n",
       "4    Acura           RSX Type S 2dr      Front    Asia   Sedan        4.0   \n",
       "..     ...                      ...        ...     ...     ...        ...   \n",
       "423  Volvo              S80 2.9 4dr      Front  Europe   Sedan        6.0   \n",
       "424  Volvo               S80 T6 4dr      Front  Europe   Sedan        6.0   \n",
       "425  Volvo                      V40      Front  Europe   Wagon        4.0   \n",
       "426  Volvo                     XC70        All  Europe   Wagon        5.0   \n",
       "427  Volvo                  XC90 T6        All  Europe     SUV        6.0   \n",
       "\n",
       "     Engine Size (L)  Horsepower   Invoice  Length (IN)  MPG (City)  \\\n",
       "0                3.5         225  $39,014           197          18   \n",
       "1                3.5         225  $41,100           197          18   \n",
       "2                3.5         265  $33,337           189          17   \n",
       "3                3.2         290  $79,978           174          17   \n",
       "4                2.0         200  $21,761           172          24   \n",
       "..               ...         ...       ...          ...         ...   \n",
       "423              2.9         208  $35,542           190          20   \n",
       "424              2.9         268  $42,573           190          19   \n",
       "425              1.9         170  $24,641           180          22   \n",
       "426              2.5         208  $33,112           186          20   \n",
       "427              2.9         268  $38,851           189          15   \n",
       "\n",
       "     MPG (Highway)      MSRP  Weight (LBS)  Wheelbase (IN)  \n",
       "0               24  $43,755           3880             115  \n",
       "1               24  $46,100           3893             115  \n",
       "2               23  $36,945           4451             106  \n",
       "3               24  $89,765           3153             100  \n",
       "4               31  $23,820           2778             101  \n",
       "..             ...       ...           ...             ...  \n",
       "423             28  $37,730           3576             110  \n",
       "424             26  $45,210           3653             110  \n",
       "425             29  $26,135           2822             101  \n",
       "426             27  $35,145           3823             109  \n",
       "427             20  $41,250           4638             113  \n",
       "\n",
       "[428 rows x 15 columns]"
      ]
     },
     "execution_count": 494,
     "metadata": {},
     "output_type": "execute_result"
    }
   ],
   "source": [
    "cars = pd.read_csv(\"Cars Data.csv\")\n",
    "cars"
   ]
  },
  {
   "cell_type": "markdown",
   "id": "5ad242fe",
   "metadata": {},
   "source": [
    "Drop irrelevant variables"
   ]
  },
  {
   "cell_type": "code",
   "execution_count": 495,
   "id": "a5f00f89",
   "metadata": {
    "scrolled": true
   },
   "outputs": [
    {
     "data": {
      "text/html": [
       "<div>\n",
       "<style scoped>\n",
       "    .dataframe tbody tr th:only-of-type {\n",
       "        vertical-align: middle;\n",
       "    }\n",
       "\n",
       "    .dataframe tbody tr th {\n",
       "        vertical-align: top;\n",
       "    }\n",
       "\n",
       "    .dataframe thead th {\n",
       "        text-align: right;\n",
       "    }\n",
       "</style>\n",
       "<table border=\"1\" class=\"dataframe\">\n",
       "  <thead>\n",
       "    <tr style=\"text-align: right;\">\n",
       "      <th></th>\n",
       "      <th>DriveTrain</th>\n",
       "      <th>Type</th>\n",
       "      <th>Cylinders</th>\n",
       "      <th>Engine Size (L)</th>\n",
       "      <th>Horsepower</th>\n",
       "      <th>Length (IN)</th>\n",
       "      <th>MPG (Highway)</th>\n",
       "      <th>Weight (LBS)</th>\n",
       "      <th>Wheelbase (IN)</th>\n",
       "    </tr>\n",
       "  </thead>\n",
       "  <tbody>\n",
       "    <tr>\n",
       "      <th>0</th>\n",
       "      <td>Front</td>\n",
       "      <td>Sedan</td>\n",
       "      <td>6.0</td>\n",
       "      <td>3.5</td>\n",
       "      <td>225</td>\n",
       "      <td>197</td>\n",
       "      <td>24</td>\n",
       "      <td>3880</td>\n",
       "      <td>115</td>\n",
       "    </tr>\n",
       "    <tr>\n",
       "      <th>1</th>\n",
       "      <td>Front</td>\n",
       "      <td>Sedan</td>\n",
       "      <td>6.0</td>\n",
       "      <td>3.5</td>\n",
       "      <td>225</td>\n",
       "      <td>197</td>\n",
       "      <td>24</td>\n",
       "      <td>3893</td>\n",
       "      <td>115</td>\n",
       "    </tr>\n",
       "    <tr>\n",
       "      <th>2</th>\n",
       "      <td>All</td>\n",
       "      <td>SUV</td>\n",
       "      <td>6.0</td>\n",
       "      <td>3.5</td>\n",
       "      <td>265</td>\n",
       "      <td>189</td>\n",
       "      <td>23</td>\n",
       "      <td>4451</td>\n",
       "      <td>106</td>\n",
       "    </tr>\n",
       "    <tr>\n",
       "      <th>3</th>\n",
       "      <td>Rear</td>\n",
       "      <td>Sports</td>\n",
       "      <td>6.0</td>\n",
       "      <td>3.2</td>\n",
       "      <td>290</td>\n",
       "      <td>174</td>\n",
       "      <td>24</td>\n",
       "      <td>3153</td>\n",
       "      <td>100</td>\n",
       "    </tr>\n",
       "    <tr>\n",
       "      <th>4</th>\n",
       "      <td>Front</td>\n",
       "      <td>Sedan</td>\n",
       "      <td>4.0</td>\n",
       "      <td>2.0</td>\n",
       "      <td>200</td>\n",
       "      <td>172</td>\n",
       "      <td>31</td>\n",
       "      <td>2778</td>\n",
       "      <td>101</td>\n",
       "    </tr>\n",
       "    <tr>\n",
       "      <th>...</th>\n",
       "      <td>...</td>\n",
       "      <td>...</td>\n",
       "      <td>...</td>\n",
       "      <td>...</td>\n",
       "      <td>...</td>\n",
       "      <td>...</td>\n",
       "      <td>...</td>\n",
       "      <td>...</td>\n",
       "      <td>...</td>\n",
       "    </tr>\n",
       "    <tr>\n",
       "      <th>423</th>\n",
       "      <td>Front</td>\n",
       "      <td>Sedan</td>\n",
       "      <td>6.0</td>\n",
       "      <td>2.9</td>\n",
       "      <td>208</td>\n",
       "      <td>190</td>\n",
       "      <td>28</td>\n",
       "      <td>3576</td>\n",
       "      <td>110</td>\n",
       "    </tr>\n",
       "    <tr>\n",
       "      <th>424</th>\n",
       "      <td>Front</td>\n",
       "      <td>Sedan</td>\n",
       "      <td>6.0</td>\n",
       "      <td>2.9</td>\n",
       "      <td>268</td>\n",
       "      <td>190</td>\n",
       "      <td>26</td>\n",
       "      <td>3653</td>\n",
       "      <td>110</td>\n",
       "    </tr>\n",
       "    <tr>\n",
       "      <th>425</th>\n",
       "      <td>Front</td>\n",
       "      <td>Wagon</td>\n",
       "      <td>4.0</td>\n",
       "      <td>1.9</td>\n",
       "      <td>170</td>\n",
       "      <td>180</td>\n",
       "      <td>29</td>\n",
       "      <td>2822</td>\n",
       "      <td>101</td>\n",
       "    </tr>\n",
       "    <tr>\n",
       "      <th>426</th>\n",
       "      <td>All</td>\n",
       "      <td>Wagon</td>\n",
       "      <td>5.0</td>\n",
       "      <td>2.5</td>\n",
       "      <td>208</td>\n",
       "      <td>186</td>\n",
       "      <td>27</td>\n",
       "      <td>3823</td>\n",
       "      <td>109</td>\n",
       "    </tr>\n",
       "    <tr>\n",
       "      <th>427</th>\n",
       "      <td>All</td>\n",
       "      <td>SUV</td>\n",
       "      <td>6.0</td>\n",
       "      <td>2.9</td>\n",
       "      <td>268</td>\n",
       "      <td>189</td>\n",
       "      <td>20</td>\n",
       "      <td>4638</td>\n",
       "      <td>113</td>\n",
       "    </tr>\n",
       "  </tbody>\n",
       "</table>\n",
       "<p>428 rows × 9 columns</p>\n",
       "</div>"
      ],
      "text/plain": [
       "    DriveTrain    Type  Cylinders  Engine Size (L)  Horsepower  Length (IN)  \\\n",
       "0        Front   Sedan        6.0              3.5         225          197   \n",
       "1        Front   Sedan        6.0              3.5         225          197   \n",
       "2          All     SUV        6.0              3.5         265          189   \n",
       "3         Rear  Sports        6.0              3.2         290          174   \n",
       "4        Front   Sedan        4.0              2.0         200          172   \n",
       "..         ...     ...        ...              ...         ...          ...   \n",
       "423      Front   Sedan        6.0              2.9         208          190   \n",
       "424      Front   Sedan        6.0              2.9         268          190   \n",
       "425      Front   Wagon        4.0              1.9         170          180   \n",
       "426        All   Wagon        5.0              2.5         208          186   \n",
       "427        All     SUV        6.0              2.9         268          189   \n",
       "\n",
       "     MPG (Highway)  Weight (LBS)  Wheelbase (IN)  \n",
       "0               24          3880             115  \n",
       "1               24          3893             115  \n",
       "2               23          4451             106  \n",
       "3               24          3153             100  \n",
       "4               31          2778             101  \n",
       "..             ...           ...             ...  \n",
       "423             28          3576             110  \n",
       "424             26          3653             110  \n",
       "425             29          2822             101  \n",
       "426             27          3823             109  \n",
       "427             20          4638             113  \n",
       "\n",
       "[428 rows x 9 columns]"
      ]
     },
     "execution_count": 495,
     "metadata": {},
     "output_type": "execute_result"
    }
   ],
   "source": [
    "cars_mech = cars.drop(['Make', 'Model', 'Origin', 'MSRP', 'Invoice', 'MPG (City)'], axis = 1)\n",
    "cars_mech"
   ]
  },
  {
   "cell_type": "markdown",
   "id": "092f94de",
   "metadata": {},
   "source": [
    "Convert cyllinders to be a category"
   ]
  },
  {
   "cell_type": "code",
   "execution_count": 496,
   "id": "2b8b2785",
   "metadata": {},
   "outputs": [
    {
     "data": {
      "text/plain": [
       "DriveTrain           object\n",
       "Type                 object\n",
       "Cylinders          category\n",
       "Engine Size (L)     float64\n",
       "Horsepower            int64\n",
       "Length (IN)           int64\n",
       "MPG (Highway)         int64\n",
       "Weight (LBS)          int64\n",
       "Wheelbase (IN)        int64\n",
       "dtype: object"
      ]
     },
     "execution_count": 496,
     "metadata": {},
     "output_type": "execute_result"
    }
   ],
   "source": [
    "cars_mech['Cylinders'] = pd.Categorical(cars_mech['Cylinders'])\n",
    "cars_mech.dtypes"
   ]
  },
  {
   "cell_type": "markdown",
   "id": "dee2f339",
   "metadata": {},
   "source": [
    "Look at correlation matrix"
   ]
  },
  {
   "cell_type": "code",
   "execution_count": 497,
   "id": "3ab58a9a",
   "metadata": {},
   "outputs": [
    {
     "data": {
      "text/html": [
       "<div>\n",
       "<style scoped>\n",
       "    .dataframe tbody tr th:only-of-type {\n",
       "        vertical-align: middle;\n",
       "    }\n",
       "\n",
       "    .dataframe tbody tr th {\n",
       "        vertical-align: top;\n",
       "    }\n",
       "\n",
       "    .dataframe thead th {\n",
       "        text-align: right;\n",
       "    }\n",
       "</style>\n",
       "<table border=\"1\" class=\"dataframe\">\n",
       "  <thead>\n",
       "    <tr style=\"text-align: right;\">\n",
       "      <th></th>\n",
       "      <th>Engine Size (L)</th>\n",
       "      <th>Horsepower</th>\n",
       "      <th>Length (IN)</th>\n",
       "      <th>MPG (Highway)</th>\n",
       "      <th>Weight (LBS)</th>\n",
       "      <th>Wheelbase (IN)</th>\n",
       "    </tr>\n",
       "  </thead>\n",
       "  <tbody>\n",
       "    <tr>\n",
       "      <th>Engine Size (L)</th>\n",
       "      <td>1.000000</td>\n",
       "      <td>0.787435</td>\n",
       "      <td>0.637448</td>\n",
       "      <td>-0.717302</td>\n",
       "      <td>0.807867</td>\n",
       "      <td>0.636517</td>\n",
       "    </tr>\n",
       "    <tr>\n",
       "      <th>Horsepower</th>\n",
       "      <td>0.787435</td>\n",
       "      <td>1.000000</td>\n",
       "      <td>0.381554</td>\n",
       "      <td>-0.647195</td>\n",
       "      <td>0.630796</td>\n",
       "      <td>0.387398</td>\n",
       "    </tr>\n",
       "    <tr>\n",
       "      <th>Length (IN)</th>\n",
       "      <td>0.637448</td>\n",
       "      <td>0.381554</td>\n",
       "      <td>1.000000</td>\n",
       "      <td>-0.466092</td>\n",
       "      <td>0.690021</td>\n",
       "      <td>0.889195</td>\n",
       "    </tr>\n",
       "    <tr>\n",
       "      <th>MPG (Highway)</th>\n",
       "      <td>-0.717302</td>\n",
       "      <td>-0.647195</td>\n",
       "      <td>-0.466092</td>\n",
       "      <td>1.000000</td>\n",
       "      <td>-0.790989</td>\n",
       "      <td>-0.524661</td>\n",
       "    </tr>\n",
       "    <tr>\n",
       "      <th>Weight (LBS)</th>\n",
       "      <td>0.807867</td>\n",
       "      <td>0.630796</td>\n",
       "      <td>0.690021</td>\n",
       "      <td>-0.790989</td>\n",
       "      <td>1.000000</td>\n",
       "      <td>0.760703</td>\n",
       "    </tr>\n",
       "    <tr>\n",
       "      <th>Wheelbase (IN)</th>\n",
       "      <td>0.636517</td>\n",
       "      <td>0.387398</td>\n",
       "      <td>0.889195</td>\n",
       "      <td>-0.524661</td>\n",
       "      <td>0.760703</td>\n",
       "      <td>1.000000</td>\n",
       "    </tr>\n",
       "  </tbody>\n",
       "</table>\n",
       "</div>"
      ],
      "text/plain": [
       "                 Engine Size (L)  Horsepower  Length (IN)  MPG (Highway)  \\\n",
       "Engine Size (L)         1.000000    0.787435     0.637448      -0.717302   \n",
       "Horsepower              0.787435    1.000000     0.381554      -0.647195   \n",
       "Length (IN)             0.637448    0.381554     1.000000      -0.466092   \n",
       "MPG (Highway)          -0.717302   -0.647195    -0.466092       1.000000   \n",
       "Weight (LBS)            0.807867    0.630796     0.690021      -0.790989   \n",
       "Wheelbase (IN)          0.636517    0.387398     0.889195      -0.524661   \n",
       "\n",
       "                 Weight (LBS)  Wheelbase (IN)  \n",
       "Engine Size (L)      0.807867        0.636517  \n",
       "Horsepower           0.630796        0.387398  \n",
       "Length (IN)          0.690021        0.889195  \n",
       "MPG (Highway)       -0.790989       -0.524661  \n",
       "Weight (LBS)         1.000000        0.760703  \n",
       "Wheelbase (IN)       0.760703        1.000000  "
      ]
     },
     "execution_count": 497,
     "metadata": {},
     "output_type": "execute_result"
    }
   ],
   "source": [
    "cars_mech.corr()"
   ]
  },
  {
   "cell_type": "markdown",
   "id": "d28050a9",
   "metadata": {},
   "source": [
    "Initial model with numeric variables"
   ]
  },
  {
   "cell_type": "code",
   "execution_count": 498,
   "id": "33b9c232",
   "metadata": {},
   "outputs": [
    {
     "data": {
      "text/plain": [
       "Engine Size (L)    float64\n",
       "Horsepower           int64\n",
       "Length (IN)          int64\n",
       "Weight (LBS)         int64\n",
       "Wheelbase (IN)       int64\n",
       "dtype: object"
      ]
     },
     "execution_count": 498,
     "metadata": {},
     "output_type": "execute_result"
    }
   ],
   "source": [
    "cars_mpg_model_1 = LinearRegression(fit_intercept = True)\n",
    "y3 = cars_mech['MPG (Highway)']\n",
    "X3 = cars_mech.drop('MPG (Highway)', axis = 1)\n",
    "X3 = X3.select_dtypes('number')\n",
    "X3.dtypes"
   ]
  },
  {
   "cell_type": "code",
   "execution_count": 499,
   "id": "167814fb",
   "metadata": {},
   "outputs": [
    {
     "data": {
      "text/plain": [
       "38.44699568492957"
      ]
     },
     "execution_count": 499,
     "metadata": {},
     "output_type": "execute_result"
    }
   ],
   "source": [
    "cars_mpg_model_1.fit(X3,y3)\n",
    "cars_mpg_model_1.intercept_"
   ]
  },
  {
   "cell_type": "code",
   "execution_count": 500,
   "id": "514af3ff",
   "metadata": {},
   "outputs": [
    {
     "data": {
      "text/plain": [
       "array([-0.6003969 , -0.01396653,  0.04736906, -0.00533632,  0.03325118])"
      ]
     },
     "execution_count": 500,
     "metadata": {},
     "output_type": "execute_result"
    }
   ],
   "source": [
    "cars_mpg_model_1.coef_"
   ]
  },
  {
   "cell_type": "code",
   "execution_count": 501,
   "id": "d6691e40",
   "metadata": {},
   "outputs": [
    {
     "data": {
      "text/plain": [
       "0.6737980004084889"
      ]
     },
     "execution_count": 501,
     "metadata": {},
     "output_type": "execute_result"
    }
   ],
   "source": [
    "metrics.r2_score(y3, cars_mpg_model_1.predict(X3))"
   ]
  },
  {
   "cell_type": "code",
   "execution_count": 502,
   "id": "e64f3861",
   "metadata": {},
   "outputs": [
    {
     "data": {
      "text/plain": [
       "10.726948257060153"
      ]
     },
     "execution_count": 502,
     "metadata": {},
     "output_type": "execute_result"
    }
   ],
   "source": [
    "metrics.mean_squared_error(y3, cars_mpg_model_1.predict(X3))"
   ]
  },
  {
   "cell_type": "code",
   "execution_count": 503,
   "id": "33b7c625",
   "metadata": {
    "scrolled": true
   },
   "outputs": [
    {
     "data": {
      "text/plain": [
       "<AxesSubplot:xlabel='MPG (Highway)'>"
      ]
     },
     "execution_count": 503,
     "metadata": {},
     "output_type": "execute_result"
    },
    {
     "data": {
      "image/png": "[encoded data removed]",
      "text/plain": [
       "<Figure size 640x480 with 1 Axes>"
      ]
     },
     "metadata": {},
     "output_type": "display_data"
    }
   ],
   "source": [
    "sns.residplot(x = y3, y = cars_mpg_model_1.predict(X3))"
   ]
  },
  {
   "cell_type": "markdown",
   "id": "61a079dc",
   "metadata": {},
   "source": [
    "### Incorporating Categorical Predictors"
   ]
  },
  {
   "cell_type": "code",
   "execution_count": 504,
   "id": "9666e2d9",
   "metadata": {
    "scrolled": true
   },
   "outputs": [
    {
     "data": {
      "text/html": [
       "<div>\n",
       "<style scoped>\n",
       "    .dataframe tbody tr th:only-of-type {\n",
       "        vertical-align: middle;\n",
       "    }\n",
       "\n",
       "    .dataframe tbody tr th {\n",
       "        vertical-align: top;\n",
       "    }\n",
       "\n",
       "    .dataframe thead th {\n",
       "        text-align: right;\n",
       "    }\n",
       "</style>\n",
       "<table border=\"1\" class=\"dataframe\">\n",
       "  <thead>\n",
       "    <tr style=\"text-align: right;\">\n",
       "      <th></th>\n",
       "      <th>DriveTrain</th>\n",
       "      <th>Type</th>\n",
       "      <th>Cylinders</th>\n",
       "      <th>Engine Size (L)</th>\n",
       "      <th>Horsepower</th>\n",
       "      <th>Length (IN)</th>\n",
       "      <th>MPG (Highway)</th>\n",
       "      <th>Weight (LBS)</th>\n",
       "      <th>Wheelbase (IN)</th>\n",
       "    </tr>\n",
       "  </thead>\n",
       "  <tbody>\n",
       "    <tr>\n",
       "      <th>0</th>\n",
       "      <td>Front</td>\n",
       "      <td>Sedan</td>\n",
       "      <td>6.0</td>\n",
       "      <td>3.5</td>\n",
       "      <td>225</td>\n",
       "      <td>197</td>\n",
       "      <td>24</td>\n",
       "      <td>3880</td>\n",
       "      <td>115</td>\n",
       "    </tr>\n",
       "    <tr>\n",
       "      <th>1</th>\n",
       "      <td>Front</td>\n",
       "      <td>Sedan</td>\n",
       "      <td>6.0</td>\n",
       "      <td>3.5</td>\n",
       "      <td>225</td>\n",
       "      <td>197</td>\n",
       "      <td>24</td>\n",
       "      <td>3893</td>\n",
       "      <td>115</td>\n",
       "    </tr>\n",
       "    <tr>\n",
       "      <th>2</th>\n",
       "      <td>All</td>\n",
       "      <td>SUV</td>\n",
       "      <td>6.0</td>\n",
       "      <td>3.5</td>\n",
       "      <td>265</td>\n",
       "      <td>189</td>\n",
       "      <td>23</td>\n",
       "      <td>4451</td>\n",
       "      <td>106</td>\n",
       "    </tr>\n",
       "    <tr>\n",
       "      <th>3</th>\n",
       "      <td>Rear</td>\n",
       "      <td>Sports</td>\n",
       "      <td>6.0</td>\n",
       "      <td>3.2</td>\n",
       "      <td>290</td>\n",
       "      <td>174</td>\n",
       "      <td>24</td>\n",
       "      <td>3153</td>\n",
       "      <td>100</td>\n",
       "    </tr>\n",
       "    <tr>\n",
       "      <th>4</th>\n",
       "      <td>Front</td>\n",
       "      <td>Sedan</td>\n",
       "      <td>4.0</td>\n",
       "      <td>2.0</td>\n",
       "      <td>200</td>\n",
       "      <td>172</td>\n",
       "      <td>31</td>\n",
       "      <td>2778</td>\n",
       "      <td>101</td>\n",
       "    </tr>\n",
       "    <tr>\n",
       "      <th>...</th>\n",
       "      <td>...</td>\n",
       "      <td>...</td>\n",
       "      <td>...</td>\n",
       "      <td>...</td>\n",
       "      <td>...</td>\n",
       "      <td>...</td>\n",
       "      <td>...</td>\n",
       "      <td>...</td>\n",
       "      <td>...</td>\n",
       "    </tr>\n",
       "    <tr>\n",
       "      <th>423</th>\n",
       "      <td>Front</td>\n",
       "      <td>Sedan</td>\n",
       "      <td>6.0</td>\n",
       "      <td>2.9</td>\n",
       "      <td>208</td>\n",
       "      <td>190</td>\n",
       "      <td>28</td>\n",
       "      <td>3576</td>\n",
       "      <td>110</td>\n",
       "    </tr>\n",
       "    <tr>\n",
       "      <th>424</th>\n",
       "      <td>Front</td>\n",
       "      <td>Sedan</td>\n",
       "      <td>6.0</td>\n",
       "      <td>2.9</td>\n",
       "      <td>268</td>\n",
       "      <td>190</td>\n",
       "      <td>26</td>\n",
       "      <td>3653</td>\n",
       "      <td>110</td>\n",
       "    </tr>\n",
       "    <tr>\n",
       "      <th>425</th>\n",
       "      <td>Front</td>\n",
       "      <td>Wagon</td>\n",
       "      <td>4.0</td>\n",
       "      <td>1.9</td>\n",
       "      <td>170</td>\n",
       "      <td>180</td>\n",
       "      <td>29</td>\n",
       "      <td>2822</td>\n",
       "      <td>101</td>\n",
       "    </tr>\n",
       "    <tr>\n",
       "      <th>426</th>\n",
       "      <td>All</td>\n",
       "      <td>Wagon</td>\n",
       "      <td>5.0</td>\n",
       "      <td>2.5</td>\n",
       "      <td>208</td>\n",
       "      <td>186</td>\n",
       "      <td>27</td>\n",
       "      <td>3823</td>\n",
       "      <td>109</td>\n",
       "    </tr>\n",
       "    <tr>\n",
       "      <th>427</th>\n",
       "      <td>All</td>\n",
       "      <td>SUV</td>\n",
       "      <td>6.0</td>\n",
       "      <td>2.9</td>\n",
       "      <td>268</td>\n",
       "      <td>189</td>\n",
       "      <td>20</td>\n",
       "      <td>4638</td>\n",
       "      <td>113</td>\n",
       "    </tr>\n",
       "  </tbody>\n",
       "</table>\n",
       "<p>428 rows × 9 columns</p>\n",
       "</div>"
      ],
      "text/plain": [
       "    DriveTrain    Type Cylinders  Engine Size (L)  Horsepower  Length (IN)  \\\n",
       "0        Front   Sedan       6.0              3.5         225          197   \n",
       "1        Front   Sedan       6.0              3.5         225          197   \n",
       "2          All     SUV       6.0              3.5         265          189   \n",
       "3         Rear  Sports       6.0              3.2         290          174   \n",
       "4        Front   Sedan       4.0              2.0         200          172   \n",
       "..         ...     ...       ...              ...         ...          ...   \n",
       "423      Front   Sedan       6.0              2.9         208          190   \n",
       "424      Front   Sedan       6.0              2.9         268          190   \n",
       "425      Front   Wagon       4.0              1.9         170          180   \n",
       "426        All   Wagon       5.0              2.5         208          186   \n",
       "427        All     SUV       6.0              2.9         268          189   \n",
       "\n",
       "     MPG (Highway)  Weight (LBS)  Wheelbase (IN)  \n",
       "0               24          3880             115  \n",
       "1               24          3893             115  \n",
       "2               23          4451             106  \n",
       "3               24          3153             100  \n",
       "4               31          2778             101  \n",
       "..             ...           ...             ...  \n",
       "423             28          3576             110  \n",
       "424             26          3653             110  \n",
       "425             29          2822             101  \n",
       "426             27          3823             109  \n",
       "427             20          4638             113  \n",
       "\n",
       "[428 rows x 9 columns]"
      ]
     },
     "execution_count": 504,
     "metadata": {},
     "output_type": "execute_result"
    }
   ],
   "source": [
    "cars_mech"
   ]
  },
  {
   "cell_type": "code",
   "execution_count": 505,
   "id": "3c725a4a",
   "metadata": {},
   "outputs": [
    {
     "data": {
      "text/html": [
       "<div>\n",
       "<style scoped>\n",
       "    .dataframe tbody tr th:only-of-type {\n",
       "        vertical-align: middle;\n",
       "    }\n",
       "\n",
       "    .dataframe tbody tr th {\n",
       "        vertical-align: top;\n",
       "    }\n",
       "\n",
       "    .dataframe thead th {\n",
       "        text-align: right;\n",
       "    }\n",
       "</style>\n",
       "<table border=\"1\" class=\"dataframe\">\n",
       "  <thead>\n",
       "    <tr style=\"text-align: right;\">\n",
       "      <th></th>\n",
       "      <th>All</th>\n",
       "      <th>Front</th>\n",
       "      <th>Rear</th>\n",
       "    </tr>\n",
       "  </thead>\n",
       "  <tbody>\n",
       "    <tr>\n",
       "      <th>0</th>\n",
       "      <td>0</td>\n",
       "      <td>1</td>\n",
       "      <td>0</td>\n",
       "    </tr>\n",
       "    <tr>\n",
       "      <th>1</th>\n",
       "      <td>0</td>\n",
       "      <td>1</td>\n",
       "      <td>0</td>\n",
       "    </tr>\n",
       "    <tr>\n",
       "      <th>2</th>\n",
       "      <td>1</td>\n",
       "      <td>0</td>\n",
       "      <td>0</td>\n",
       "    </tr>\n",
       "    <tr>\n",
       "      <th>3</th>\n",
       "      <td>0</td>\n",
       "      <td>0</td>\n",
       "      <td>1</td>\n",
       "    </tr>\n",
       "    <tr>\n",
       "      <th>4</th>\n",
       "      <td>0</td>\n",
       "      <td>1</td>\n",
       "      <td>0</td>\n",
       "    </tr>\n",
       "    <tr>\n",
       "      <th>...</th>\n",
       "      <td>...</td>\n",
       "      <td>...</td>\n",
       "      <td>...</td>\n",
       "    </tr>\n",
       "    <tr>\n",
       "      <th>423</th>\n",
       "      <td>0</td>\n",
       "      <td>1</td>\n",
       "      <td>0</td>\n",
       "    </tr>\n",
       "    <tr>\n",
       "      <th>424</th>\n",
       "      <td>0</td>\n",
       "      <td>1</td>\n",
       "      <td>0</td>\n",
       "    </tr>\n",
       "    <tr>\n",
       "      <th>425</th>\n",
       "      <td>0</td>\n",
       "      <td>1</td>\n",
       "      <td>0</td>\n",
       "    </tr>\n",
       "    <tr>\n",
       "      <th>426</th>\n",
       "      <td>1</td>\n",
       "      <td>0</td>\n",
       "      <td>0</td>\n",
       "    </tr>\n",
       "    <tr>\n",
       "      <th>427</th>\n",
       "      <td>1</td>\n",
       "      <td>0</td>\n",
       "      <td>0</td>\n",
       "    </tr>\n",
       "  </tbody>\n",
       "</table>\n",
       "<p>428 rows × 3 columns</p>\n",
       "</div>"
      ],
      "text/plain": [
       "     All  Front  Rear\n",
       "0      0      1     0\n",
       "1      0      1     0\n",
       "2      1      0     0\n",
       "3      0      0     1\n",
       "4      0      1     0\n",
       "..   ...    ...   ...\n",
       "423    0      1     0\n",
       "424    0      1     0\n",
       "425    0      1     0\n",
       "426    1      0     0\n",
       "427    1      0     0\n",
       "\n",
       "[428 rows x 3 columns]"
      ]
     },
     "execution_count": 505,
     "metadata": {},
     "output_type": "execute_result"
    }
   ],
   "source": [
    "pd.get_dummies(cars['DriveTrain'])"
   ]
  },
  {
   "cell_type": "code",
   "execution_count": 506,
   "id": "91c9dfd8",
   "metadata": {},
   "outputs": [
    {
     "data": {
      "text/html": [
       "<div>\n",
       "<style scoped>\n",
       "    .dataframe tbody tr th:only-of-type {\n",
       "        vertical-align: middle;\n",
       "    }\n",
       "\n",
       "    .dataframe tbody tr th {\n",
       "        vertical-align: top;\n",
       "    }\n",
       "\n",
       "    .dataframe thead th {\n",
       "        text-align: right;\n",
       "    }\n",
       "</style>\n",
       "<table border=\"1\" class=\"dataframe\">\n",
       "  <thead>\n",
       "    <tr style=\"text-align: right;\">\n",
       "      <th></th>\n",
       "      <th>DriveTrain</th>\n",
       "      <th>Type</th>\n",
       "      <th>Cylinders</th>\n",
       "      <th>Engine Size (L)</th>\n",
       "      <th>Horsepower</th>\n",
       "      <th>Length (IN)</th>\n",
       "      <th>MPG (Highway)</th>\n",
       "      <th>Weight (LBS)</th>\n",
       "      <th>Wheelbase (IN)</th>\n",
       "      <th>DriveTrain - All</th>\n",
       "      <th>DriveTrain - Front</th>\n",
       "    </tr>\n",
       "  </thead>\n",
       "  <tbody>\n",
       "    <tr>\n",
       "      <th>0</th>\n",
       "      <td>Front</td>\n",
       "      <td>Sedan</td>\n",
       "      <td>6.0</td>\n",
       "      <td>3.5</td>\n",
       "      <td>225</td>\n",
       "      <td>197</td>\n",
       "      <td>24</td>\n",
       "      <td>3880</td>\n",
       "      <td>115</td>\n",
       "      <td>0</td>\n",
       "      <td>1</td>\n",
       "    </tr>\n",
       "    <tr>\n",
       "      <th>1</th>\n",
       "      <td>Front</td>\n",
       "      <td>Sedan</td>\n",
       "      <td>6.0</td>\n",
       "      <td>3.5</td>\n",
       "      <td>225</td>\n",
       "      <td>197</td>\n",
       "      <td>24</td>\n",
       "      <td>3893</td>\n",
       "      <td>115</td>\n",
       "      <td>0</td>\n",
       "      <td>1</td>\n",
       "    </tr>\n",
       "    <tr>\n",
       "      <th>2</th>\n",
       "      <td>All</td>\n",
       "      <td>SUV</td>\n",
       "      <td>6.0</td>\n",
       "      <td>3.5</td>\n",
       "      <td>265</td>\n",
       "      <td>189</td>\n",
       "      <td>23</td>\n",
       "      <td>4451</td>\n",
       "      <td>106</td>\n",
       "      <td>1</td>\n",
       "      <td>0</td>\n",
       "    </tr>\n",
       "    <tr>\n",
       "      <th>3</th>\n",
       "      <td>Rear</td>\n",
       "      <td>Sports</td>\n",
       "      <td>6.0</td>\n",
       "      <td>3.2</td>\n",
       "      <td>290</td>\n",
       "      <td>174</td>\n",
       "      <td>24</td>\n",
       "      <td>3153</td>\n",
       "      <td>100</td>\n",
       "      <td>0</td>\n",
       "      <td>0</td>\n",
       "    </tr>\n",
       "    <tr>\n",
       "      <th>4</th>\n",
       "      <td>Front</td>\n",
       "      <td>Sedan</td>\n",
       "      <td>4.0</td>\n",
       "      <td>2.0</td>\n",
       "      <td>200</td>\n",
       "      <td>172</td>\n",
       "      <td>31</td>\n",
       "      <td>2778</td>\n",
       "      <td>101</td>\n",
       "      <td>0</td>\n",
       "      <td>1</td>\n",
       "    </tr>\n",
       "    <tr>\n",
       "      <th>...</th>\n",
       "      <td>...</td>\n",
       "      <td>...</td>\n",
       "      <td>...</td>\n",
       "      <td>...</td>\n",
       "      <td>...</td>\n",
       "      <td>...</td>\n",
       "      <td>...</td>\n",
       "      <td>...</td>\n",
       "      <td>...</td>\n",
       "      <td>...</td>\n",
       "      <td>...</td>\n",
       "    </tr>\n",
       "    <tr>\n",
       "      <th>423</th>\n",
       "      <td>Front</td>\n",
       "      <td>Sedan</td>\n",
       "      <td>6.0</td>\n",
       "      <td>2.9</td>\n",
       "      <td>208</td>\n",
       "      <td>190</td>\n",
       "      <td>28</td>\n",
       "      <td>3576</td>\n",
       "      <td>110</td>\n",
       "      <td>0</td>\n",
       "      <td>1</td>\n",
       "    </tr>\n",
       "    <tr>\n",
       "      <th>424</th>\n",
       "      <td>Front</td>\n",
       "      <td>Sedan</td>\n",
       "      <td>6.0</td>\n",
       "      <td>2.9</td>\n",
       "      <td>268</td>\n",
       "      <td>190</td>\n",
       "      <td>26</td>\n",
       "      <td>3653</td>\n",
       "      <td>110</td>\n",
       "      <td>0</td>\n",
       "      <td>1</td>\n",
       "    </tr>\n",
       "    <tr>\n",
       "      <th>425</th>\n",
       "      <td>Front</td>\n",
       "      <td>Wagon</td>\n",
       "      <td>4.0</td>\n",
       "      <td>1.9</td>\n",
       "      <td>170</td>\n",
       "      <td>180</td>\n",
       "      <td>29</td>\n",
       "      <td>2822</td>\n",
       "      <td>101</td>\n",
       "      <td>0</td>\n",
       "      <td>1</td>\n",
       "    </tr>\n",
       "    <tr>\n",
       "      <th>426</th>\n",
       "      <td>All</td>\n",
       "      <td>Wagon</td>\n",
       "      <td>5.0</td>\n",
       "      <td>2.5</td>\n",
       "      <td>208</td>\n",
       "      <td>186</td>\n",
       "      <td>27</td>\n",
       "      <td>3823</td>\n",
       "      <td>109</td>\n",
       "      <td>1</td>\n",
       "      <td>0</td>\n",
       "    </tr>\n",
       "    <tr>\n",
       "      <th>427</th>\n",
       "      <td>All</td>\n",
       "      <td>SUV</td>\n",
       "      <td>6.0</td>\n",
       "      <td>2.9</td>\n",
       "      <td>268</td>\n",
       "      <td>189</td>\n",
       "      <td>20</td>\n",
       "      <td>4638</td>\n",
       "      <td>113</td>\n",
       "      <td>1</td>\n",
       "      <td>0</td>\n",
       "    </tr>\n",
       "  </tbody>\n",
       "</table>\n",
       "<p>428 rows × 11 columns</p>\n",
       "</div>"
      ],
      "text/plain": [
       "    DriveTrain    Type Cylinders  Engine Size (L)  Horsepower  Length (IN)  \\\n",
       "0        Front   Sedan       6.0              3.5         225          197   \n",
       "1        Front   Sedan       6.0              3.5         225          197   \n",
       "2          All     SUV       6.0              3.5         265          189   \n",
       "3         Rear  Sports       6.0              3.2         290          174   \n",
       "4        Front   Sedan       4.0              2.0         200          172   \n",
       "..         ...     ...       ...              ...         ...          ...   \n",
       "423      Front   Sedan       6.0              2.9         208          190   \n",
       "424      Front   Sedan       6.0              2.9         268          190   \n",
       "425      Front   Wagon       4.0              1.9         170          180   \n",
       "426        All   Wagon       5.0              2.5         208          186   \n",
       "427        All     SUV       6.0              2.9         268          189   \n",
       "\n",
       "     MPG (Highway)  Weight (LBS)  Wheelbase (IN)  DriveTrain - All  \\\n",
       "0               24          3880             115                 0   \n",
       "1               24          3893             115                 0   \n",
       "2               23          4451             106                 1   \n",
       "3               24          3153             100                 0   \n",
       "4               31          2778             101                 0   \n",
       "..             ...           ...             ...               ...   \n",
       "423             28          3576             110                 0   \n",
       "424             26          3653             110                 0   \n",
       "425             29          2822             101                 0   \n",
       "426             27          3823             109                 1   \n",
       "427             20          4638             113                 1   \n",
       "\n",
       "     DriveTrain - Front  \n",
       "0                     1  \n",
       "1                     1  \n",
       "2                     0  \n",
       "3                     0  \n",
       "4                     1  \n",
       "..                  ...  \n",
       "423                   1  \n",
       "424                   1  \n",
       "425                   1  \n",
       "426                   0  \n",
       "427                   0  \n",
       "\n",
       "[428 rows x 11 columns]"
      ]
     },
     "execution_count": 506,
     "metadata": {},
     "output_type": "execute_result"
    }
   ],
   "source": [
    "# Make rear-wheel drive the \"default\"\n",
    "cars_mech['DriveTrain - All'] = pd.get_dummies(cars['DriveTrain'])['All']\n",
    "cars_mech['DriveTrain - Front'] = pd.get_dummies(cars['DriveTrain'])['Front']\n",
    "cars_mech"
   ]
  },
  {
   "cell_type": "code",
   "execution_count": 507,
   "id": "41f7861f",
   "metadata": {},
   "outputs": [
    {
     "data": {
      "text/html": [
       "<div>\n",
       "<style scoped>\n",
       "    .dataframe tbody tr th:only-of-type {\n",
       "        vertical-align: middle;\n",
       "    }\n",
       "\n",
       "    .dataframe tbody tr th {\n",
       "        vertical-align: top;\n",
       "    }\n",
       "\n",
       "    .dataframe thead th {\n",
       "        text-align: right;\n",
       "    }\n",
       "</style>\n",
       "<table border=\"1\" class=\"dataframe\">\n",
       "  <thead>\n",
       "    <tr style=\"text-align: right;\">\n",
       "      <th></th>\n",
       "      <th>Hybrid</th>\n",
       "      <th>SUV</th>\n",
       "      <th>Sedan</th>\n",
       "      <th>Sports</th>\n",
       "      <th>Truck</th>\n",
       "      <th>Wagon</th>\n",
       "    </tr>\n",
       "  </thead>\n",
       "  <tbody>\n",
       "    <tr>\n",
       "      <th>0</th>\n",
       "      <td>0</td>\n",
       "      <td>0</td>\n",
       "      <td>1</td>\n",
       "      <td>0</td>\n",
       "      <td>0</td>\n",
       "      <td>0</td>\n",
       "    </tr>\n",
       "    <tr>\n",
       "      <th>1</th>\n",
       "      <td>0</td>\n",
       "      <td>0</td>\n",
       "      <td>1</td>\n",
       "      <td>0</td>\n",
       "      <td>0</td>\n",
       "      <td>0</td>\n",
       "    </tr>\n",
       "    <tr>\n",
       "      <th>2</th>\n",
       "      <td>0</td>\n",
       "      <td>1</td>\n",
       "      <td>0</td>\n",
       "      <td>0</td>\n",
       "      <td>0</td>\n",
       "      <td>0</td>\n",
       "    </tr>\n",
       "    <tr>\n",
       "      <th>3</th>\n",
       "      <td>0</td>\n",
       "      <td>0</td>\n",
       "      <td>0</td>\n",
       "      <td>1</td>\n",
       "      <td>0</td>\n",
       "      <td>0</td>\n",
       "    </tr>\n",
       "    <tr>\n",
       "      <th>4</th>\n",
       "      <td>0</td>\n",
       "      <td>0</td>\n",
       "      <td>1</td>\n",
       "      <td>0</td>\n",
       "      <td>0</td>\n",
       "      <td>0</td>\n",
       "    </tr>\n",
       "    <tr>\n",
       "      <th>...</th>\n",
       "      <td>...</td>\n",
       "      <td>...</td>\n",
       "      <td>...</td>\n",
       "      <td>...</td>\n",
       "      <td>...</td>\n",
       "      <td>...</td>\n",
       "    </tr>\n",
       "    <tr>\n",
       "      <th>423</th>\n",
       "      <td>0</td>\n",
       "      <td>0</td>\n",
       "      <td>1</td>\n",
       "      <td>0</td>\n",
       "      <td>0</td>\n",
       "      <td>0</td>\n",
       "    </tr>\n",
       "    <tr>\n",
       "      <th>424</th>\n",
       "      <td>0</td>\n",
       "      <td>0</td>\n",
       "      <td>1</td>\n",
       "      <td>0</td>\n",
       "      <td>0</td>\n",
       "      <td>0</td>\n",
       "    </tr>\n",
       "    <tr>\n",
       "      <th>425</th>\n",
       "      <td>0</td>\n",
       "      <td>0</td>\n",
       "      <td>0</td>\n",
       "      <td>0</td>\n",
       "      <td>0</td>\n",
       "      <td>1</td>\n",
       "    </tr>\n",
       "    <tr>\n",
       "      <th>426</th>\n",
       "      <td>0</td>\n",
       "      <td>0</td>\n",
       "      <td>0</td>\n",
       "      <td>0</td>\n",
       "      <td>0</td>\n",
       "      <td>1</td>\n",
       "    </tr>\n",
       "    <tr>\n",
       "      <th>427</th>\n",
       "      <td>0</td>\n",
       "      <td>1</td>\n",
       "      <td>0</td>\n",
       "      <td>0</td>\n",
       "      <td>0</td>\n",
       "      <td>0</td>\n",
       "    </tr>\n",
       "  </tbody>\n",
       "</table>\n",
       "<p>428 rows × 6 columns</p>\n",
       "</div>"
      ],
      "text/plain": [
       "     Hybrid  SUV  Sedan  Sports  Truck  Wagon\n",
       "0         0    0      1       0      0      0\n",
       "1         0    0      1       0      0      0\n",
       "2         0    1      0       0      0      0\n",
       "3         0    0      0       1      0      0\n",
       "4         0    0      1       0      0      0\n",
       "..      ...  ...    ...     ...    ...    ...\n",
       "423       0    0      1       0      0      0\n",
       "424       0    0      1       0      0      0\n",
       "425       0    0      0       0      0      1\n",
       "426       0    0      0       0      0      1\n",
       "427       0    1      0       0      0      0\n",
       "\n",
       "[428 rows x 6 columns]"
      ]
     },
     "execution_count": 507,
     "metadata": {},
     "output_type": "execute_result"
    }
   ],
   "source": [
    "pd.get_dummies(cars_mech['Type'])"
   ]
  },
  {
   "cell_type": "code",
   "execution_count": 508,
   "id": "491c2550",
   "metadata": {},
   "outputs": [],
   "source": [
    "# Make Sedan the default\n",
    "cars_mech['Type - Hybrid'] = pd.get_dummies(cars['Type'])['Hybrid']\n",
    "cars_mech['Type - SUV'] = pd.get_dummies(cars['Type'])['SUV']\n",
    "cars_mech['Type - Sports'] = pd.get_dummies(cars['Type'])['Sports']\n",
    "cars_mech['Type - Truck'] = pd.get_dummies(cars['Type'])['Truck']\n",
    "cars_mech['Type - Wagon'] = pd.get_dummies(cars['Type'])['Wagon']"
   ]
  },
  {
   "cell_type": "code",
   "execution_count": 509,
   "id": "899af508",
   "metadata": {},
   "outputs": [
    {
     "data": {
      "text/html": [
       "<div>\n",
       "<style scoped>\n",
       "    .dataframe tbody tr th:only-of-type {\n",
       "        vertical-align: middle;\n",
       "    }\n",
       "\n",
       "    .dataframe tbody tr th {\n",
       "        vertical-align: top;\n",
       "    }\n",
       "\n",
       "    .dataframe thead th {\n",
       "        text-align: right;\n",
       "    }\n",
       "</style>\n",
       "<table border=\"1\" class=\"dataframe\">\n",
       "  <thead>\n",
       "    <tr style=\"text-align: right;\">\n",
       "      <th></th>\n",
       "      <th>3.0</th>\n",
       "      <th>4.0</th>\n",
       "      <th>5.0</th>\n",
       "      <th>6.0</th>\n",
       "      <th>8.0</th>\n",
       "      <th>10.0</th>\n",
       "      <th>12.0</th>\n",
       "    </tr>\n",
       "  </thead>\n",
       "  <tbody>\n",
       "    <tr>\n",
       "      <th>0</th>\n",
       "      <td>0</td>\n",
       "      <td>0</td>\n",
       "      <td>0</td>\n",
       "      <td>1</td>\n",
       "      <td>0</td>\n",
       "      <td>0</td>\n",
       "      <td>0</td>\n",
       "    </tr>\n",
       "    <tr>\n",
       "      <th>1</th>\n",
       "      <td>0</td>\n",
       "      <td>0</td>\n",
       "      <td>0</td>\n",
       "      <td>1</td>\n",
       "      <td>0</td>\n",
       "      <td>0</td>\n",
       "      <td>0</td>\n",
       "    </tr>\n",
       "    <tr>\n",
       "      <th>2</th>\n",
       "      <td>0</td>\n",
       "      <td>0</td>\n",
       "      <td>0</td>\n",
       "      <td>1</td>\n",
       "      <td>0</td>\n",
       "      <td>0</td>\n",
       "      <td>0</td>\n",
       "    </tr>\n",
       "    <tr>\n",
       "      <th>3</th>\n",
       "      <td>0</td>\n",
       "      <td>0</td>\n",
       "      <td>0</td>\n",
       "      <td>1</td>\n",
       "      <td>0</td>\n",
       "      <td>0</td>\n",
       "      <td>0</td>\n",
       "    </tr>\n",
       "    <tr>\n",
       "      <th>4</th>\n",
       "      <td>0</td>\n",
       "      <td>1</td>\n",
       "      <td>0</td>\n",
       "      <td>0</td>\n",
       "      <td>0</td>\n",
       "      <td>0</td>\n",
       "      <td>0</td>\n",
       "    </tr>\n",
       "    <tr>\n",
       "      <th>...</th>\n",
       "      <td>...</td>\n",
       "      <td>...</td>\n",
       "      <td>...</td>\n",
       "      <td>...</td>\n",
       "      <td>...</td>\n",
       "      <td>...</td>\n",
       "      <td>...</td>\n",
       "    </tr>\n",
       "    <tr>\n",
       "      <th>423</th>\n",
       "      <td>0</td>\n",
       "      <td>0</td>\n",
       "      <td>0</td>\n",
       "      <td>1</td>\n",
       "      <td>0</td>\n",
       "      <td>0</td>\n",
       "      <td>0</td>\n",
       "    </tr>\n",
       "    <tr>\n",
       "      <th>424</th>\n",
       "      <td>0</td>\n",
       "      <td>0</td>\n",
       "      <td>0</td>\n",
       "      <td>1</td>\n",
       "      <td>0</td>\n",
       "      <td>0</td>\n",
       "      <td>0</td>\n",
       "    </tr>\n",
       "    <tr>\n",
       "      <th>425</th>\n",
       "      <td>0</td>\n",
       "      <td>1</td>\n",
       "      <td>0</td>\n",
       "      <td>0</td>\n",
       "      <td>0</td>\n",
       "      <td>0</td>\n",
       "      <td>0</td>\n",
       "    </tr>\n",
       "    <tr>\n",
       "      <th>426</th>\n",
       "      <td>0</td>\n",
       "      <td>0</td>\n",
       "      <td>1</td>\n",
       "      <td>0</td>\n",
       "      <td>0</td>\n",
       "      <td>0</td>\n",
       "      <td>0</td>\n",
       "    </tr>\n",
       "    <tr>\n",
       "      <th>427</th>\n",
       "      <td>0</td>\n",
       "      <td>0</td>\n",
       "      <td>0</td>\n",
       "      <td>1</td>\n",
       "      <td>0</td>\n",
       "      <td>0</td>\n",
       "      <td>0</td>\n",
       "    </tr>\n",
       "  </tbody>\n",
       "</table>\n",
       "<p>428 rows × 7 columns</p>\n",
       "</div>"
      ],
      "text/plain": [
       "     3.0  4.0  5.0  6.0  8.0  10.0  12.0\n",
       "0      0    0    0    1    0     0     0\n",
       "1      0    0    0    1    0     0     0\n",
       "2      0    0    0    1    0     0     0\n",
       "3      0    0    0    1    0     0     0\n",
       "4      0    1    0    0    0     0     0\n",
       "..   ...  ...  ...  ...  ...   ...   ...\n",
       "423    0    0    0    1    0     0     0\n",
       "424    0    0    0    1    0     0     0\n",
       "425    0    1    0    0    0     0     0\n",
       "426    0    0    1    0    0     0     0\n",
       "427    0    0    0    1    0     0     0\n",
       "\n",
       "[428 rows x 7 columns]"
      ]
     },
     "execution_count": 509,
     "metadata": {},
     "output_type": "execute_result"
    }
   ],
   "source": [
    "pd.get_dummies(cars_mech['Cylinders'])"
   ]
  },
  {
   "cell_type": "code",
   "execution_count": 510,
   "id": "8b668fdf",
   "metadata": {},
   "outputs": [],
   "source": [
    "# Make six-cyllinder cars the default\n",
    "cars_mech['Cylinders - 3'] = pd.get_dummies(cars['Cylinders'])[3.0]\n",
    "cars_mech['Cylinders - 4'] = pd.get_dummies(cars['Cylinders'])[4.0]\n",
    "cars_mech['Cylinders - 5'] = pd.get_dummies(cars['Cylinders'])[5.0]\n",
    "cars_mech['Cylinders - 8'] = pd.get_dummies(cars['Cylinders'])[8.0]\n",
    "cars_mech['Cylinders - 10'] = pd.get_dummies(cars['Cylinders'])[10.0]\n",
    "cars_mech['Cylinders - 12'] = pd.get_dummies(cars['Cylinders'])[12.0]"
   ]
  },
  {
   "cell_type": "code",
   "execution_count": 511,
   "id": "1aa2a9e1",
   "metadata": {},
   "outputs": [
    {
     "data": {
      "text/plain": [
       "Index(['DriveTrain', 'Type', 'Cylinders', 'Engine Size (L)', 'Horsepower',\n",
       "       'Length (IN)', 'MPG (Highway)', 'Weight (LBS)', 'Wheelbase (IN)',\n",
       "       'DriveTrain - All', 'DriveTrain - Front', 'Type - Hybrid', 'Type - SUV',\n",
       "       'Type - Sports', 'Type - Truck', 'Type - Wagon', 'Cylinders - 3',\n",
       "       'Cylinders - 4', 'Cylinders - 5', 'Cylinders - 8', 'Cylinders - 10',\n",
       "       'Cylinders - 12'],\n",
       "      dtype='object')"
      ]
     },
     "execution_count": 511,
     "metadata": {},
     "output_type": "execute_result"
    }
   ],
   "source": [
    "cars_mech.columns"
   ]
  },
  {
   "cell_type": "code",
   "execution_count": 512,
   "id": "b7f69d6e",
   "metadata": {},
   "outputs": [
    {
     "data": {
      "text/plain": [
       "Engine Size (L)       float64\n",
       "Horsepower              int64\n",
       "Length (IN)             int64\n",
       "Weight (LBS)            int64\n",
       "Wheelbase (IN)          int64\n",
       "DriveTrain - All        uint8\n",
       "DriveTrain - Front      uint8\n",
       "Type - Hybrid           uint8\n",
       "Type - SUV              uint8\n",
       "Type - Sports           uint8\n",
       "Type - Truck            uint8\n",
       "Type - Wagon            uint8\n",
       "Cylinders - 3           uint8\n",
       "Cylinders - 4           uint8\n",
       "Cylinders - 5           uint8\n",
       "Cylinders - 8           uint8\n",
       "Cylinders - 10          uint8\n",
       "Cylinders - 12          uint8\n",
       "dtype: object"
      ]
     },
     "execution_count": 512,
     "metadata": {},
     "output_type": "execute_result"
    }
   ],
   "source": [
    "cars_mpg_model_2 = LinearRegression(fit_intercept = True)\n",
    "y = cars_mech['MPG (Highway)']\n",
    "X = cars_mech.drop('MPG (Highway)', axis = 1)\n",
    "X = X.select_dtypes('number')\n",
    "X.dtypes"
   ]
  },
  {
   "cell_type": "code",
   "execution_count": 513,
   "id": "d5ab909b",
   "metadata": {},
   "outputs": [
    {
     "data": {
      "text/plain": [
       "34.508820072938015"
      ]
     },
     "execution_count": 513,
     "metadata": {},
     "output_type": "execute_result"
    }
   ],
   "source": [
    "cars_mpg_model_2.fit(X,y)\n",
    "cars_mpg_model_2.intercept_"
   ]
  },
  {
   "cell_type": "code",
   "execution_count": 514,
   "id": "5813c3c3",
   "metadata": {},
   "outputs": [
    {
     "data": {
      "text/html": [
       "<div>\n",
       "<style scoped>\n",
       "    .dataframe tbody tr th:only-of-type {\n",
       "        vertical-align: middle;\n",
       "    }\n",
       "\n",
       "    .dataframe tbody tr th {\n",
       "        vertical-align: top;\n",
       "    }\n",
       "\n",
       "    .dataframe thead th {\n",
       "        text-align: right;\n",
       "    }\n",
       "</style>\n",
       "<table border=\"1\" class=\"dataframe\">\n",
       "  <thead>\n",
       "    <tr style=\"text-align: right;\">\n",
       "      <th></th>\n",
       "      <th>Coefficients</th>\n",
       "    </tr>\n",
       "  </thead>\n",
       "  <tbody>\n",
       "    <tr>\n",
       "      <th>Engine Size (L)</th>\n",
       "      <td>-0.533936</td>\n",
       "    </tr>\n",
       "    <tr>\n",
       "      <th>Horsepower</th>\n",
       "      <td>-0.012232</td>\n",
       "    </tr>\n",
       "    <tr>\n",
       "      <th>Length (IN)</th>\n",
       "      <td>0.018863</td>\n",
       "    </tr>\n",
       "    <tr>\n",
       "      <th>Weight (LBS)</th>\n",
       "      <td>-0.003440</td>\n",
       "    </tr>\n",
       "    <tr>\n",
       "      <th>Wheelbase (IN)</th>\n",
       "      <td>0.044207</td>\n",
       "    </tr>\n",
       "    <tr>\n",
       "      <th>DriveTrain - All</th>\n",
       "      <td>-0.147600</td>\n",
       "    </tr>\n",
       "    <tr>\n",
       "      <th>DriveTrain - Front</th>\n",
       "      <td>1.031903</td>\n",
       "    </tr>\n",
       "    <tr>\n",
       "      <th>Type - Hybrid</th>\n",
       "      <td>17.370264</td>\n",
       "    </tr>\n",
       "    <tr>\n",
       "      <th>Type - SUV</th>\n",
       "      <td>-3.181807</td>\n",
       "    </tr>\n",
       "    <tr>\n",
       "      <th>Type - Sports</th>\n",
       "      <td>-1.039186</td>\n",
       "    </tr>\n",
       "    <tr>\n",
       "      <th>Type - Truck</th>\n",
       "      <td>-4.152564</td>\n",
       "    </tr>\n",
       "    <tr>\n",
       "      <th>Type - Wagon</th>\n",
       "      <td>-0.525942</td>\n",
       "    </tr>\n",
       "    <tr>\n",
       "      <th>Cylinders - 3</th>\n",
       "      <td>14.290949</td>\n",
       "    </tr>\n",
       "    <tr>\n",
       "      <th>Cylinders - 4</th>\n",
       "      <td>1.854806</td>\n",
       "    </tr>\n",
       "    <tr>\n",
       "      <th>Cylinders - 5</th>\n",
       "      <td>0.549443</td>\n",
       "    </tr>\n",
       "    <tr>\n",
       "      <th>Cylinders - 8</th>\n",
       "      <td>1.201179</td>\n",
       "    </tr>\n",
       "    <tr>\n",
       "      <th>Cylinders - 10</th>\n",
       "      <td>2.376988</td>\n",
       "    </tr>\n",
       "    <tr>\n",
       "      <th>Cylinders - 12</th>\n",
       "      <td>1.104421</td>\n",
       "    </tr>\n",
       "  </tbody>\n",
       "</table>\n",
       "</div>"
      ],
      "text/plain": [
       "                    Coefficients\n",
       "Engine Size (L)        -0.533936\n",
       "Horsepower             -0.012232\n",
       "Length (IN)             0.018863\n",
       "Weight (LBS)           -0.003440\n",
       "Wheelbase (IN)          0.044207\n",
       "DriveTrain - All       -0.147600\n",
       "DriveTrain - Front      1.031903\n",
       "Type - Hybrid          17.370264\n",
       "Type - SUV             -3.181807\n",
       "Type - Sports          -1.039186\n",
       "Type - Truck           -4.152564\n",
       "Type - Wagon           -0.525942\n",
       "Cylinders - 3          14.290949\n",
       "Cylinders - 4           1.854806\n",
       "Cylinders - 5           0.549443\n",
       "Cylinders - 8           1.201179\n",
       "Cylinders - 10          2.376988\n",
       "Cylinders - 12          1.104421"
      ]
     },
     "execution_count": 514,
     "metadata": {},
     "output_type": "execute_result"
    }
   ],
   "source": [
    "pd.DataFrame(cars_mpg_model_2.coef_, columns = [\"Coefficients\"], \n",
    "             index = X.columns)"
   ]
  },
  {
   "cell_type": "code",
   "execution_count": 515,
   "id": "43a8894a",
   "metadata": {},
   "outputs": [
    {
     "data": {
      "text/plain": [
       "0.8526382117756819"
      ]
     },
     "execution_count": 515,
     "metadata": {},
     "output_type": "execute_result"
    }
   ],
   "source": [
    "metrics.r2_score(y, cars_mpg_model_2.predict(X))"
   ]
  },
  {
   "cell_type": "code",
   "execution_count": 516,
   "id": "24abcc93",
   "metadata": {},
   "outputs": [
    {
     "data": {
      "text/plain": [
       "4.84590002308267"
      ]
     },
     "execution_count": 516,
     "metadata": {},
     "output_type": "execute_result"
    }
   ],
   "source": [
    "metrics.mean_squared_error(y, cars_mpg_model_2.predict(X))"
   ]
  },
  {
   "cell_type": "code",
   "execution_count": 517,
   "id": "7bf89961",
   "metadata": {},
   "outputs": [
    {
     "data": {
      "text/plain": [
       "<AxesSubplot:xlabel='MPG (Highway)'>"
      ]
     },
     "execution_count": 517,
     "metadata": {},
     "output_type": "execute_result"
    },
    {
     "data": {
      "image/png": "[encoded data removed]",
      "text/plain": [
       "<Figure size 640x480 with 1 Axes>"
      ]
     },
     "metadata": {},
     "output_type": "display_data"
    }
   ],
   "source": [
    "sns.residplot(x = y, y = cars_mpg_model_2.predict(X) )"
   ]
  },
  {
   "cell_type": "markdown",
   "id": "661c8e34",
   "metadata": {},
   "source": [
    "### Adding Nonlinear Variables"
   ]
  },
  {
   "cell_type": "code",
   "execution_count": 518,
   "id": "21844f40",
   "metadata": {},
   "outputs": [
    {
     "data": {
      "text/plain": [
       "<AxesSubplot:xlabel='Horsepower', ylabel='MPG (Highway)'>"
      ]
     },
     "execution_count": 518,
     "metadata": {},
     "output_type": "execute_result"
    },
    {
     "data": {
      "image/png": "[encoded data removed]",
      "text/plain": [
       "<Figure size 640x480 with 1 Axes>"
      ]
     },
     "metadata": {},
     "output_type": "display_data"
    }
   ],
   "source": [
    "sns.scatterplot(data = cars_mech, y = \"MPG (Highway)\", x = \"Horsepower\")"
   ]
  },
  {
   "cell_type": "code",
   "execution_count": 519,
   "id": "589be411",
   "metadata": {},
   "outputs": [
    {
     "data": {
      "text/plain": [
       "<AxesSubplot:xlabel='Engine Size (L)', ylabel='MPG (Highway)'>"
      ]
     },
     "execution_count": 519,
     "metadata": {},
     "output_type": "execute_result"
    },
    {
     "data": {
      "image/png": "[encoded data removed]",
      "text/plain": [
       "<Figure size 640x480 with 1 Axes>"
      ]
     },
     "metadata": {},
     "output_type": "display_data"
    }
   ],
   "source": [
    "sns.scatterplot(data = cars_mech, y = \"MPG (Highway)\", x = \"Engine Size (L)\")"
   ]
  },
  {
   "cell_type": "code",
   "execution_count": 520,
   "id": "36deb190",
   "metadata": {},
   "outputs": [
    {
     "data": {
      "text/plain": [
       "<AxesSubplot:xlabel='Weight (LBS)', ylabel='MPG (Highway)'>"
      ]
     },
     "execution_count": 520,
     "metadata": {},
     "output_type": "execute_result"
    },
    {
     "data": {
      "image/png": "[encoded data removed]",
      "text/plain": [
       "<Figure size 640x480 with 1 Axes>"
      ]
     },
     "metadata": {},
     "output_type": "display_data"
    }
   ],
   "source": [
    "sns.scatterplot(data = cars_mech, y = \"MPG (Highway)\", x = \"Weight (LBS)\")"
   ]
  },
  {
   "cell_type": "code",
   "execution_count": 521,
   "id": "0d2df025",
   "metadata": {},
   "outputs": [
    {
     "data": {
      "text/plain": [
       "<AxesSubplot:xlabel='Wheelbase (IN)', ylabel='MPG (Highway)'>"
      ]
     },
     "execution_count": 521,
     "metadata": {},
     "output_type": "execute_result"
    },
    {
     "data": {
      "image/png": "[encoded data removed]",
      "text/plain": [
       "<Figure size 640x480 with 1 Axes>"
      ]
     },
     "metadata": {},
     "output_type": "display_data"
    }
   ],
   "source": [
    "sns.scatterplot(data = cars_mech, y = \"MPG (Highway)\", x = \"Wheelbase (IN)\")"
   ]
  },
  {
   "cell_type": "markdown",
   "id": "f9018155",
   "metadata": {},
   "source": [
    "####  Adding a square term of horsepower to model"
   ]
  },
  {
   "cell_type": "code",
   "execution_count": 525,
   "id": "a7190ac6",
   "metadata": {},
   "outputs": [
    {
     "data": {
      "text/html": [
       "<div>\n",
       "<style scoped>\n",
       "    .dataframe tbody tr th:only-of-type {\n",
       "        vertical-align: middle;\n",
       "    }\n",
       "\n",
       "    .dataframe tbody tr th {\n",
       "        vertical-align: top;\n",
       "    }\n",
       "\n",
       "    .dataframe thead th {\n",
       "        text-align: right;\n",
       "    }\n",
       "</style>\n",
       "<table border=\"1\" class=\"dataframe\">\n",
       "  <thead>\n",
       "    <tr style=\"text-align: right;\">\n",
       "      <th></th>\n",
       "      <th>DriveTrain</th>\n",
       "      <th>Type</th>\n",
       "      <th>Cylinders</th>\n",
       "      <th>Engine Size (L)</th>\n",
       "      <th>Horsepower</th>\n",
       "      <th>Length (IN)</th>\n",
       "      <th>MPG (Highway)</th>\n",
       "      <th>Weight (LBS)</th>\n",
       "      <th>Wheelbase (IN)</th>\n",
       "      <th>DriveTrain - All</th>\n",
       "      <th>...</th>\n",
       "      <th>Type - Sports</th>\n",
       "      <th>Type - Truck</th>\n",
       "      <th>Type - Wagon</th>\n",
       "      <th>Cylinders - 3</th>\n",
       "      <th>Cylinders - 4</th>\n",
       "      <th>Cylinders - 5</th>\n",
       "      <th>Cylinders - 8</th>\n",
       "      <th>Cylinders - 10</th>\n",
       "      <th>Cylinders - 12</th>\n",
       "      <th>HP^2</th>\n",
       "    </tr>\n",
       "  </thead>\n",
       "  <tbody>\n",
       "    <tr>\n",
       "      <th>0</th>\n",
       "      <td>Front</td>\n",
       "      <td>Sedan</td>\n",
       "      <td>6.0</td>\n",
       "      <td>3.5</td>\n",
       "      <td>225</td>\n",
       "      <td>197</td>\n",
       "      <td>24</td>\n",
       "      <td>3880</td>\n",
       "      <td>115</td>\n",
       "      <td>0</td>\n",
       "      <td>...</td>\n",
       "      <td>0</td>\n",
       "      <td>0</td>\n",
       "      <td>0</td>\n",
       "      <td>0</td>\n",
       "      <td>0</td>\n",
       "      <td>0</td>\n",
       "      <td>0</td>\n",
       "      <td>0</td>\n",
       "      <td>0</td>\n",
       "      <td>50625</td>\n",
       "    </tr>\n",
       "    <tr>\n",
       "      <th>1</th>\n",
       "      <td>Front</td>\n",
       "      <td>Sedan</td>\n",
       "      <td>6.0</td>\n",
       "      <td>3.5</td>\n",
       "      <td>225</td>\n",
       "      <td>197</td>\n",
       "      <td>24</td>\n",
       "      <td>3893</td>\n",
       "      <td>115</td>\n",
       "      <td>0</td>\n",
       "      <td>...</td>\n",
       "      <td>0</td>\n",
       "      <td>0</td>\n",
       "      <td>0</td>\n",
       "      <td>0</td>\n",
       "      <td>0</td>\n",
       "      <td>0</td>\n",
       "      <td>0</td>\n",
       "      <td>0</td>\n",
       "      <td>0</td>\n",
       "      <td>50625</td>\n",
       "    </tr>\n",
       "    <tr>\n",
       "      <th>2</th>\n",
       "      <td>All</td>\n",
       "      <td>SUV</td>\n",
       "      <td>6.0</td>\n",
       "      <td>3.5</td>\n",
       "      <td>265</td>\n",
       "      <td>189</td>\n",
       "      <td>23</td>\n",
       "      <td>4451</td>\n",
       "      <td>106</td>\n",
       "      <td>1</td>\n",
       "      <td>...</td>\n",
       "      <td>0</td>\n",
       "      <td>0</td>\n",
       "      <td>0</td>\n",
       "      <td>0</td>\n",
       "      <td>0</td>\n",
       "      <td>0</td>\n",
       "      <td>0</td>\n",
       "      <td>0</td>\n",
       "      <td>0</td>\n",
       "      <td>70225</td>\n",
       "    </tr>\n",
       "    <tr>\n",
       "      <th>3</th>\n",
       "      <td>Rear</td>\n",
       "      <td>Sports</td>\n",
       "      <td>6.0</td>\n",
       "      <td>3.2</td>\n",
       "      <td>290</td>\n",
       "      <td>174</td>\n",
       "      <td>24</td>\n",
       "      <td>3153</td>\n",
       "      <td>100</td>\n",
       "      <td>0</td>\n",
       "      <td>...</td>\n",
       "      <td>1</td>\n",
       "      <td>0</td>\n",
       "      <td>0</td>\n",
       "      <td>0</td>\n",
       "      <td>0</td>\n",
       "      <td>0</td>\n",
       "      <td>0</td>\n",
       "      <td>0</td>\n",
       "      <td>0</td>\n",
       "      <td>84100</td>\n",
       "    </tr>\n",
       "    <tr>\n",
       "      <th>4</th>\n",
       "      <td>Front</td>\n",
       "      <td>Sedan</td>\n",
       "      <td>4.0</td>\n",
       "      <td>2.0</td>\n",
       "      <td>200</td>\n",
       "      <td>172</td>\n",
       "      <td>31</td>\n",
       "      <td>2778</td>\n",
       "      <td>101</td>\n",
       "      <td>0</td>\n",
       "      <td>...</td>\n",
       "      <td>0</td>\n",
       "      <td>0</td>\n",
       "      <td>0</td>\n",
       "      <td>0</td>\n",
       "      <td>1</td>\n",
       "      <td>0</td>\n",
       "      <td>0</td>\n",
       "      <td>0</td>\n",
       "      <td>0</td>\n",
       "      <td>40000</td>\n",
       "    </tr>\n",
       "    <tr>\n",
       "      <th>...</th>\n",
       "      <td>...</td>\n",
       "      <td>...</td>\n",
       "      <td>...</td>\n",
       "      <td>...</td>\n",
       "      <td>...</td>\n",
       "      <td>...</td>\n",
       "      <td>...</td>\n",
       "      <td>...</td>\n",
       "      <td>...</td>\n",
       "      <td>...</td>\n",
       "      <td>...</td>\n",
       "      <td>...</td>\n",
       "      <td>...</td>\n",
       "      <td>...</td>\n",
       "      <td>...</td>\n",
       "      <td>...</td>\n",
       "      <td>...</td>\n",
       "      <td>...</td>\n",
       "      <td>...</td>\n",
       "      <td>...</td>\n",
       "      <td>...</td>\n",
       "    </tr>\n",
       "    <tr>\n",
       "      <th>423</th>\n",
       "      <td>Front</td>\n",
       "      <td>Sedan</td>\n",
       "      <td>6.0</td>\n",
       "      <td>2.9</td>\n",
       "      <td>208</td>\n",
       "      <td>190</td>\n",
       "      <td>28</td>\n",
       "      <td>3576</td>\n",
       "      <td>110</td>\n",
       "      <td>0</td>\n",
       "      <td>...</td>\n",
       "      <td>0</td>\n",
       "      <td>0</td>\n",
       "      <td>0</td>\n",
       "      <td>0</td>\n",
       "      <td>0</td>\n",
       "      <td>0</td>\n",
       "      <td>0</td>\n",
       "      <td>0</td>\n",
       "      <td>0</td>\n",
       "      <td>43264</td>\n",
       "    </tr>\n",
       "    <tr>\n",
       "      <th>424</th>\n",
       "      <td>Front</td>\n",
       "      <td>Sedan</td>\n",
       "      <td>6.0</td>\n",
       "      <td>2.9</td>\n",
       "      <td>268</td>\n",
       "      <td>190</td>\n",
       "      <td>26</td>\n",
       "      <td>3653</td>\n",
       "      <td>110</td>\n",
       "      <td>0</td>\n",
       "      <td>...</td>\n",
       "      <td>0</td>\n",
       "      <td>0</td>\n",
       "      <td>0</td>\n",
       "      <td>0</td>\n",
       "      <td>0</td>\n",
       "      <td>0</td>\n",
       "      <td>0</td>\n",
       "      <td>0</td>\n",
       "      <td>0</td>\n",
       "      <td>71824</td>\n",
       "    </tr>\n",
       "    <tr>\n",
       "      <th>425</th>\n",
       "      <td>Front</td>\n",
       "      <td>Wagon</td>\n",
       "      <td>4.0</td>\n",
       "      <td>1.9</td>\n",
       "      <td>170</td>\n",
       "      <td>180</td>\n",
       "      <td>29</td>\n",
       "      <td>2822</td>\n",
       "      <td>101</td>\n",
       "      <td>0</td>\n",
       "      <td>...</td>\n",
       "      <td>0</td>\n",
       "      <td>0</td>\n",
       "      <td>1</td>\n",
       "      <td>0</td>\n",
       "      <td>1</td>\n",
       "      <td>0</td>\n",
       "      <td>0</td>\n",
       "      <td>0</td>\n",
       "      <td>0</td>\n",
       "      <td>28900</td>\n",
       "    </tr>\n",
       "    <tr>\n",
       "      <th>426</th>\n",
       "      <td>All</td>\n",
       "      <td>Wagon</td>\n",
       "      <td>5.0</td>\n",
       "      <td>2.5</td>\n",
       "      <td>208</td>\n",
       "      <td>186</td>\n",
       "      <td>27</td>\n",
       "      <td>3823</td>\n",
       "      <td>109</td>\n",
       "      <td>1</td>\n",
       "      <td>...</td>\n",
       "      <td>0</td>\n",
       "      <td>0</td>\n",
       "      <td>1</td>\n",
       "      <td>0</td>\n",
       "      <td>0</td>\n",
       "      <td>1</td>\n",
       "      <td>0</td>\n",
       "      <td>0</td>\n",
       "      <td>0</td>\n",
       "      <td>43264</td>\n",
       "    </tr>\n",
       "    <tr>\n",
       "      <th>427</th>\n",
       "      <td>All</td>\n",
       "      <td>SUV</td>\n",
       "      <td>6.0</td>\n",
       "      <td>2.9</td>\n",
       "      <td>268</td>\n",
       "      <td>189</td>\n",
       "      <td>20</td>\n",
       "      <td>4638</td>\n",
       "      <td>113</td>\n",
       "      <td>1</td>\n",
       "      <td>...</td>\n",
       "      <td>0</td>\n",
       "      <td>0</td>\n",
       "      <td>0</td>\n",
       "      <td>0</td>\n",
       "      <td>0</td>\n",
       "      <td>0</td>\n",
       "      <td>0</td>\n",
       "      <td>0</td>\n",
       "      <td>0</td>\n",
       "      <td>71824</td>\n",
       "    </tr>\n",
       "  </tbody>\n",
       "</table>\n",
       "<p>428 rows × 23 columns</p>\n",
       "</div>"
      ],
      "text/plain": [
       "    DriveTrain    Type Cylinders  Engine Size (L)  Horsepower  Length (IN)  \\\n",
       "0        Front   Sedan       6.0              3.5         225          197   \n",
       "1        Front   Sedan       6.0              3.5         225          197   \n",
       "2          All     SUV       6.0              3.5         265          189   \n",
       "3         Rear  Sports       6.0              3.2         290          174   \n",
       "4        Front   Sedan       4.0              2.0         200          172   \n",
       "..         ...     ...       ...              ...         ...          ...   \n",
       "423      Front   Sedan       6.0              2.9         208          190   \n",
       "424      Front   Sedan       6.0              2.9         268          190   \n",
       "425      Front   Wagon       4.0              1.9         170          180   \n",
       "426        All   Wagon       5.0              2.5         208          186   \n",
       "427        All     SUV       6.0              2.9         268          189   \n",
       "\n",
       "     MPG (Highway)  Weight (LBS)  Wheelbase (IN)  DriveTrain - All  ...  \\\n",
       "0               24          3880             115                 0  ...   \n",
       "1               24          3893             115                 0  ...   \n",
       "2               23          4451             106                 1  ...   \n",
       "3               24          3153             100                 0  ...   \n",
       "4               31          2778             101                 0  ...   \n",
       "..             ...           ...             ...               ...  ...   \n",
       "423             28          3576             110                 0  ...   \n",
       "424             26          3653             110                 0  ...   \n",
       "425             29          2822             101                 0  ...   \n",
       "426             27          3823             109                 1  ...   \n",
       "427             20          4638             113                 1  ...   \n",
       "\n",
       "     Type - Sports  Type - Truck  Type - Wagon  Cylinders - 3  Cylinders - 4  \\\n",
       "0                0             0             0              0              0   \n",
       "1                0             0             0              0              0   \n",
       "2                0             0             0              0              0   \n",
       "3                1             0             0              0              0   \n",
       "4                0             0             0              0              1   \n",
       "..             ...           ...           ...            ...            ...   \n",
       "423              0             0             0              0              0   \n",
       "424              0             0             0              0              0   \n",
       "425              0             0             1              0              1   \n",
       "426              0             0             1              0              0   \n",
       "427              0             0             0              0              0   \n",
       "\n",
       "     Cylinders - 5  Cylinders - 8  Cylinders - 10  Cylinders - 12   HP^2  \n",
       "0                0              0               0               0  50625  \n",
       "1                0              0               0               0  50625  \n",
       "2                0              0               0               0  70225  \n",
       "3                0              0               0               0  84100  \n",
       "4                0              0               0               0  40000  \n",
       "..             ...            ...             ...             ...    ...  \n",
       "423              0              0               0               0  43264  \n",
       "424              0              0               0               0  71824  \n",
       "425              0              0               0               0  28900  \n",
       "426              1              0               0               0  43264  \n",
       "427              0              0               0               0  71824  \n",
       "\n",
       "[428 rows x 23 columns]"
      ]
     },
     "execution_count": 525,
     "metadata": {},
     "output_type": "execute_result"
    }
   ],
   "source": [
    "cars_mech['HP^2'] = cars_mech['Horsepower']**2\n",
    "cars_mech"
   ]
  },
  {
   "cell_type": "code",
   "execution_count": 405,
   "id": "ac423233",
   "metadata": {
    "scrolled": true
   },
   "outputs": [],
   "source": [
    "y = cars_mech['MPG (Highway)']\n",
    "X = cars_mech.drop('MPG (Highway)', axis = 1).copy()"
   ]
  },
  {
   "cell_type": "code",
   "execution_count": 526,
   "id": "a94a374b",
   "metadata": {},
   "outputs": [
    {
     "data": {
      "text/plain": [
       "34.508820072938015"
      ]
     },
     "execution_count": 526,
     "metadata": {},
     "output_type": "execute_result"
    }
   ],
   "source": [
    "cars_mpg_model_3 = LinearRegression(fit_intercept = True)\n",
    "cars_mpg_model_3.fit(X,y)\n",
    "cars_mpg_model_3.intercept_"
   ]
  },
  {
   "cell_type": "code",
   "execution_count": 527,
   "id": "be370f57",
   "metadata": {},
   "outputs": [
    {
     "data": {
      "text/html": [
       "<div>\n",
       "<style scoped>\n",
       "    .dataframe tbody tr th:only-of-type {\n",
       "        vertical-align: middle;\n",
       "    }\n",
       "\n",
       "    .dataframe tbody tr th {\n",
       "        vertical-align: top;\n",
       "    }\n",
       "\n",
       "    .dataframe thead th {\n",
       "        text-align: right;\n",
       "    }\n",
       "</style>\n",
       "<table border=\"1\" class=\"dataframe\">\n",
       "  <thead>\n",
       "    <tr style=\"text-align: right;\">\n",
       "      <th></th>\n",
       "      <th>Coefficients</th>\n",
       "    </tr>\n",
       "  </thead>\n",
       "  <tbody>\n",
       "    <tr>\n",
       "      <th>Engine Size (L)</th>\n",
       "      <td>-0.533936</td>\n",
       "    </tr>\n",
       "    <tr>\n",
       "      <th>Horsepower</th>\n",
       "      <td>-0.012232</td>\n",
       "    </tr>\n",
       "    <tr>\n",
       "      <th>Length (IN)</th>\n",
       "      <td>0.018863</td>\n",
       "    </tr>\n",
       "    <tr>\n",
       "      <th>Weight (LBS)</th>\n",
       "      <td>-0.003440</td>\n",
       "    </tr>\n",
       "    <tr>\n",
       "      <th>Wheelbase (IN)</th>\n",
       "      <td>0.044207</td>\n",
       "    </tr>\n",
       "    <tr>\n",
       "      <th>DriveTrain - All</th>\n",
       "      <td>-0.147600</td>\n",
       "    </tr>\n",
       "    <tr>\n",
       "      <th>DriveTrain - Front</th>\n",
       "      <td>1.031903</td>\n",
       "    </tr>\n",
       "    <tr>\n",
       "      <th>Type - Hybrid</th>\n",
       "      <td>17.370264</td>\n",
       "    </tr>\n",
       "    <tr>\n",
       "      <th>Type - SUV</th>\n",
       "      <td>-3.181807</td>\n",
       "    </tr>\n",
       "    <tr>\n",
       "      <th>Type - Sports</th>\n",
       "      <td>-1.039186</td>\n",
       "    </tr>\n",
       "    <tr>\n",
       "      <th>Type - Truck</th>\n",
       "      <td>-4.152564</td>\n",
       "    </tr>\n",
       "    <tr>\n",
       "      <th>Type - Wagon</th>\n",
       "      <td>-0.525942</td>\n",
       "    </tr>\n",
       "    <tr>\n",
       "      <th>Cylinders - 3</th>\n",
       "      <td>14.290949</td>\n",
       "    </tr>\n",
       "    <tr>\n",
       "      <th>Cylinders - 4</th>\n",
       "      <td>1.854806</td>\n",
       "    </tr>\n",
       "    <tr>\n",
       "      <th>Cylinders - 5</th>\n",
       "      <td>0.549443</td>\n",
       "    </tr>\n",
       "    <tr>\n",
       "      <th>Cylinders - 8</th>\n",
       "      <td>1.201179</td>\n",
       "    </tr>\n",
       "    <tr>\n",
       "      <th>Cylinders - 10</th>\n",
       "      <td>2.376988</td>\n",
       "    </tr>\n",
       "    <tr>\n",
       "      <th>Cylinders - 12</th>\n",
       "      <td>1.104421</td>\n",
       "    </tr>\n",
       "  </tbody>\n",
       "</table>\n",
       "</div>"
      ],
      "text/plain": [
       "                    Coefficients\n",
       "Engine Size (L)        -0.533936\n",
       "Horsepower             -0.012232\n",
       "Length (IN)             0.018863\n",
       "Weight (LBS)           -0.003440\n",
       "Wheelbase (IN)          0.044207\n",
       "DriveTrain - All       -0.147600\n",
       "DriveTrain - Front      1.031903\n",
       "Type - Hybrid          17.370264\n",
       "Type - SUV             -3.181807\n",
       "Type - Sports          -1.039186\n",
       "Type - Truck           -4.152564\n",
       "Type - Wagon           -0.525942\n",
       "Cylinders - 3          14.290949\n",
       "Cylinders - 4           1.854806\n",
       "Cylinders - 5           0.549443\n",
       "Cylinders - 8           1.201179\n",
       "Cylinders - 10          2.376988\n",
       "Cylinders - 12          1.104421"
      ]
     },
     "execution_count": 527,
     "metadata": {},
     "output_type": "execute_result"
    }
   ],
   "source": [
    "# Display coefficients in a more readable format\n",
    "pd.DataFrame(cars_mpg_model_3.coef_, columns = ['Coefficients'], index = X.columns)"
   ]
  },
  {
   "cell_type": "code",
   "execution_count": 528,
   "id": "65623564",
   "metadata": {},
   "outputs": [
    {
     "data": {
      "text/plain": [
       "0.8526382117756819"
      ]
     },
     "execution_count": 528,
     "metadata": {},
     "output_type": "execute_result"
    }
   ],
   "source": [
    "metrics.r2_score(y, cars_mpg_model_3.predict(X))"
   ]
  },
  {
   "cell_type": "code",
   "execution_count": 529,
   "id": "d21351a1",
   "metadata": {},
   "outputs": [
    {
     "data": {
      "text/plain": [
       "4.84590002308267"
      ]
     },
     "execution_count": 529,
     "metadata": {},
     "output_type": "execute_result"
    }
   ],
   "source": [
    "metrics.mean_squared_error(y, cars_mpg_model_3.predict(X))"
   ]
  },
  {
   "cell_type": "code",
   "execution_count": 531,
   "id": "60dff6d8",
   "metadata": {},
   "outputs": [
    {
     "data": {
      "text/plain": [
       "<AxesSubplot:xlabel='MPG (Highway)'>"
      ]
     },
     "execution_count": 531,
     "metadata": {},
     "output_type": "execute_result"
    },
    {
     "data": {
      "image/png": "[encoded data removed]",
      "text/plain": [
       "<Figure size 640x480 with 1 Axes>"
      ]
     },
     "metadata": {},
     "output_type": "display_data"
    }
   ],
   "source": [
    "# Residuals plot\n",
    "sns.residplot(x = y, y = cars_mpg_model_3.predict(X))"
   ]
  },
  {
   "cell_type": "markdown",
   "id": "64513fdd",
   "metadata": {},
   "source": [
    "### Adding Interaction Effects"
   ]
  },
  {
   "cell_type": "markdown",
   "id": "83cc91d0",
   "metadata": {},
   "source": [
    "#### Advertising Example"
   ]
  },
  {
   "cell_type": "code",
   "execution_count": 411,
   "id": "fd6f91a6",
   "metadata": {},
   "outputs": [
    {
     "data": {
      "text/html": [
       "<div>\n",
       "<style scoped>\n",
       "    .dataframe tbody tr th:only-of-type {\n",
       "        vertical-align: middle;\n",
       "    }\n",
       "\n",
       "    .dataframe tbody tr th {\n",
       "        vertical-align: top;\n",
       "    }\n",
       "\n",
       "    .dataframe thead th {\n",
       "        text-align: right;\n",
       "    }\n",
       "</style>\n",
       "<table border=\"1\" class=\"dataframe\">\n",
       "  <thead>\n",
       "    <tr style=\"text-align: right;\">\n",
       "      <th></th>\n",
       "      <th>TV</th>\n",
       "      <th>radio</th>\n",
       "      <th>newspaper</th>\n",
       "      <th>sales</th>\n",
       "      <th>radio x tv</th>\n",
       "    </tr>\n",
       "  </thead>\n",
       "  <tbody>\n",
       "    <tr>\n",
       "      <th>0</th>\n",
       "      <td>230.1</td>\n",
       "      <td>37.8</td>\n",
       "      <td>69.2</td>\n",
       "      <td>22.1</td>\n",
       "      <td>8697.78</td>\n",
       "    </tr>\n",
       "    <tr>\n",
       "      <th>1</th>\n",
       "      <td>44.5</td>\n",
       "      <td>39.3</td>\n",
       "      <td>45.1</td>\n",
       "      <td>10.4</td>\n",
       "      <td>1748.85</td>\n",
       "    </tr>\n",
       "    <tr>\n",
       "      <th>2</th>\n",
       "      <td>17.2</td>\n",
       "      <td>45.9</td>\n",
       "      <td>69.3</td>\n",
       "      <td>9.3</td>\n",
       "      <td>789.48</td>\n",
       "    </tr>\n",
       "    <tr>\n",
       "      <th>3</th>\n",
       "      <td>151.5</td>\n",
       "      <td>41.3</td>\n",
       "      <td>58.5</td>\n",
       "      <td>18.5</td>\n",
       "      <td>6256.95</td>\n",
       "    </tr>\n",
       "    <tr>\n",
       "      <th>4</th>\n",
       "      <td>180.8</td>\n",
       "      <td>10.8</td>\n",
       "      <td>58.4</td>\n",
       "      <td>12.9</td>\n",
       "      <td>1952.64</td>\n",
       "    </tr>\n",
       "    <tr>\n",
       "      <th>...</th>\n",
       "      <td>...</td>\n",
       "      <td>...</td>\n",
       "      <td>...</td>\n",
       "      <td>...</td>\n",
       "      <td>...</td>\n",
       "    </tr>\n",
       "    <tr>\n",
       "      <th>195</th>\n",
       "      <td>38.2</td>\n",
       "      <td>3.7</td>\n",
       "      <td>13.8</td>\n",
       "      <td>7.6</td>\n",
       "      <td>141.34</td>\n",
       "    </tr>\n",
       "    <tr>\n",
       "      <th>196</th>\n",
       "      <td>94.2</td>\n",
       "      <td>4.9</td>\n",
       "      <td>8.1</td>\n",
       "      <td>9.7</td>\n",
       "      <td>461.58</td>\n",
       "    </tr>\n",
       "    <tr>\n",
       "      <th>197</th>\n",
       "      <td>177.0</td>\n",
       "      <td>9.3</td>\n",
       "      <td>6.4</td>\n",
       "      <td>12.8</td>\n",
       "      <td>1646.10</td>\n",
       "    </tr>\n",
       "    <tr>\n",
       "      <th>198</th>\n",
       "      <td>283.6</td>\n",
       "      <td>42.0</td>\n",
       "      <td>66.2</td>\n",
       "      <td>25.5</td>\n",
       "      <td>11911.20</td>\n",
       "    </tr>\n",
       "    <tr>\n",
       "      <th>199</th>\n",
       "      <td>232.1</td>\n",
       "      <td>8.6</td>\n",
       "      <td>8.7</td>\n",
       "      <td>13.4</td>\n",
       "      <td>1996.06</td>\n",
       "    </tr>\n",
       "  </tbody>\n",
       "</table>\n",
       "<p>200 rows × 5 columns</p>\n",
       "</div>"
      ],
      "text/plain": [
       "        TV  radio  newspaper  sales  radio x tv\n",
       "0    230.1   37.8       69.2   22.1     8697.78\n",
       "1     44.5   39.3       45.1   10.4     1748.85\n",
       "2     17.2   45.9       69.3    9.3      789.48\n",
       "3    151.5   41.3       58.5   18.5     6256.95\n",
       "4    180.8   10.8       58.4   12.9     1952.64\n",
       "..     ...    ...        ...    ...         ...\n",
       "195   38.2    3.7       13.8    7.6      141.34\n",
       "196   94.2    4.9        8.1    9.7      461.58\n",
       "197  177.0    9.3        6.4   12.8     1646.10\n",
       "198  283.6   42.0       66.2   25.5    11911.20\n",
       "199  232.1    8.6        8.7   13.4     1996.06\n",
       "\n",
       "[200 rows x 5 columns]"
      ]
     },
     "execution_count": 411,
     "metadata": {},
     "output_type": "execute_result"
    }
   ],
   "source": [
    "advertising['radio x tv'] = advertising['radio'] * advertising['TV']\n",
    "advertising"
   ]
  },
  {
   "cell_type": "code",
   "execution_count": 412,
   "id": "8b70298d",
   "metadata": {},
   "outputs": [
    {
     "data": {
      "text/html": [
       "<table class=\"simpletable\">\n",
       "<caption>OLS Regression Results</caption>\n",
       "<tr>\n",
       "  <th>Dep. Variable:</th>          <td>sales</td>      <th>  R-squared:         </th> <td>   0.968</td> \n",
       "</tr>\n",
       "<tr>\n",
       "  <th>Model:</th>                   <td>OLS</td>       <th>  Adj. R-squared:    </th> <td>   0.967</td> \n",
       "</tr>\n",
       "<tr>\n",
       "  <th>Method:</th>             <td>Least Squares</td>  <th>  F-statistic:       </th> <td>   1963.</td> \n",
       "</tr>\n",
       "<tr>\n",
       "  <th>Date:</th>             <td>Sun, 10 Jul 2022</td> <th>  Prob (F-statistic):</th> <td>6.68e-146</td>\n",
       "</tr>\n",
       "<tr>\n",
       "  <th>Time:</th>                 <td>12:37:01</td>     <th>  Log-Likelihood:    </th> <td> -270.14</td> \n",
       "</tr>\n",
       "<tr>\n",
       "  <th>No. Observations:</th>      <td>   200</td>      <th>  AIC:               </th> <td>   548.3</td> \n",
       "</tr>\n",
       "<tr>\n",
       "  <th>Df Residuals:</th>          <td>   196</td>      <th>  BIC:               </th> <td>   561.5</td> \n",
       "</tr>\n",
       "<tr>\n",
       "  <th>Df Model:</th>              <td>     3</td>      <th>                     </th>     <td> </td>    \n",
       "</tr>\n",
       "<tr>\n",
       "  <th>Covariance Type:</th>      <td>nonrobust</td>    <th>                     </th>     <td> </td>    \n",
       "</tr>\n",
       "</table>\n",
       "<table class=\"simpletable\">\n",
       "<tr>\n",
       "       <td></td>         <th>coef</th>     <th>std err</th>      <th>t</th>      <th>P>|t|</th>  <th>[0.025</th>    <th>0.975]</th>  \n",
       "</tr>\n",
       "<tr>\n",
       "  <th>const</th>      <td>    6.7502</td> <td>    0.248</td> <td>   27.233</td> <td> 0.000</td> <td>    6.261</td> <td>    7.239</td>\n",
       "</tr>\n",
       "<tr>\n",
       "  <th>TV</th>         <td>    0.0191</td> <td>    0.002</td> <td>   12.699</td> <td> 0.000</td> <td>    0.016</td> <td>    0.022</td>\n",
       "</tr>\n",
       "<tr>\n",
       "  <th>radio</th>      <td>    0.0289</td> <td>    0.009</td> <td>    3.241</td> <td> 0.001</td> <td>    0.011</td> <td>    0.046</td>\n",
       "</tr>\n",
       "<tr>\n",
       "  <th>radio x tv</th> <td>    0.0011</td> <td> 5.24e-05</td> <td>   20.727</td> <td> 0.000</td> <td>    0.001</td> <td>    0.001</td>\n",
       "</tr>\n",
       "</table>\n",
       "<table class=\"simpletable\">\n",
       "<tr>\n",
       "  <th>Omnibus:</th>       <td>128.132</td> <th>  Durbin-Watson:     </th> <td>   2.224</td> \n",
       "</tr>\n",
       "<tr>\n",
       "  <th>Prob(Omnibus):</th> <td> 0.000</td>  <th>  Jarque-Bera (JB):  </th> <td>1183.719</td> \n",
       "</tr>\n",
       "<tr>\n",
       "  <th>Skew:</th>          <td>-2.323</td>  <th>  Prob(JB):          </th> <td>9.09e-258</td>\n",
       "</tr>\n",
       "<tr>\n",
       "  <th>Kurtosis:</th>      <td>13.975</td>  <th>  Cond. No.          </th> <td>1.80e+04</td> \n",
       "</tr>\n",
       "</table><br/><br/>Notes:<br/>[1] Standard Errors assume that the covariance matrix of the errors is correctly specified.<br/>[2] The condition number is large, 1.8e+04. This might indicate that there are<br/>strong multicollinearity or other numerical problems."
      ],
      "text/plain": [
       "<class 'statsmodels.iolib.summary.Summary'>\n",
       "\"\"\"\n",
       "                            OLS Regression Results                            \n",
       "==============================================================================\n",
       "Dep. Variable:                  sales   R-squared:                       0.968\n",
       "Model:                            OLS   Adj. R-squared:                  0.967\n",
       "Method:                 Least Squares   F-statistic:                     1963.\n",
       "Date:                Sun, 10 Jul 2022   Prob (F-statistic):          6.68e-146\n",
       "Time:                        12:37:01   Log-Likelihood:                -270.14\n",
       "No. Observations:                 200   AIC:                             548.3\n",
       "Df Residuals:                     196   BIC:                             561.5\n",
       "Df Model:                           3                                         \n",
       "Covariance Type:            nonrobust                                         \n",
       "==============================================================================\n",
       "                 coef    std err          t      P>|t|      [0.025      0.975]\n",
       "------------------------------------------------------------------------------\n",
       "const          6.7502      0.248     27.233      0.000       6.261       7.239\n",
       "TV             0.0191      0.002     12.699      0.000       0.016       0.022\n",
       "radio          0.0289      0.009      3.241      0.001       0.011       0.046\n",
       "radio x tv     0.0011   5.24e-05     20.727      0.000       0.001       0.001\n",
       "==============================================================================\n",
       "Omnibus:                      128.132   Durbin-Watson:                   2.224\n",
       "Prob(Omnibus):                  0.000   Jarque-Bera (JB):             1183.719\n",
       "Skew:                          -2.323   Prob(JB):                    9.09e-258\n",
       "Kurtosis:                      13.975   Cond. No.                     1.80e+04\n",
       "==============================================================================\n",
       "\n",
       "Notes:\n",
       "[1] Standard Errors assume that the covariance matrix of the errors is correctly specified.\n",
       "[2] The condition number is large, 1.8e+04. This might indicate that there are\n",
       "strong multicollinearity or other numerical problems.\n",
       "\"\"\""
      ]
     },
     "execution_count": 412,
     "metadata": {},
     "output_type": "execute_result"
    }
   ],
   "source": [
    "# Using statsmodels in order to get p-values of coefficients\n",
    "advertising_interaction_model = sm.OLS(advertising['sales'], \n",
    "                                       sm.add_constant(advertising.drop(['sales', 'newspaper'], axis = 1)))\n",
    "advertising_interaction_model.fit().summary()"
   ]
  },
  {
   "cell_type": "code",
   "execution_count": 413,
   "id": "9e28c954",
   "metadata": {
    "scrolled": true
   },
   "outputs": [
    {
     "data": {
      "text/html": [
       "<table class=\"simpletable\">\n",
       "<caption>OLS Regression Results</caption>\n",
       "<tr>\n",
       "  <th>Dep. Variable:</th>          <td>sales</td>      <th>  R-squared:         </th> <td>   0.897</td>\n",
       "</tr>\n",
       "<tr>\n",
       "  <th>Model:</th>                   <td>OLS</td>       <th>  Adj. R-squared:    </th> <td>   0.896</td>\n",
       "</tr>\n",
       "<tr>\n",
       "  <th>Method:</th>             <td>Least Squares</td>  <th>  F-statistic:       </th> <td>   859.6</td>\n",
       "</tr>\n",
       "<tr>\n",
       "  <th>Date:</th>             <td>Sun, 10 Jul 2022</td> <th>  Prob (F-statistic):</th> <td>4.83e-98</td>\n",
       "</tr>\n",
       "<tr>\n",
       "  <th>Time:</th>                 <td>12:37:01</td>     <th>  Log-Likelihood:    </th> <td> -386.20</td>\n",
       "</tr>\n",
       "<tr>\n",
       "  <th>No. Observations:</th>      <td>   200</td>      <th>  AIC:               </th> <td>   778.4</td>\n",
       "</tr>\n",
       "<tr>\n",
       "  <th>Df Residuals:</th>          <td>   197</td>      <th>  BIC:               </th> <td>   788.3</td>\n",
       "</tr>\n",
       "<tr>\n",
       "  <th>Df Model:</th>              <td>     2</td>      <th>                     </th>     <td> </td>   \n",
       "</tr>\n",
       "<tr>\n",
       "  <th>Covariance Type:</th>      <td>nonrobust</td>    <th>                     </th>     <td> </td>   \n",
       "</tr>\n",
       "</table>\n",
       "<table class=\"simpletable\">\n",
       "<tr>\n",
       "    <td></td>       <th>coef</th>     <th>std err</th>      <th>t</th>      <th>P>|t|</th>  <th>[0.025</th>    <th>0.975]</th>  \n",
       "</tr>\n",
       "<tr>\n",
       "  <th>const</th> <td>    2.9211</td> <td>    0.294</td> <td>    9.919</td> <td> 0.000</td> <td>    2.340</td> <td>    3.502</td>\n",
       "</tr>\n",
       "<tr>\n",
       "  <th>TV</th>    <td>    0.0458</td> <td>    0.001</td> <td>   32.909</td> <td> 0.000</td> <td>    0.043</td> <td>    0.048</td>\n",
       "</tr>\n",
       "<tr>\n",
       "  <th>radio</th> <td>    0.1880</td> <td>    0.008</td> <td>   23.382</td> <td> 0.000</td> <td>    0.172</td> <td>    0.204</td>\n",
       "</tr>\n",
       "</table>\n",
       "<table class=\"simpletable\">\n",
       "<tr>\n",
       "  <th>Omnibus:</th>       <td>60.022</td> <th>  Durbin-Watson:     </th> <td>   2.081</td>\n",
       "</tr>\n",
       "<tr>\n",
       "  <th>Prob(Omnibus):</th> <td> 0.000</td> <th>  Jarque-Bera (JB):  </th> <td> 148.679</td>\n",
       "</tr>\n",
       "<tr>\n",
       "  <th>Skew:</th>          <td>-1.323</td> <th>  Prob(JB):          </th> <td>5.19e-33</td>\n",
       "</tr>\n",
       "<tr>\n",
       "  <th>Kurtosis:</th>      <td> 6.292</td> <th>  Cond. No.          </th> <td>    425.</td>\n",
       "</tr>\n",
       "</table><br/><br/>Notes:<br/>[1] Standard Errors assume that the covariance matrix of the errors is correctly specified."
      ],
      "text/plain": [
       "<class 'statsmodels.iolib.summary.Summary'>\n",
       "\"\"\"\n",
       "                            OLS Regression Results                            \n",
       "==============================================================================\n",
       "Dep. Variable:                  sales   R-squared:                       0.897\n",
       "Model:                            OLS   Adj. R-squared:                  0.896\n",
       "Method:                 Least Squares   F-statistic:                     859.6\n",
       "Date:                Sun, 10 Jul 2022   Prob (F-statistic):           4.83e-98\n",
       "Time:                        12:37:01   Log-Likelihood:                -386.20\n",
       "No. Observations:                 200   AIC:                             778.4\n",
       "Df Residuals:                     197   BIC:                             788.3\n",
       "Df Model:                           2                                         \n",
       "Covariance Type:            nonrobust                                         \n",
       "==============================================================================\n",
       "                 coef    std err          t      P>|t|      [0.025      0.975]\n",
       "------------------------------------------------------------------------------\n",
       "const          2.9211      0.294      9.919      0.000       2.340       3.502\n",
       "TV             0.0458      0.001     32.909      0.000       0.043       0.048\n",
       "radio          0.1880      0.008     23.382      0.000       0.172       0.204\n",
       "==============================================================================\n",
       "Omnibus:                       60.022   Durbin-Watson:                   2.081\n",
       "Prob(Omnibus):                  0.000   Jarque-Bera (JB):              148.679\n",
       "Skew:                          -1.323   Prob(JB):                     5.19e-33\n",
       "Kurtosis:                       6.292   Cond. No.                         425.\n",
       "==============================================================================\n",
       "\n",
       "Notes:\n",
       "[1] Standard Errors assume that the covariance matrix of the errors is correctly specified.\n",
       "\"\"\""
      ]
     },
     "execution_count": 413,
     "metadata": {},
     "output_type": "execute_result"
    }
   ],
   "source": [
    "# Comparing to model using only radio and TV\n",
    "advertising_interaction_model = sm.OLS(advertising['sales'], \n",
    "                                       sm.add_constant(advertising[['TV', 'radio']]))\n",
    "advertising_interaction_model.fit().summary()"
   ]
  },
  {
   "cell_type": "markdown",
   "id": "ddc27138",
   "metadata": {},
   "source": [
    "#### Interacitons with categorical predictors"
   ]
  },
  {
   "cell_type": "code",
   "execution_count": 532,
   "id": "e3fad2fe",
   "metadata": {},
   "outputs": [
    {
     "data": {
      "text/html": [
       "<div>\n",
       "<style scoped>\n",
       "    .dataframe tbody tr th:only-of-type {\n",
       "        vertical-align: middle;\n",
       "    }\n",
       "\n",
       "    .dataframe tbody tr th {\n",
       "        vertical-align: top;\n",
       "    }\n",
       "\n",
       "    .dataframe thead th {\n",
       "        text-align: right;\n",
       "    }\n",
       "</style>\n",
       "<table border=\"1\" class=\"dataframe\">\n",
       "  <thead>\n",
       "    <tr style=\"text-align: right;\">\n",
       "      <th></th>\n",
       "      <th>Income</th>\n",
       "      <th>Limit</th>\n",
       "      <th>Rating</th>\n",
       "      <th>Cards</th>\n",
       "      <th>Age</th>\n",
       "      <th>Education</th>\n",
       "      <th>Gender</th>\n",
       "      <th>Student</th>\n",
       "      <th>Married</th>\n",
       "      <th>Balance</th>\n",
       "    </tr>\n",
       "  </thead>\n",
       "  <tbody>\n",
       "    <tr>\n",
       "      <th>0</th>\n",
       "      <td>14.891</td>\n",
       "      <td>3606</td>\n",
       "      <td>283</td>\n",
       "      <td>2</td>\n",
       "      <td>34</td>\n",
       "      <td>11</td>\n",
       "      <td>Male</td>\n",
       "      <td>No</td>\n",
       "      <td>Yes</td>\n",
       "      <td>333</td>\n",
       "    </tr>\n",
       "    <tr>\n",
       "      <th>1</th>\n",
       "      <td>106.025</td>\n",
       "      <td>6645</td>\n",
       "      <td>483</td>\n",
       "      <td>3</td>\n",
       "      <td>82</td>\n",
       "      <td>15</td>\n",
       "      <td>Female</td>\n",
       "      <td>Yes</td>\n",
       "      <td>Yes</td>\n",
       "      <td>903</td>\n",
       "    </tr>\n",
       "    <tr>\n",
       "      <th>2</th>\n",
       "      <td>104.593</td>\n",
       "      <td>7075</td>\n",
       "      <td>514</td>\n",
       "      <td>4</td>\n",
       "      <td>71</td>\n",
       "      <td>11</td>\n",
       "      <td>Male</td>\n",
       "      <td>No</td>\n",
       "      <td>No</td>\n",
       "      <td>580</td>\n",
       "    </tr>\n",
       "    <tr>\n",
       "      <th>3</th>\n",
       "      <td>148.924</td>\n",
       "      <td>9504</td>\n",
       "      <td>681</td>\n",
       "      <td>3</td>\n",
       "      <td>36</td>\n",
       "      <td>11</td>\n",
       "      <td>Female</td>\n",
       "      <td>No</td>\n",
       "      <td>No</td>\n",
       "      <td>964</td>\n",
       "    </tr>\n",
       "    <tr>\n",
       "      <th>4</th>\n",
       "      <td>55.882</td>\n",
       "      <td>4897</td>\n",
       "      <td>357</td>\n",
       "      <td>2</td>\n",
       "      <td>68</td>\n",
       "      <td>16</td>\n",
       "      <td>Male</td>\n",
       "      <td>No</td>\n",
       "      <td>Yes</td>\n",
       "      <td>331</td>\n",
       "    </tr>\n",
       "    <tr>\n",
       "      <th>...</th>\n",
       "      <td>...</td>\n",
       "      <td>...</td>\n",
       "      <td>...</td>\n",
       "      <td>...</td>\n",
       "      <td>...</td>\n",
       "      <td>...</td>\n",
       "      <td>...</td>\n",
       "      <td>...</td>\n",
       "      <td>...</td>\n",
       "      <td>...</td>\n",
       "    </tr>\n",
       "    <tr>\n",
       "      <th>395</th>\n",
       "      <td>12.096</td>\n",
       "      <td>4100</td>\n",
       "      <td>307</td>\n",
       "      <td>3</td>\n",
       "      <td>32</td>\n",
       "      <td>13</td>\n",
       "      <td>Male</td>\n",
       "      <td>No</td>\n",
       "      <td>Yes</td>\n",
       "      <td>560</td>\n",
       "    </tr>\n",
       "    <tr>\n",
       "      <th>396</th>\n",
       "      <td>13.364</td>\n",
       "      <td>3838</td>\n",
       "      <td>296</td>\n",
       "      <td>5</td>\n",
       "      <td>65</td>\n",
       "      <td>17</td>\n",
       "      <td>Male</td>\n",
       "      <td>No</td>\n",
       "      <td>No</td>\n",
       "      <td>480</td>\n",
       "    </tr>\n",
       "    <tr>\n",
       "      <th>397</th>\n",
       "      <td>57.872</td>\n",
       "      <td>4171</td>\n",
       "      <td>321</td>\n",
       "      <td>5</td>\n",
       "      <td>67</td>\n",
       "      <td>12</td>\n",
       "      <td>Female</td>\n",
       "      <td>No</td>\n",
       "      <td>Yes</td>\n",
       "      <td>138</td>\n",
       "    </tr>\n",
       "    <tr>\n",
       "      <th>398</th>\n",
       "      <td>37.728</td>\n",
       "      <td>2525</td>\n",
       "      <td>192</td>\n",
       "      <td>1</td>\n",
       "      <td>44</td>\n",
       "      <td>13</td>\n",
       "      <td>Male</td>\n",
       "      <td>No</td>\n",
       "      <td>Yes</td>\n",
       "      <td>0</td>\n",
       "    </tr>\n",
       "    <tr>\n",
       "      <th>399</th>\n",
       "      <td>18.701</td>\n",
       "      <td>5524</td>\n",
       "      <td>415</td>\n",
       "      <td>5</td>\n",
       "      <td>64</td>\n",
       "      <td>7</td>\n",
       "      <td>Female</td>\n",
       "      <td>No</td>\n",
       "      <td>No</td>\n",
       "      <td>966</td>\n",
       "    </tr>\n",
       "  </tbody>\n",
       "</table>\n",
       "<p>400 rows × 10 columns</p>\n",
       "</div>"
      ],
      "text/plain": [
       "      Income  Limit  Rating  Cards  Age  Education  Gender Student Married  \\\n",
       "0     14.891   3606     283      2   34         11    Male      No     Yes   \n",
       "1    106.025   6645     483      3   82         15  Female     Yes     Yes   \n",
       "2    104.593   7075     514      4   71         11    Male      No      No   \n",
       "3    148.924   9504     681      3   36         11  Female      No      No   \n",
       "4     55.882   4897     357      2   68         16    Male      No     Yes   \n",
       "..       ...    ...     ...    ...  ...        ...     ...     ...     ...   \n",
       "395   12.096   4100     307      3   32         13    Male      No     Yes   \n",
       "396   13.364   3838     296      5   65         17    Male      No      No   \n",
       "397   57.872   4171     321      5   67         12  Female      No     Yes   \n",
       "398   37.728   2525     192      1   44         13    Male      No     Yes   \n",
       "399   18.701   5524     415      5   64          7  Female      No      No   \n",
       "\n",
       "     Balance  \n",
       "0        333  \n",
       "1        903  \n",
       "2        580  \n",
       "3        964  \n",
       "4        331  \n",
       "..       ...  \n",
       "395      560  \n",
       "396      480  \n",
       "397      138  \n",
       "398        0  \n",
       "399      966  \n",
       "\n",
       "[400 rows x 10 columns]"
      ]
     },
     "execution_count": 532,
     "metadata": {},
     "output_type": "execute_result"
    }
   ],
   "source": [
    "credit = pd.read_csv('Credit.csv')\n",
    "credit"
   ]
  },
  {
   "cell_type": "markdown",
   "id": "92a00288",
   "metadata": {},
   "source": [
    "Predicting balance from income and student status"
   ]
  },
  {
   "cell_type": "code",
   "execution_count": 540,
   "id": "84fc59f9",
   "metadata": {},
   "outputs": [
    {
     "data": {
      "text/html": [
       "<div>\n",
       "<style scoped>\n",
       "    .dataframe tbody tr th:only-of-type {\n",
       "        vertical-align: middle;\n",
       "    }\n",
       "\n",
       "    .dataframe tbody tr th {\n",
       "        vertical-align: top;\n",
       "    }\n",
       "\n",
       "    .dataframe thead th {\n",
       "        text-align: right;\n",
       "    }\n",
       "</style>\n",
       "<table border=\"1\" class=\"dataframe\">\n",
       "  <thead>\n",
       "    <tr style=\"text-align: right;\">\n",
       "      <th></th>\n",
       "      <th>Income</th>\n",
       "      <th>Student - Binary</th>\n",
       "    </tr>\n",
       "  </thead>\n",
       "  <tbody>\n",
       "    <tr>\n",
       "      <th>0</th>\n",
       "      <td>14.891</td>\n",
       "      <td>0</td>\n",
       "    </tr>\n",
       "    <tr>\n",
       "      <th>1</th>\n",
       "      <td>106.025</td>\n",
       "      <td>1</td>\n",
       "    </tr>\n",
       "    <tr>\n",
       "      <th>2</th>\n",
       "      <td>104.593</td>\n",
       "      <td>0</td>\n",
       "    </tr>\n",
       "    <tr>\n",
       "      <th>3</th>\n",
       "      <td>148.924</td>\n",
       "      <td>0</td>\n",
       "    </tr>\n",
       "    <tr>\n",
       "      <th>4</th>\n",
       "      <td>55.882</td>\n",
       "      <td>0</td>\n",
       "    </tr>\n",
       "    <tr>\n",
       "      <th>...</th>\n",
       "      <td>...</td>\n",
       "      <td>...</td>\n",
       "    </tr>\n",
       "    <tr>\n",
       "      <th>395</th>\n",
       "      <td>12.096</td>\n",
       "      <td>0</td>\n",
       "    </tr>\n",
       "    <tr>\n",
       "      <th>396</th>\n",
       "      <td>13.364</td>\n",
       "      <td>0</td>\n",
       "    </tr>\n",
       "    <tr>\n",
       "      <th>397</th>\n",
       "      <td>57.872</td>\n",
       "      <td>0</td>\n",
       "    </tr>\n",
       "    <tr>\n",
       "      <th>398</th>\n",
       "      <td>37.728</td>\n",
       "      <td>0</td>\n",
       "    </tr>\n",
       "    <tr>\n",
       "      <th>399</th>\n",
       "      <td>18.701</td>\n",
       "      <td>0</td>\n",
       "    </tr>\n",
       "  </tbody>\n",
       "</table>\n",
       "<p>400 rows × 2 columns</p>\n",
       "</div>"
      ],
      "text/plain": [
       "      Income  Student - Binary\n",
       "0     14.891                 0\n",
       "1    106.025                 1\n",
       "2    104.593                 0\n",
       "3    148.924                 0\n",
       "4     55.882                 0\n",
       "..       ...               ...\n",
       "395   12.096                 0\n",
       "396   13.364                 0\n",
       "397   57.872                 0\n",
       "398   37.728                 0\n",
       "399   18.701                 0\n",
       "\n",
       "[400 rows x 2 columns]"
      ]
     },
     "execution_count": 540,
     "metadata": {},
     "output_type": "execute_result"
    }
   ],
   "source": [
    "X_credit = credit[['Income','Student']].copy()\n",
    "X_credit['Student - Binary'] = pd.get_dummies(X_credit['Student'])['Yes']\n",
    "X_credit = X_credit.drop('Student', axis = 1)\n",
    "X_credit"
   ]
  },
  {
   "cell_type": "code",
   "execution_count": 542,
   "id": "54c1b8ea",
   "metadata": {},
   "outputs": [
    {
     "data": {
      "text/plain": [
       "211.14296439806378"
      ]
     },
     "execution_count": 542,
     "metadata": {},
     "output_type": "execute_result"
    }
   ],
   "source": [
    "credit_model_1 = LinearRegression(fit_intercept = True)\n",
    "credit_model_1.fit(X_credit, credit['Balance'])\n",
    "credit_model_1.intercept_"
   ]
  },
  {
   "cell_type": "code",
   "execution_count": 543,
   "id": "b8fb3745",
   "metadata": {},
   "outputs": [
    {
     "data": {
      "text/html": [
       "<div>\n",
       "<style scoped>\n",
       "    .dataframe tbody tr th:only-of-type {\n",
       "        vertical-align: middle;\n",
       "    }\n",
       "\n",
       "    .dataframe tbody tr th {\n",
       "        vertical-align: top;\n",
       "    }\n",
       "\n",
       "    .dataframe thead th {\n",
       "        text-align: right;\n",
       "    }\n",
       "</style>\n",
       "<table border=\"1\" class=\"dataframe\">\n",
       "  <thead>\n",
       "    <tr style=\"text-align: right;\">\n",
       "      <th></th>\n",
       "      <th>Coefficients</th>\n",
       "    </tr>\n",
       "  </thead>\n",
       "  <tbody>\n",
       "    <tr>\n",
       "      <th>Income</th>\n",
       "      <td>5.984336</td>\n",
       "    </tr>\n",
       "    <tr>\n",
       "      <th>Student - Binary</th>\n",
       "      <td>382.670539</td>\n",
       "    </tr>\n",
       "  </tbody>\n",
       "</table>\n",
       "</div>"
      ],
      "text/plain": [
       "                  Coefficients\n",
       "Income                5.984336\n",
       "Student - Binary    382.670539"
      ]
     },
     "execution_count": 543,
     "metadata": {},
     "output_type": "execute_result"
    }
   ],
   "source": [
    "pd.DataFrame(credit_model_1.coef_, columns = [\"Coefficients\"], \n",
    "             index = X_credit.columns)"
   ]
  },
  {
   "cell_type": "code",
   "execution_count": 548,
   "id": "ce62f5e7",
   "metadata": {},
   "outputs": [
    {
     "data": {
      "text/plain": [
       "0.27745888896675686"
      ]
     },
     "execution_count": 548,
     "metadata": {},
     "output_type": "execute_result"
    }
   ],
   "source": [
    "metrics.r2_score(credit['Balance'], credit_model_1.predict(X_credit))"
   ]
  },
  {
   "cell_type": "code",
   "execution_count": 550,
   "id": "7750b6fb",
   "metadata": {},
   "outputs": [
    {
     "data": {
      "text/plain": [
       "390.31735054919494"
      ]
     },
     "execution_count": 550,
     "metadata": {},
     "output_type": "execute_result"
    }
   ],
   "source": [
    "np.sqrt(metrics.mean_squared_error(credit['Balance'], credit_model_1.predict(X_credit)))"
   ]
  },
  {
   "cell_type": "markdown",
   "id": "9c09bc5f",
   "metadata": {},
   "source": [
    "Plot prediction vs actual"
   ]
  },
  {
   "cell_type": "code",
   "execution_count": 557,
   "id": "2f6d91c6",
   "metadata": {
    "scrolled": false
   },
   "outputs": [
    {
     "data": {
      "text/plain": [
       "<AxesSubplot:xlabel='Balance'>"
      ]
     },
     "execution_count": 557,
     "metadata": {},
     "output_type": "execute_result"
    },
    {
     "data": {
      "image/png": "[encoded data removed]",
      "text/plain": [
       "<Figure size 640x480 with 1 Axes>"
      ]
     },
     "metadata": {},
     "output_type": "display_data"
    }
   ],
   "source": [
    "sns.scatterplot(y=credit_model_1.predict(X_credit), x=credit['Balance'])"
   ]
  },
  {
   "cell_type": "markdown",
   "id": "2f00d466",
   "metadata": {},
   "source": [
    "Residuals plot"
   ]
  },
  {
   "cell_type": "code",
   "execution_count": 558,
   "id": "9b69de6d",
   "metadata": {
    "scrolled": true
   },
   "outputs": [
    {
     "data": {
      "text/plain": [
       "<AxesSubplot:xlabel='Balance'>"
      ]
     },
     "execution_count": 558,
     "metadata": {},
     "output_type": "execute_result"
    },
    {
     "data": {
      "image/png": "[encoded data removed]",
      "text/plain": [
       "<Figure size 640x480 with 1 Axes>"
      ]
     },
     "metadata": {},
     "output_type": "display_data"
    }
   ],
   "source": [
    "sns.residplot(y=credit_model_1.predict(X_credit), x=credit['Balance'])"
   ]
  },
  {
   "cell_type": "markdown",
   "id": "148fffef",
   "metadata": {},
   "source": [
    "####  Investigate adding an interaction effect"
   ]
  },
  {
   "cell_type": "code",
   "execution_count": 544,
   "id": "c3d74a1a",
   "metadata": {},
   "outputs": [
    {
     "data": {
      "text/plain": [
       "<seaborn.axisgrid.FacetGrid at 0x1ce6cdf4c40>"
      ]
     },
     "execution_count": 544,
     "metadata": {},
     "output_type": "execute_result"
    },
    {
     "data": {
      "image/png": "[encoded data removed]",
      "text/plain": [
       "<Figure size 483.35x400 with 1 Axes>"
      ]
     },
     "metadata": {},
     "output_type": "display_data"
    }
   ],
   "source": [
    "sns.lmplot(x = \"Income\", y = \"Balance\", hue = \"Student\", markers = [\"o\",'x'], ci = None, data = credit)"
   ]
  },
  {
   "cell_type": "code",
   "execution_count": 559,
   "id": "a88bdb0a",
   "metadata": {},
   "outputs": [
    {
     "data": {
      "text/html": [
       "<div>\n",
       "<style scoped>\n",
       "    .dataframe tbody tr th:only-of-type {\n",
       "        vertical-align: middle;\n",
       "    }\n",
       "\n",
       "    .dataframe tbody tr th {\n",
       "        vertical-align: top;\n",
       "    }\n",
       "\n",
       "    .dataframe thead th {\n",
       "        text-align: right;\n",
       "    }\n",
       "</style>\n",
       "<table border=\"1\" class=\"dataframe\">\n",
       "  <thead>\n",
       "    <tr style=\"text-align: right;\">\n",
       "      <th></th>\n",
       "      <th>Income</th>\n",
       "      <th>Student - Binary</th>\n",
       "      <th>Student * Income</th>\n",
       "    </tr>\n",
       "  </thead>\n",
       "  <tbody>\n",
       "    <tr>\n",
       "      <th>0</th>\n",
       "      <td>14.891</td>\n",
       "      <td>0</td>\n",
       "      <td>0.000</td>\n",
       "    </tr>\n",
       "    <tr>\n",
       "      <th>1</th>\n",
       "      <td>106.025</td>\n",
       "      <td>1</td>\n",
       "      <td>106.025</td>\n",
       "    </tr>\n",
       "    <tr>\n",
       "      <th>2</th>\n",
       "      <td>104.593</td>\n",
       "      <td>0</td>\n",
       "      <td>0.000</td>\n",
       "    </tr>\n",
       "    <tr>\n",
       "      <th>3</th>\n",
       "      <td>148.924</td>\n",
       "      <td>0</td>\n",
       "      <td>0.000</td>\n",
       "    </tr>\n",
       "    <tr>\n",
       "      <th>4</th>\n",
       "      <td>55.882</td>\n",
       "      <td>0</td>\n",
       "      <td>0.000</td>\n",
       "    </tr>\n",
       "    <tr>\n",
       "      <th>...</th>\n",
       "      <td>...</td>\n",
       "      <td>...</td>\n",
       "      <td>...</td>\n",
       "    </tr>\n",
       "    <tr>\n",
       "      <th>395</th>\n",
       "      <td>12.096</td>\n",
       "      <td>0</td>\n",
       "      <td>0.000</td>\n",
       "    </tr>\n",
       "    <tr>\n",
       "      <th>396</th>\n",
       "      <td>13.364</td>\n",
       "      <td>0</td>\n",
       "      <td>0.000</td>\n",
       "    </tr>\n",
       "    <tr>\n",
       "      <th>397</th>\n",
       "      <td>57.872</td>\n",
       "      <td>0</td>\n",
       "      <td>0.000</td>\n",
       "    </tr>\n",
       "    <tr>\n",
       "      <th>398</th>\n",
       "      <td>37.728</td>\n",
       "      <td>0</td>\n",
       "      <td>0.000</td>\n",
       "    </tr>\n",
       "    <tr>\n",
       "      <th>399</th>\n",
       "      <td>18.701</td>\n",
       "      <td>0</td>\n",
       "      <td>0.000</td>\n",
       "    </tr>\n",
       "  </tbody>\n",
       "</table>\n",
       "<p>400 rows × 3 columns</p>\n",
       "</div>"
      ],
      "text/plain": [
       "      Income  Student - Binary  Student * Income\n",
       "0     14.891                 0             0.000\n",
       "1    106.025                 1           106.025\n",
       "2    104.593                 0             0.000\n",
       "3    148.924                 0             0.000\n",
       "4     55.882                 0             0.000\n",
       "..       ...               ...               ...\n",
       "395   12.096                 0             0.000\n",
       "396   13.364                 0             0.000\n",
       "397   57.872                 0             0.000\n",
       "398   37.728                 0             0.000\n",
       "399   18.701                 0             0.000\n",
       "\n",
       "[400 rows x 3 columns]"
      ]
     },
     "execution_count": 559,
     "metadata": {},
     "output_type": "execute_result"
    }
   ],
   "source": [
    "X_credit_2 = X_credit.copy()\n",
    "X_credit_2['Student * Income'] = X_credit_2['Student - Binary'] * X_credit_2['Income']\n",
    "X_credit_2"
   ]
  },
  {
   "cell_type": "code",
   "execution_count": 560,
   "id": "d89b7f5f",
   "metadata": {},
   "outputs": [
    {
     "data": {
      "text/plain": [
       "200.62315294978134"
      ]
     },
     "execution_count": 560,
     "metadata": {},
     "output_type": "execute_result"
    }
   ],
   "source": [
    "credit_model_2 = LinearRegression(fit_intercept = True)\n",
    "credit_model_2.fit(X_credit_2, credit['Balance'])\n",
    "credit_model_2.intercept_"
   ]
  },
  {
   "cell_type": "code",
   "execution_count": 562,
   "id": "c8c28578",
   "metadata": {},
   "outputs": [
    {
     "data": {
      "text/html": [
       "<div>\n",
       "<style scoped>\n",
       "    .dataframe tbody tr th:only-of-type {\n",
       "        vertical-align: middle;\n",
       "    }\n",
       "\n",
       "    .dataframe tbody tr th {\n",
       "        vertical-align: top;\n",
       "    }\n",
       "\n",
       "    .dataframe thead th {\n",
       "        text-align: right;\n",
       "    }\n",
       "</style>\n",
       "<table border=\"1\" class=\"dataframe\">\n",
       "  <thead>\n",
       "    <tr style=\"text-align: right;\">\n",
       "      <th></th>\n",
       "      <th>Coefficients</th>\n",
       "    </tr>\n",
       "  </thead>\n",
       "  <tbody>\n",
       "    <tr>\n",
       "      <th>Income</th>\n",
       "      <td>6.218169</td>\n",
       "    </tr>\n",
       "    <tr>\n",
       "      <th>Student - Binary</th>\n",
       "      <td>476.675843</td>\n",
       "    </tr>\n",
       "    <tr>\n",
       "      <th>Student * Income</th>\n",
       "      <td>-1.999151</td>\n",
       "    </tr>\n",
       "  </tbody>\n",
       "</table>\n",
       "</div>"
      ],
      "text/plain": [
       "                  Coefficients\n",
       "Income                6.218169\n",
       "Student - Binary    476.675843\n",
       "Student * Income     -1.999151"
      ]
     },
     "execution_count": 562,
     "metadata": {},
     "output_type": "execute_result"
    }
   ],
   "source": [
    "pd.DataFrame(credit_model_2.coef_, columns = [\"Coefficients\"], \n",
    "             index = X_credit_2.columns)"
   ]
  },
  {
   "cell_type": "code",
   "execution_count": 563,
   "id": "3b94e03f",
   "metadata": {},
   "outputs": [
    {
     "data": {
      "text/plain": [
       "0.27988370306198973"
      ]
     },
     "execution_count": 563,
     "metadata": {},
     "output_type": "execute_result"
    }
   ],
   "source": [
    "metrics.r2_score(credit['Balance'], credit_model_2.predict(X_credit_2))"
   ]
  },
  {
   "cell_type": "code",
   "execution_count": 566,
   "id": "c740a892",
   "metadata": {},
   "outputs": [
    {
     "data": {
      "text/plain": [
       "389.66185677041574"
      ]
     },
     "execution_count": 566,
     "metadata": {},
     "output_type": "execute_result"
    }
   ],
   "source": [
    "np.sqrt(metrics.mean_squared_error(credit['Balance'], credit_model_2.predict(X_credit_2)))"
   ]
  }
 ],
 "metadata": {
  "kernelspec": {
   "display_name": "Python 3",
   "language": "python",
   "name": "python3"
  },
  "language_info": {
   "codemirror_mode": {
    "name": "ipython",
    "version": 3
   },
   "file_extension": ".py",
   "mimetype": "text/x-python",
   "name": "python",
   "nbconvert_exporter": "python",
   "pygments_lexer": "ipython3",
   "version": "3.8.8"
  }
 },
 "nbformat": 4,
 "nbformat_minor": 5
}
