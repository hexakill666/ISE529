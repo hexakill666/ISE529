{
 "cells": [
  {
   "cell_type": "markdown",
   "id": "ba05f31f",
   "metadata": {},
   "source": [
    "#### <center> Module 4 Homework\n",
    "\n",
    "<center>  ISE-529 Predictive Analytics"
   ]
  },
  {
   "cell_type": "markdown",
   "id": "e8a11238",
   "metadata": {},
   "source": [
    "#### Linear Model Diagnosis"
   ]
  },
  {
   "cell_type": "markdown",
   "id": "7e8b04a3",
   "metadata": {},
   "source": [
    "1)  For this problem, you are to load the file \"Problem 1 Dataset.csv\" into a dataframe and perform model diagnosis on it to improve it.  Use the steps identified in the slide in Module 4 at the end of the Model Diagnosis section (titled \"Initial Steps for Model Diagnosis and Improvement\").  Add comments to each step in your analysis describing your results and decisions and, at the end, write out the final equation of your model along with its $R^2$"
   ]
  },
  {
   "cell_type": "markdown",
   "id": "4db2a0a5",
   "metadata": {},
   "source": [
    "#### Validation Techniques"
   ]
  },
  {
   "cell_type": "markdown",
   "id": "7e24b9f3",
   "metadata": {},
   "source": [
    "2)  Read the file \"Problem 2 Dataset.csv\" into a dataframe"
   ]
  },
  {
   "cell_type": "markdown",
   "id": "1ce9434c",
   "metadata": {},
   "source": [
    "2a)  Fit a linear regression model using the four predictors X1,X2,X3, and X4 to the response variable Y.  Do not attempt to improve the model, just use the basic four predictors.  Calculate and display mean squared error using the entire dataset for training and for validation."
   ]
  },
  {
   "cell_type": "code",
   "execution_count": null,
   "id": "13893f73",
   "metadata": {},
   "outputs": [],
   "source": []
  },
  {
   "cell_type": "markdown",
   "id": "d64a7617",
   "metadata": {},
   "source": [
    "2B)  Now, divide the dataset into a test and training partition using the sklear train_test_split function with an 80/20 split (80% training / 20% test) and calculate the test partition MSE for this model.  Set random_state = 0 so that we all get the same answer."
   ]
  },
  {
   "cell_type": "code",
   "execution_count": null,
   "id": "e1aa3680",
   "metadata": {},
   "outputs": [],
   "source": []
  },
  {
   "cell_type": "markdown",
   "id": "f5f79c41",
   "metadata": {},
   "source": [
    "2c)  Without using any additional libraries, perform a k-vold cross validation on the model with 5 folds.  Display the resulting mean sequred error."
   ]
  },
  {
   "cell_type": "code",
   "execution_count": null,
   "id": "ffae4e81",
   "metadata": {},
   "outputs": [],
   "source": []
  },
  {
   "cell_type": "markdown",
   "id": "d43f2959",
   "metadata": {},
   "source": [
    "2d)  Now, use the sklearn cross_val_score function to perform the same calculation and display the resulting mean squared error.  Set shuffle=False so we all get the same answer.  If you have done this correctly, your answers to 2c and 2d should be the same.\n",
    "\n",
    "Documentation on the cross_val_score function can be found at https://scikit-learn.org/stable/modules/generated/sklearn.model_selection.cross_val_score.html"
   ]
  },
  {
   "cell_type": "code",
   "execution_count": null,
   "id": "d7959256",
   "metadata": {},
   "outputs": [],
   "source": []
  }
 ],
 "metadata": {
  "kernelspec": {
   "display_name": "Python 3",
   "language": "python",
   "name": "python3"
  },
  "language_info": {
   "codemirror_mode": {
    "name": "ipython",
    "version": 3
   },
   "file_extension": ".py",
   "mimetype": "text/x-python",
   "name": "python",
   "nbconvert_exporter": "python",
   "pygments_lexer": "ipython3",
   "version": "3.8.8"
  }
 },
 "nbformat": 4,
 "nbformat_minor": 5
}
