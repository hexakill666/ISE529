{
 "cells": [
  {
   "cell_type": "markdown",
   "id": "de0647d0",
   "metadata": {},
   "source": [
    "# Module 4 - Linear Model Diagnosis and Validation\n",
    "\n",
    "## 4B:  Resampling Techniques and Model Validation"
   ]
  },
  {
   "cell_type": "code",
   "execution_count": 1,
   "id": "4d7e5cdd",
   "metadata": {},
   "outputs": [],
   "source": [
    "import numpy as np\n",
    "import pandas as pd\n",
    "import matplotlib.pyplot as plt\n",
    "%matplotlib inline\n",
    "plt.style.use('classic')\n",
    "import seaborn as sns\n",
    "from sklearn.linear_model import LinearRegression\n",
    "from sklearn import metrics"
   ]
  },
  {
   "cell_type": "markdown",
   "id": "65babf0d",
   "metadata": {},
   "source": [
    "## Model Diagnosis Example"
   ]
  },
  {
   "cell_type": "markdown",
   "id": "fe3ddef0",
   "metadata": {},
   "source": [
    "### Create 5 polynomial models for predicting MPG from horsepower"
   ]
  },
  {
   "cell_type": "code",
   "execution_count": 2,
   "id": "d99478e6",
   "metadata": {},
   "outputs": [
    {
     "data": {
      "text/html": [
       "<div>\n",
       "<style scoped>\n",
       "    .dataframe tbody tr th:only-of-type {\n",
       "        vertical-align: middle;\n",
       "    }\n",
       "\n",
       "    .dataframe tbody tr th {\n",
       "        vertical-align: top;\n",
       "    }\n",
       "\n",
       "    .dataframe thead th {\n",
       "        text-align: right;\n",
       "    }\n",
       "</style>\n",
       "<table border=\"1\" class=\"dataframe\">\n",
       "  <thead>\n",
       "    <tr style=\"text-align: right;\">\n",
       "      <th></th>\n",
       "      <th>Make</th>\n",
       "      <th>Model</th>\n",
       "      <th>DriveTrain</th>\n",
       "      <th>Origin</th>\n",
       "      <th>Type</th>\n",
       "      <th>Cylinders</th>\n",
       "      <th>Engine Size (L)</th>\n",
       "      <th>Horsepower</th>\n",
       "      <th>Invoice</th>\n",
       "      <th>Length (IN)</th>\n",
       "      <th>MPG (City)</th>\n",
       "      <th>MPG (Highway)</th>\n",
       "      <th>MSRP</th>\n",
       "      <th>Weight (LBS)</th>\n",
       "      <th>Wheelbase (IN)</th>\n",
       "    </tr>\n",
       "  </thead>\n",
       "  <tbody>\n",
       "    <tr>\n",
       "      <th>0</th>\n",
       "      <td>Acura</td>\n",
       "      <td>3.5 RL 4dr</td>\n",
       "      <td>Front</td>\n",
       "      <td>Asia</td>\n",
       "      <td>Sedan</td>\n",
       "      <td>6.0</td>\n",
       "      <td>3.5</td>\n",
       "      <td>225</td>\n",
       "      <td>$39,014</td>\n",
       "      <td>197</td>\n",
       "      <td>18</td>\n",
       "      <td>24</td>\n",
       "      <td>$43,755</td>\n",
       "      <td>3880</td>\n",
       "      <td>115</td>\n",
       "    </tr>\n",
       "    <tr>\n",
       "      <th>1</th>\n",
       "      <td>Acura</td>\n",
       "      <td>3.5 RL w/Navigation 4dr</td>\n",
       "      <td>Front</td>\n",
       "      <td>Asia</td>\n",
       "      <td>Sedan</td>\n",
       "      <td>6.0</td>\n",
       "      <td>3.5</td>\n",
       "      <td>225</td>\n",
       "      <td>$41,100</td>\n",
       "      <td>197</td>\n",
       "      <td>18</td>\n",
       "      <td>24</td>\n",
       "      <td>$46,100</td>\n",
       "      <td>3893</td>\n",
       "      <td>115</td>\n",
       "    </tr>\n",
       "    <tr>\n",
       "      <th>2</th>\n",
       "      <td>Acura</td>\n",
       "      <td>MDX</td>\n",
       "      <td>All</td>\n",
       "      <td>Asia</td>\n",
       "      <td>SUV</td>\n",
       "      <td>6.0</td>\n",
       "      <td>3.5</td>\n",
       "      <td>265</td>\n",
       "      <td>$33,337</td>\n",
       "      <td>189</td>\n",
       "      <td>17</td>\n",
       "      <td>23</td>\n",
       "      <td>$36,945</td>\n",
       "      <td>4451</td>\n",
       "      <td>106</td>\n",
       "    </tr>\n",
       "    <tr>\n",
       "      <th>3</th>\n",
       "      <td>Acura</td>\n",
       "      <td>NSX coupe 2dr manual S</td>\n",
       "      <td>Rear</td>\n",
       "      <td>Asia</td>\n",
       "      <td>Sports</td>\n",
       "      <td>6.0</td>\n",
       "      <td>3.2</td>\n",
       "      <td>290</td>\n",
       "      <td>$79,978</td>\n",
       "      <td>174</td>\n",
       "      <td>17</td>\n",
       "      <td>24</td>\n",
       "      <td>$89,765</td>\n",
       "      <td>3153</td>\n",
       "      <td>100</td>\n",
       "    </tr>\n",
       "    <tr>\n",
       "      <th>4</th>\n",
       "      <td>Acura</td>\n",
       "      <td>RSX Type S 2dr</td>\n",
       "      <td>Front</td>\n",
       "      <td>Asia</td>\n",
       "      <td>Sedan</td>\n",
       "      <td>4.0</td>\n",
       "      <td>2.0</td>\n",
       "      <td>200</td>\n",
       "      <td>$21,761</td>\n",
       "      <td>172</td>\n",
       "      <td>24</td>\n",
       "      <td>31</td>\n",
       "      <td>$23,820</td>\n",
       "      <td>2778</td>\n",
       "      <td>101</td>\n",
       "    </tr>\n",
       "    <tr>\n",
       "      <th>...</th>\n",
       "      <td>...</td>\n",
       "      <td>...</td>\n",
       "      <td>...</td>\n",
       "      <td>...</td>\n",
       "      <td>...</td>\n",
       "      <td>...</td>\n",
       "      <td>...</td>\n",
       "      <td>...</td>\n",
       "      <td>...</td>\n",
       "      <td>...</td>\n",
       "      <td>...</td>\n",
       "      <td>...</td>\n",
       "      <td>...</td>\n",
       "      <td>...</td>\n",
       "      <td>...</td>\n",
       "    </tr>\n",
       "    <tr>\n",
       "      <th>420</th>\n",
       "      <td>Volvo</td>\n",
       "      <td>S80 2.9 4dr</td>\n",
       "      <td>Front</td>\n",
       "      <td>Europe</td>\n",
       "      <td>Sedan</td>\n",
       "      <td>6.0</td>\n",
       "      <td>2.9</td>\n",
       "      <td>208</td>\n",
       "      <td>$35,542</td>\n",
       "      <td>190</td>\n",
       "      <td>20</td>\n",
       "      <td>28</td>\n",
       "      <td>$37,730</td>\n",
       "      <td>3576</td>\n",
       "      <td>110</td>\n",
       "    </tr>\n",
       "    <tr>\n",
       "      <th>421</th>\n",
       "      <td>Volvo</td>\n",
       "      <td>S80 T6 4dr</td>\n",
       "      <td>Front</td>\n",
       "      <td>Europe</td>\n",
       "      <td>Sedan</td>\n",
       "      <td>6.0</td>\n",
       "      <td>2.9</td>\n",
       "      <td>268</td>\n",
       "      <td>$42,573</td>\n",
       "      <td>190</td>\n",
       "      <td>19</td>\n",
       "      <td>26</td>\n",
       "      <td>$45,210</td>\n",
       "      <td>3653</td>\n",
       "      <td>110</td>\n",
       "    </tr>\n",
       "    <tr>\n",
       "      <th>422</th>\n",
       "      <td>Volvo</td>\n",
       "      <td>V40</td>\n",
       "      <td>Front</td>\n",
       "      <td>Europe</td>\n",
       "      <td>Wagon</td>\n",
       "      <td>4.0</td>\n",
       "      <td>1.9</td>\n",
       "      <td>170</td>\n",
       "      <td>$24,641</td>\n",
       "      <td>180</td>\n",
       "      <td>22</td>\n",
       "      <td>29</td>\n",
       "      <td>$26,135</td>\n",
       "      <td>2822</td>\n",
       "      <td>101</td>\n",
       "    </tr>\n",
       "    <tr>\n",
       "      <th>423</th>\n",
       "      <td>Volvo</td>\n",
       "      <td>XC70</td>\n",
       "      <td>All</td>\n",
       "      <td>Europe</td>\n",
       "      <td>Wagon</td>\n",
       "      <td>5.0</td>\n",
       "      <td>2.5</td>\n",
       "      <td>208</td>\n",
       "      <td>$33,112</td>\n",
       "      <td>186</td>\n",
       "      <td>20</td>\n",
       "      <td>27</td>\n",
       "      <td>$35,145</td>\n",
       "      <td>3823</td>\n",
       "      <td>109</td>\n",
       "    </tr>\n",
       "    <tr>\n",
       "      <th>424</th>\n",
       "      <td>Volvo</td>\n",
       "      <td>XC90 T6</td>\n",
       "      <td>All</td>\n",
       "      <td>Europe</td>\n",
       "      <td>SUV</td>\n",
       "      <td>6.0</td>\n",
       "      <td>2.9</td>\n",
       "      <td>268</td>\n",
       "      <td>$38,851</td>\n",
       "      <td>189</td>\n",
       "      <td>15</td>\n",
       "      <td>20</td>\n",
       "      <td>$41,250</td>\n",
       "      <td>4638</td>\n",
       "      <td>113</td>\n",
       "    </tr>\n",
       "  </tbody>\n",
       "</table>\n",
       "<p>425 rows × 15 columns</p>\n",
       "</div>"
      ],
      "text/plain": [
       "      Make                    Model DriveTrain  Origin    Type  Cylinders  \\\n",
       "0    Acura               3.5 RL 4dr      Front    Asia   Sedan        6.0   \n",
       "1    Acura  3.5 RL w/Navigation 4dr      Front    Asia   Sedan        6.0   \n",
       "2    Acura                      MDX        All    Asia     SUV        6.0   \n",
       "3    Acura   NSX coupe 2dr manual S       Rear    Asia  Sports        6.0   \n",
       "4    Acura           RSX Type S 2dr      Front    Asia   Sedan        4.0   \n",
       "..     ...                      ...        ...     ...     ...        ...   \n",
       "420  Volvo              S80 2.9 4dr      Front  Europe   Sedan        6.0   \n",
       "421  Volvo               S80 T6 4dr      Front  Europe   Sedan        6.0   \n",
       "422  Volvo                      V40      Front  Europe   Wagon        4.0   \n",
       "423  Volvo                     XC70        All  Europe   Wagon        5.0   \n",
       "424  Volvo                  XC90 T6        All  Europe     SUV        6.0   \n",
       "\n",
       "     Engine Size (L)  Horsepower   Invoice  Length (IN)  MPG (City)  \\\n",
       "0                3.5         225  $39,014           197          18   \n",
       "1                3.5         225  $41,100           197          18   \n",
       "2                3.5         265  $33,337           189          17   \n",
       "3                3.2         290  $79,978           174          17   \n",
       "4                2.0         200  $21,761           172          24   \n",
       "..               ...         ...       ...          ...         ...   \n",
       "420              2.9         208  $35,542           190          20   \n",
       "421              2.9         268  $42,573           190          19   \n",
       "422              1.9         170  $24,641           180          22   \n",
       "423              2.5         208  $33,112           186          20   \n",
       "424              2.9         268  $38,851           189          15   \n",
       "\n",
       "     MPG (Highway)      MSRP  Weight (LBS)  Wheelbase (IN)  \n",
       "0               24  $43,755           3880             115  \n",
       "1               24  $46,100           3893             115  \n",
       "2               23  $36,945           4451             106  \n",
       "3               24  $89,765           3153             100  \n",
       "4               31  $23,820           2778             101  \n",
       "..             ...       ...           ...             ...  \n",
       "420             28  $37,730           3576             110  \n",
       "421             26  $45,210           3653             110  \n",
       "422             29  $26,135           2822             101  \n",
       "423             27  $35,145           3823             109  \n",
       "424             20  $41,250           4638             113  \n",
       "\n",
       "[425 rows x 15 columns]"
      ]
     },
     "execution_count": 2,
     "metadata": {},
     "output_type": "execute_result"
    }
   ],
   "source": [
    "cars = pd.read_csv('Cars Data.csv')\n",
    "cars = cars.loc[cars['Type'] != \"Hybrid\"]\n",
    "cars = cars.reset_index(drop = True)  #  Re-index form 0 to 424.  Needed to avoid issues with subsequent methods\n",
    "cars"
   ]
  },
  {
   "cell_type": "code",
   "execution_count": 3,
   "id": "e5f097d0",
   "metadata": {},
   "outputs": [],
   "source": [
    "y = cars[['MPG (City)']]\n",
    "X = cars[['Horsepower']]\n",
    "from sklearn.preprocessing import PolynomialFeatures\n",
    "poly = PolynomialFeatures(degree = 5)\n",
    "X = poly.fit_transform(X)\n",
    "X = pd.DataFrame(X, columns = [\"X^0\", \"X\", \"X^2\", \"X^3\", \"X^4\", \"X^5\"])"
   ]
  },
  {
   "cell_type": "code",
   "execution_count": 4,
   "id": "59202f2b",
   "metadata": {},
   "outputs": [
    {
     "data": {
      "text/html": [
       "<div>\n",
       "<style scoped>\n",
       "    .dataframe tbody tr th:only-of-type {\n",
       "        vertical-align: middle;\n",
       "    }\n",
       "\n",
       "    .dataframe tbody tr th {\n",
       "        vertical-align: top;\n",
       "    }\n",
       "\n",
       "    .dataframe thead th {\n",
       "        text-align: right;\n",
       "    }\n",
       "</style>\n",
       "<table border=\"1\" class=\"dataframe\">\n",
       "  <thead>\n",
       "    <tr style=\"text-align: right;\">\n",
       "      <th></th>\n",
       "      <th>X^0</th>\n",
       "      <th>X</th>\n",
       "      <th>X^2</th>\n",
       "      <th>X^3</th>\n",
       "      <th>X^4</th>\n",
       "      <th>X^5</th>\n",
       "    </tr>\n",
       "  </thead>\n",
       "  <tbody>\n",
       "    <tr>\n",
       "      <th>0</th>\n",
       "      <td>1.0</td>\n",
       "      <td>225.0</td>\n",
       "      <td>50625.0</td>\n",
       "      <td>11390625.0</td>\n",
       "      <td>2.562891e+09</td>\n",
       "      <td>5.766504e+11</td>\n",
       "    </tr>\n",
       "    <tr>\n",
       "      <th>1</th>\n",
       "      <td>1.0</td>\n",
       "      <td>225.0</td>\n",
       "      <td>50625.0</td>\n",
       "      <td>11390625.0</td>\n",
       "      <td>2.562891e+09</td>\n",
       "      <td>5.766504e+11</td>\n",
       "    </tr>\n",
       "    <tr>\n",
       "      <th>2</th>\n",
       "      <td>1.0</td>\n",
       "      <td>265.0</td>\n",
       "      <td>70225.0</td>\n",
       "      <td>18609625.0</td>\n",
       "      <td>4.931551e+09</td>\n",
       "      <td>1.306861e+12</td>\n",
       "    </tr>\n",
       "    <tr>\n",
       "      <th>3</th>\n",
       "      <td>1.0</td>\n",
       "      <td>290.0</td>\n",
       "      <td>84100.0</td>\n",
       "      <td>24389000.0</td>\n",
       "      <td>7.072810e+09</td>\n",
       "      <td>2.051115e+12</td>\n",
       "    </tr>\n",
       "    <tr>\n",
       "      <th>4</th>\n",
       "      <td>1.0</td>\n",
       "      <td>200.0</td>\n",
       "      <td>40000.0</td>\n",
       "      <td>8000000.0</td>\n",
       "      <td>1.600000e+09</td>\n",
       "      <td>3.200000e+11</td>\n",
       "    </tr>\n",
       "    <tr>\n",
       "      <th>...</th>\n",
       "      <td>...</td>\n",
       "      <td>...</td>\n",
       "      <td>...</td>\n",
       "      <td>...</td>\n",
       "      <td>...</td>\n",
       "      <td>...</td>\n",
       "    </tr>\n",
       "    <tr>\n",
       "      <th>420</th>\n",
       "      <td>1.0</td>\n",
       "      <td>208.0</td>\n",
       "      <td>43264.0</td>\n",
       "      <td>8998912.0</td>\n",
       "      <td>1.871774e+09</td>\n",
       "      <td>3.893289e+11</td>\n",
       "    </tr>\n",
       "    <tr>\n",
       "      <th>421</th>\n",
       "      <td>1.0</td>\n",
       "      <td>268.0</td>\n",
       "      <td>71824.0</td>\n",
       "      <td>19248832.0</td>\n",
       "      <td>5.158687e+09</td>\n",
       "      <td>1.382528e+12</td>\n",
       "    </tr>\n",
       "    <tr>\n",
       "      <th>422</th>\n",
       "      <td>1.0</td>\n",
       "      <td>170.0</td>\n",
       "      <td>28900.0</td>\n",
       "      <td>4913000.0</td>\n",
       "      <td>8.352100e+08</td>\n",
       "      <td>1.419857e+11</td>\n",
       "    </tr>\n",
       "    <tr>\n",
       "      <th>423</th>\n",
       "      <td>1.0</td>\n",
       "      <td>208.0</td>\n",
       "      <td>43264.0</td>\n",
       "      <td>8998912.0</td>\n",
       "      <td>1.871774e+09</td>\n",
       "      <td>3.893289e+11</td>\n",
       "    </tr>\n",
       "    <tr>\n",
       "      <th>424</th>\n",
       "      <td>1.0</td>\n",
       "      <td>268.0</td>\n",
       "      <td>71824.0</td>\n",
       "      <td>19248832.0</td>\n",
       "      <td>5.158687e+09</td>\n",
       "      <td>1.382528e+12</td>\n",
       "    </tr>\n",
       "  </tbody>\n",
       "</table>\n",
       "<p>425 rows × 6 columns</p>\n",
       "</div>"
      ],
      "text/plain": [
       "     X^0      X      X^2         X^3           X^4           X^5\n",
       "0    1.0  225.0  50625.0  11390625.0  2.562891e+09  5.766504e+11\n",
       "1    1.0  225.0  50625.0  11390625.0  2.562891e+09  5.766504e+11\n",
       "2    1.0  265.0  70225.0  18609625.0  4.931551e+09  1.306861e+12\n",
       "3    1.0  290.0  84100.0  24389000.0  7.072810e+09  2.051115e+12\n",
       "4    1.0  200.0  40000.0   8000000.0  1.600000e+09  3.200000e+11\n",
       "..   ...    ...      ...         ...           ...           ...\n",
       "420  1.0  208.0  43264.0   8998912.0  1.871774e+09  3.893289e+11\n",
       "421  1.0  268.0  71824.0  19248832.0  5.158687e+09  1.382528e+12\n",
       "422  1.0  170.0  28900.0   4913000.0  8.352100e+08  1.419857e+11\n",
       "423  1.0  208.0  43264.0   8998912.0  1.871774e+09  3.893289e+11\n",
       "424  1.0  268.0  71824.0  19248832.0  5.158687e+09  1.382528e+12\n",
       "\n",
       "[425 rows x 6 columns]"
      ]
     },
     "execution_count": 4,
     "metadata": {},
     "output_type": "execute_result"
    }
   ],
   "source": [
    "X"
   ]
  },
  {
   "cell_type": "markdown",
   "id": "26278575",
   "metadata": {},
   "source": [
    "#### Create 5 models using entire dataset for training"
   ]
  },
  {
   "cell_type": "code",
   "execution_count": 5,
   "id": "cc1472d3",
   "metadata": {},
   "outputs": [
    {
     "data": {
      "text/plain": [
       "0.5362829401248901"
      ]
     },
     "execution_count": 5,
     "metadata": {},
     "output_type": "execute_result"
    }
   ],
   "source": [
    "poly_model = LinearRegression(fit_intercept = True)\n",
    "pred_matrix = X[['X']]\n",
    "y_hat = poly_model.fit(pred_matrix, y).predict(X[['X']])\n",
    "metrics.r2_score(y, y_hat)"
   ]
  },
  {
   "cell_type": "code",
   "execution_count": 6,
   "id": "ad12aeb8",
   "metadata": {},
   "outputs": [
    {
     "data": {
      "text/plain": [
       "0.6621944231230866"
      ]
     },
     "execution_count": 6,
     "metadata": {},
     "output_type": "execute_result"
    }
   ],
   "source": [
    "pred_matrix = X[['X', 'X^2']]\n",
    "y_hat = poly_model.fit(pred_matrix, y).predict(pred_matrix)\n",
    "metrics.r2_score(y, y_hat)"
   ]
  },
  {
   "cell_type": "code",
   "execution_count": 7,
   "id": "65e02b76",
   "metadata": {},
   "outputs": [
    {
     "data": {
      "text/plain": [
       "0.7094281565698564"
      ]
     },
     "execution_count": 7,
     "metadata": {},
     "output_type": "execute_result"
    }
   ],
   "source": [
    "pred_matrix = X[['X', 'X^2', 'X^3']]\n",
    "y_hat = poly_model.fit(pred_matrix, y).predict(pred_matrix)\n",
    "metrics.r2_score(y, y_hat)"
   ]
  },
  {
   "cell_type": "code",
   "execution_count": 8,
   "id": "cc76ffb8",
   "metadata": {},
   "outputs": [
    {
     "data": {
      "text/plain": [
       "0.7144759855213365"
      ]
     },
     "execution_count": 8,
     "metadata": {},
     "output_type": "execute_result"
    }
   ],
   "source": [
    "pred_matrix = X[['X', 'X^2', 'X^3', 'X^4']]\n",
    "y_hat = poly_model.fit(pred_matrix, y).predict(pred_matrix)\n",
    "metrics.r2_score(y, y_hat)"
   ]
  },
  {
   "cell_type": "code",
   "execution_count": 9,
   "id": "62b19bf2",
   "metadata": {},
   "outputs": [
    {
     "data": {
      "text/plain": [
       "0.7154509301029706"
      ]
     },
     "execution_count": 9,
     "metadata": {},
     "output_type": "execute_result"
    }
   ],
   "source": [
    "pred_matrix = X[['X', 'X^2', 'X^3', 'X^4', 'X^5']]\n",
    "y_hat = poly_model.fit(pred_matrix, y).predict(pred_matrix)\n",
    "metrics.r2_score(y, y_hat)"
   ]
  },
  {
   "cell_type": "markdown",
   "id": "978039d5",
   "metadata": {},
   "source": [
    "Look at p-values of coefficients"
   ]
  },
  {
   "cell_type": "code",
   "execution_count": 10,
   "id": "ebcda1db",
   "metadata": {
    "scrolled": true
   },
   "outputs": [
    {
     "data": {
      "text/html": [
       "<table class=\"simpletable\">\n",
       "<caption>OLS Regression Results</caption>\n",
       "<tr>\n",
       "  <th>Dep. Variable:</th>       <td>MPG (City)</td>    <th>  R-squared:         </th> <td>   0.715</td> \n",
       "</tr>\n",
       "<tr>\n",
       "  <th>Model:</th>                   <td>OLS</td>       <th>  Adj. R-squared:    </th> <td>   0.712</td> \n",
       "</tr>\n",
       "<tr>\n",
       "  <th>Method:</th>             <td>Least Squares</td>  <th>  F-statistic:       </th> <td>   210.7</td> \n",
       "</tr>\n",
       "<tr>\n",
       "  <th>Date:</th>             <td>Wed, 29 Jun 2022</td> <th>  Prob (F-statistic):</th> <td>6.18e-112</td>\n",
       "</tr>\n",
       "<tr>\n",
       "  <th>Time:</th>                 <td>11:47:11</td>     <th>  Log-Likelihood:    </th> <td> -957.18</td> \n",
       "</tr>\n",
       "<tr>\n",
       "  <th>No. Observations:</th>      <td>   425</td>      <th>  AIC:               </th> <td>   1926.</td> \n",
       "</tr>\n",
       "<tr>\n",
       "  <th>Df Residuals:</th>          <td>   419</td>      <th>  BIC:               </th> <td>   1951.</td> \n",
       "</tr>\n",
       "<tr>\n",
       "  <th>Df Model:</th>              <td>     5</td>      <th>                     </th>     <td> </td>    \n",
       "</tr>\n",
       "<tr>\n",
       "  <th>Covariance Type:</th>      <td>nonrobust</td>    <th>                     </th>     <td> </td>    \n",
       "</tr>\n",
       "</table>\n",
       "<table class=\"simpletable\">\n",
       "<tr>\n",
       "    <td></td>       <th>coef</th>     <th>std err</th>      <th>t</th>      <th>P>|t|</th>  <th>[0.025</th>    <th>0.975]</th>  \n",
       "</tr>\n",
       "<tr>\n",
       "  <th>const</th> <td>   87.4450</td> <td>   14.765</td> <td>    5.922</td> <td> 0.000</td> <td>   58.422</td> <td>  116.468</td>\n",
       "</tr>\n",
       "<tr>\n",
       "  <th>X</th>     <td>   -0.9859</td> <td>    0.322</td> <td>   -3.063</td> <td> 0.002</td> <td>   -1.619</td> <td>   -0.353</td>\n",
       "</tr>\n",
       "<tr>\n",
       "  <th>X^2</th>   <td>    0.0058</td> <td>    0.003</td> <td>    2.183</td> <td> 0.030</td> <td>    0.001</td> <td>    0.011</td>\n",
       "</tr>\n",
       "<tr>\n",
       "  <th>X^3</th>   <td>-1.753e-05</td> <td> 1.03e-05</td> <td>   -1.694</td> <td> 0.091</td> <td>-3.79e-05</td> <td> 2.81e-06</td>\n",
       "</tr>\n",
       "<tr>\n",
       "  <th>X^4</th>   <td> 2.673e-08</td> <td> 1.92e-08</td> <td>    1.392</td> <td> 0.165</td> <td> -1.1e-08</td> <td> 6.45e-08</td>\n",
       "</tr>\n",
       "<tr>\n",
       "  <th>X^5</th>   <td>-1.626e-11</td> <td> 1.36e-11</td> <td>   -1.198</td> <td> 0.232</td> <td>-4.29e-11</td> <td> 1.04e-11</td>\n",
       "</tr>\n",
       "</table>\n",
       "<table class=\"simpletable\">\n",
       "<tr>\n",
       "  <th>Omnibus:</th>       <td> 1.358</td> <th>  Durbin-Watson:     </th> <td>   1.105</td>\n",
       "</tr>\n",
       "<tr>\n",
       "  <th>Prob(Omnibus):</th> <td> 0.507</td> <th>  Jarque-Bera (JB):  </th> <td>   1.160</td>\n",
       "</tr>\n",
       "<tr>\n",
       "  <th>Skew:</th>          <td>-0.047</td> <th>  Prob(JB):          </th> <td>   0.560</td>\n",
       "</tr>\n",
       "<tr>\n",
       "  <th>Kurtosis:</th>      <td> 3.238</td> <th>  Cond. No.          </th> <td>4.84e+14</td>\n",
       "</tr>\n",
       "</table><br/><br/>Notes:<br/>[1] Standard Errors assume that the covariance matrix of the errors is correctly specified.<br/>[2] The condition number is large, 4.84e+14. This might indicate that there are<br/>strong multicollinearity or other numerical problems."
      ],
      "text/plain": [
       "<class 'statsmodels.iolib.summary.Summary'>\n",
       "\"\"\"\n",
       "                            OLS Regression Results                            \n",
       "==============================================================================\n",
       "Dep. Variable:             MPG (City)   R-squared:                       0.715\n",
       "Model:                            OLS   Adj. R-squared:                  0.712\n",
       "Method:                 Least Squares   F-statistic:                     210.7\n",
       "Date:                Wed, 29 Jun 2022   Prob (F-statistic):          6.18e-112\n",
       "Time:                        11:47:11   Log-Likelihood:                -957.18\n",
       "No. Observations:                 425   AIC:                             1926.\n",
       "Df Residuals:                     419   BIC:                             1951.\n",
       "Df Model:                           5                                         \n",
       "Covariance Type:            nonrobust                                         \n",
       "==============================================================================\n",
       "                 coef    std err          t      P>|t|      [0.025      0.975]\n",
       "------------------------------------------------------------------------------\n",
       "const         87.4450     14.765      5.922      0.000      58.422     116.468\n",
       "X             -0.9859      0.322     -3.063      0.002      -1.619      -0.353\n",
       "X^2            0.0058      0.003      2.183      0.030       0.001       0.011\n",
       "X^3        -1.753e-05   1.03e-05     -1.694      0.091   -3.79e-05    2.81e-06\n",
       "X^4         2.673e-08   1.92e-08      1.392      0.165    -1.1e-08    6.45e-08\n",
       "X^5        -1.626e-11   1.36e-11     -1.198      0.232   -4.29e-11    1.04e-11\n",
       "==============================================================================\n",
       "Omnibus:                        1.358   Durbin-Watson:                   1.105\n",
       "Prob(Omnibus):                  0.507   Jarque-Bera (JB):                1.160\n",
       "Skew:                          -0.047   Prob(JB):                        0.560\n",
       "Kurtosis:                       3.238   Cond. No.                     4.84e+14\n",
       "==============================================================================\n",
       "\n",
       "Notes:\n",
       "[1] Standard Errors assume that the covariance matrix of the errors is correctly specified.\n",
       "[2] The condition number is large, 4.84e+14. This might indicate that there are\n",
       "strong multicollinearity or other numerical problems.\n",
       "\"\"\""
      ]
     },
     "execution_count": 10,
     "metadata": {},
     "output_type": "execute_result"
    }
   ],
   "source": [
    "import statsmodels.api as sm\n",
    "sm.OLS(y,sm.add_constant(X[['X', 'X^2', 'X^3', 'X^4', 'X^5']])).fit().summary()"
   ]
  },
  {
   "cell_type": "markdown",
   "id": "ea7bc27a",
   "metadata": {},
   "source": [
    "#### Split into test and training partitions and re-run five models"
   ]
  },
  {
   "cell_type": "code",
   "execution_count": 11,
   "id": "62a723d4",
   "metadata": {},
   "outputs": [],
   "source": [
    "from sklearn.model_selection import train_test_split\n",
    "X_test, X_train, y_test, y_train = train_test_split(X,y, test_size = 0.5, random_state = 0)"
   ]
  },
  {
   "cell_type": "code",
   "execution_count": 12,
   "id": "1218b86c",
   "metadata": {},
   "outputs": [
    {
     "data": {
      "text/html": [
       "<div>\n",
       "<style scoped>\n",
       "    .dataframe tbody tr th:only-of-type {\n",
       "        vertical-align: middle;\n",
       "    }\n",
       "\n",
       "    .dataframe tbody tr th {\n",
       "        vertical-align: top;\n",
       "    }\n",
       "\n",
       "    .dataframe thead th {\n",
       "        text-align: right;\n",
       "    }\n",
       "</style>\n",
       "<table border=\"1\" class=\"dataframe\">\n",
       "  <thead>\n",
       "    <tr style=\"text-align: right;\">\n",
       "      <th></th>\n",
       "      <th>X^0</th>\n",
       "      <th>X</th>\n",
       "      <th>X^2</th>\n",
       "      <th>X^3</th>\n",
       "      <th>X^4</th>\n",
       "      <th>X^5</th>\n",
       "    </tr>\n",
       "  </thead>\n",
       "  <tbody>\n",
       "    <tr>\n",
       "      <th>229</th>\n",
       "      <td>1.0</td>\n",
       "      <td>232.0</td>\n",
       "      <td>53824.0</td>\n",
       "      <td>12487168.0</td>\n",
       "      <td>2.897023e+09</td>\n",
       "      <td>6.721093e+11</td>\n",
       "    </tr>\n",
       "    <tr>\n",
       "      <th>159</th>\n",
       "      <td>1.0</td>\n",
       "      <td>160.0</td>\n",
       "      <td>25600.0</td>\n",
       "      <td>4096000.0</td>\n",
       "      <td>6.553600e+08</td>\n",
       "      <td>1.048576e+11</td>\n",
       "    </tr>\n",
       "    <tr>\n",
       "      <th>54</th>\n",
       "      <td>1.0</td>\n",
       "      <td>185.0</td>\n",
       "      <td>34225.0</td>\n",
       "      <td>6331625.0</td>\n",
       "      <td>1.171351e+09</td>\n",
       "      <td>2.166999e+11</td>\n",
       "    </tr>\n",
       "    <tr>\n",
       "      <th>208</th>\n",
       "      <td>1.0</td>\n",
       "      <td>195.0</td>\n",
       "      <td>38025.0</td>\n",
       "      <td>7414875.0</td>\n",
       "      <td>1.445901e+09</td>\n",
       "      <td>2.819506e+11</td>\n",
       "    </tr>\n",
       "    <tr>\n",
       "      <th>10</th>\n",
       "      <td>1.0</td>\n",
       "      <td>220.0</td>\n",
       "      <td>48400.0</td>\n",
       "      <td>10648000.0</td>\n",
       "      <td>2.342560e+09</td>\n",
       "      <td>5.153632e+11</td>\n",
       "    </tr>\n",
       "    <tr>\n",
       "      <th>...</th>\n",
       "      <td>...</td>\n",
       "      <td>...</td>\n",
       "      <td>...</td>\n",
       "      <td>...</td>\n",
       "      <td>...</td>\n",
       "      <td>...</td>\n",
       "    </tr>\n",
       "    <tr>\n",
       "      <th>309</th>\n",
       "      <td>1.0</td>\n",
       "      <td>126.0</td>\n",
       "      <td>15876.0</td>\n",
       "      <td>2000376.0</td>\n",
       "      <td>2.520474e+08</td>\n",
       "      <td>3.175797e+10</td>\n",
       "    </tr>\n",
       "    <tr>\n",
       "      <th>357</th>\n",
       "      <td>1.0</td>\n",
       "      <td>165.0</td>\n",
       "      <td>27225.0</td>\n",
       "      <td>4492125.0</td>\n",
       "      <td>7.412006e+08</td>\n",
       "      <td>1.222981e+11</td>\n",
       "    </tr>\n",
       "    <tr>\n",
       "      <th>51</th>\n",
       "      <td>1.0</td>\n",
       "      <td>275.0</td>\n",
       "      <td>75625.0</td>\n",
       "      <td>20796875.0</td>\n",
       "      <td>5.719141e+09</td>\n",
       "      <td>1.572764e+12</td>\n",
       "    </tr>\n",
       "    <tr>\n",
       "      <th>351</th>\n",
       "      <td>1.0</td>\n",
       "      <td>108.0</td>\n",
       "      <td>11664.0</td>\n",
       "      <td>1259712.0</td>\n",
       "      <td>1.360489e+08</td>\n",
       "      <td>1.469328e+10</td>\n",
       "    </tr>\n",
       "    <tr>\n",
       "      <th>376</th>\n",
       "      <td>1.0</td>\n",
       "      <td>157.0</td>\n",
       "      <td>24649.0</td>\n",
       "      <td>3869893.0</td>\n",
       "      <td>6.075732e+08</td>\n",
       "      <td>9.538899e+10</td>\n",
       "    </tr>\n",
       "  </tbody>\n",
       "</table>\n",
       "<p>213 rows × 6 columns</p>\n",
       "</div>"
      ],
      "text/plain": [
       "     X^0      X      X^2         X^3           X^4           X^5\n",
       "229  1.0  232.0  53824.0  12487168.0  2.897023e+09  6.721093e+11\n",
       "159  1.0  160.0  25600.0   4096000.0  6.553600e+08  1.048576e+11\n",
       "54   1.0  185.0  34225.0   6331625.0  1.171351e+09  2.166999e+11\n",
       "208  1.0  195.0  38025.0   7414875.0  1.445901e+09  2.819506e+11\n",
       "10   1.0  220.0  48400.0  10648000.0  2.342560e+09  5.153632e+11\n",
       "..   ...    ...      ...         ...           ...           ...\n",
       "309  1.0  126.0  15876.0   2000376.0  2.520474e+08  3.175797e+10\n",
       "357  1.0  165.0  27225.0   4492125.0  7.412006e+08  1.222981e+11\n",
       "51   1.0  275.0  75625.0  20796875.0  5.719141e+09  1.572764e+12\n",
       "351  1.0  108.0  11664.0   1259712.0  1.360489e+08  1.469328e+10\n",
       "376  1.0  157.0  24649.0   3869893.0  6.075732e+08  9.538899e+10\n",
       "\n",
       "[213 rows x 6 columns]"
      ]
     },
     "execution_count": 12,
     "metadata": {},
     "output_type": "execute_result"
    }
   ],
   "source": [
    "X_train"
   ]
  },
  {
   "cell_type": "code",
   "execution_count": 13,
   "id": "3ec34acb",
   "metadata": {},
   "outputs": [
    {
     "data": {
      "text/html": [
       "<div>\n",
       "<style scoped>\n",
       "    .dataframe tbody tr th:only-of-type {\n",
       "        vertical-align: middle;\n",
       "    }\n",
       "\n",
       "    .dataframe tbody tr th {\n",
       "        vertical-align: top;\n",
       "    }\n",
       "\n",
       "    .dataframe thead th {\n",
       "        text-align: right;\n",
       "    }\n",
       "</style>\n",
       "<table border=\"1\" class=\"dataframe\">\n",
       "  <thead>\n",
       "    <tr style=\"text-align: right;\">\n",
       "      <th></th>\n",
       "      <th>X^0</th>\n",
       "      <th>X</th>\n",
       "      <th>X^2</th>\n",
       "      <th>X^3</th>\n",
       "      <th>X^4</th>\n",
       "      <th>X^5</th>\n",
       "    </tr>\n",
       "  </thead>\n",
       "  <tbody>\n",
       "    <tr>\n",
       "      <th>415</th>\n",
       "      <td>1.0</td>\n",
       "      <td>170.0</td>\n",
       "      <td>28900.0</td>\n",
       "      <td>4913000.0</td>\n",
       "      <td>8.352100e+08</td>\n",
       "      <td>1.419857e+11</td>\n",
       "    </tr>\n",
       "    <tr>\n",
       "      <th>27</th>\n",
       "      <td>1.0</td>\n",
       "      <td>184.0</td>\n",
       "      <td>33856.0</td>\n",
       "      <td>6229504.0</td>\n",
       "      <td>1.146229e+09</td>\n",
       "      <td>2.109061e+11</td>\n",
       "    </tr>\n",
       "    <tr>\n",
       "      <th>2</th>\n",
       "      <td>1.0</td>\n",
       "      <td>265.0</td>\n",
       "      <td>70225.0</td>\n",
       "      <td>18609625.0</td>\n",
       "      <td>4.931551e+09</td>\n",
       "      <td>1.306861e+12</td>\n",
       "    </tr>\n",
       "    <tr>\n",
       "      <th>246</th>\n",
       "      <td>1.0</td>\n",
       "      <td>130.0</td>\n",
       "      <td>16900.0</td>\n",
       "      <td>2197000.0</td>\n",
       "      <td>2.856100e+08</td>\n",
       "      <td>3.712930e+10</td>\n",
       "    </tr>\n",
       "    <tr>\n",
       "      <th>156</th>\n",
       "      <td>1.0</td>\n",
       "      <td>115.0</td>\n",
       "      <td>13225.0</td>\n",
       "      <td>1520875.0</td>\n",
       "      <td>1.749006e+08</td>\n",
       "      <td>2.011357e+10</td>\n",
       "    </tr>\n",
       "    <tr>\n",
       "      <th>...</th>\n",
       "      <td>...</td>\n",
       "      <td>...</td>\n",
       "      <td>...</td>\n",
       "      <td>...</td>\n",
       "      <td>...</td>\n",
       "      <td>...</td>\n",
       "    </tr>\n",
       "    <tr>\n",
       "      <th>323</th>\n",
       "      <td>1.0</td>\n",
       "      <td>185.0</td>\n",
       "      <td>34225.0</td>\n",
       "      <td>6331625.0</td>\n",
       "      <td>1.171351e+09</td>\n",
       "      <td>2.166999e+11</td>\n",
       "    </tr>\n",
       "    <tr>\n",
       "      <th>192</th>\n",
       "      <td>1.0</td>\n",
       "      <td>227.0</td>\n",
       "      <td>51529.0</td>\n",
       "      <td>11697083.0</td>\n",
       "      <td>2.655238e+09</td>\n",
       "      <td>6.027390e+11</td>\n",
       "    </tr>\n",
       "    <tr>\n",
       "      <th>117</th>\n",
       "      <td>1.0</td>\n",
       "      <td>500.0</td>\n",
       "      <td>250000.0</td>\n",
       "      <td>125000000.0</td>\n",
       "      <td>6.250000e+10</td>\n",
       "      <td>3.125000e+13</td>\n",
       "    </tr>\n",
       "    <tr>\n",
       "      <th>47</th>\n",
       "      <td>1.0</td>\n",
       "      <td>205.0</td>\n",
       "      <td>42025.0</td>\n",
       "      <td>8615125.0</td>\n",
       "      <td>1.766101e+09</td>\n",
       "      <td>3.620506e+11</td>\n",
       "    </tr>\n",
       "    <tr>\n",
       "      <th>172</th>\n",
       "      <td>1.0</td>\n",
       "      <td>170.0</td>\n",
       "      <td>28900.0</td>\n",
       "      <td>4913000.0</td>\n",
       "      <td>8.352100e+08</td>\n",
       "      <td>1.419857e+11</td>\n",
       "    </tr>\n",
       "  </tbody>\n",
       "</table>\n",
       "<p>212 rows × 6 columns</p>\n",
       "</div>"
      ],
      "text/plain": [
       "     X^0      X       X^2          X^3           X^4           X^5\n",
       "415  1.0  170.0   28900.0    4913000.0  8.352100e+08  1.419857e+11\n",
       "27   1.0  184.0   33856.0    6229504.0  1.146229e+09  2.109061e+11\n",
       "2    1.0  265.0   70225.0   18609625.0  4.931551e+09  1.306861e+12\n",
       "246  1.0  130.0   16900.0    2197000.0  2.856100e+08  3.712930e+10\n",
       "156  1.0  115.0   13225.0    1520875.0  1.749006e+08  2.011357e+10\n",
       "..   ...    ...       ...          ...           ...           ...\n",
       "323  1.0  185.0   34225.0    6331625.0  1.171351e+09  2.166999e+11\n",
       "192  1.0  227.0   51529.0   11697083.0  2.655238e+09  6.027390e+11\n",
       "117  1.0  500.0  250000.0  125000000.0  6.250000e+10  3.125000e+13\n",
       "47   1.0  205.0   42025.0    8615125.0  1.766101e+09  3.620506e+11\n",
       "172  1.0  170.0   28900.0    4913000.0  8.352100e+08  1.419857e+11\n",
       "\n",
       "[212 rows x 6 columns]"
      ]
     },
     "execution_count": 13,
     "metadata": {},
     "output_type": "execute_result"
    }
   ],
   "source": [
    "X_test"
   ]
  },
  {
   "cell_type": "code",
   "execution_count": 14,
   "id": "2fb874f9",
   "metadata": {},
   "outputs": [
    {
     "data": {
      "text/plain": [
       "0.4068627576569702"
      ]
     },
     "execution_count": 14,
     "metadata": {},
     "output_type": "execute_result"
    }
   ],
   "source": [
    "pred_matrix = X_train[['X']]\n",
    "test_matrix = X_test[['X']]\n",
    "y_hat_test = poly_model.fit(pred_matrix, y_train).predict(test_matrix)\n",
    "metrics.r2_score(y_test, y_hat_test)"
   ]
  },
  {
   "cell_type": "code",
   "execution_count": 15,
   "id": "5fe04758",
   "metadata": {},
   "outputs": [
    {
     "data": {
      "text/plain": [
       "0.4795604189719457"
      ]
     },
     "execution_count": 15,
     "metadata": {},
     "output_type": "execute_result"
    }
   ],
   "source": [
    "pred_matrix = X_train[['X', 'X^2']]\n",
    "test_matrix = X_test[['X', 'X^2']]\n",
    "y_hat_test = poly_model.fit(pred_matrix, y_train).predict(test_matrix)\n",
    "metrics.r2_score(y_test, y_hat_test)"
   ]
  },
  {
   "cell_type": "code",
   "execution_count": 16,
   "id": "a7746e0d",
   "metadata": {},
   "outputs": [
    {
     "data": {
      "text/plain": [
       "0.6649984068923545"
      ]
     },
     "execution_count": 16,
     "metadata": {},
     "output_type": "execute_result"
    }
   ],
   "source": [
    "pred_matrix = X_train[['X', 'X^2', 'X^3']]\n",
    "test_matrix = X_test[['X', 'X^2', 'X^3']]\n",
    "y_hat_test = poly_model.fit(pred_matrix, y_train).predict(test_matrix)\n",
    "metrics.r2_score(y_test, y_hat_test)"
   ]
  },
  {
   "cell_type": "code",
   "execution_count": 17,
   "id": "fa4f3800",
   "metadata": {},
   "outputs": [
    {
     "data": {
      "text/plain": [
       "0.6366875686528273"
      ]
     },
     "execution_count": 17,
     "metadata": {},
     "output_type": "execute_result"
    }
   ],
   "source": [
    "pred_matrix = X_train[['X', 'X^2', 'X^3', 'X^4']]\n",
    "test_matrix = X_test[['X', 'X^2', 'X^3', 'X^4']]\n",
    "y_hat_test = poly_model.fit(pred_matrix, y_train).predict(test_matrix)\n",
    "metrics.r2_score(y_test, y_hat_test)"
   ]
  },
  {
   "cell_type": "code",
   "execution_count": 18,
   "id": "1edc559e",
   "metadata": {},
   "outputs": [
    {
     "data": {
      "text/plain": [
       "0.5263560291779714"
      ]
     },
     "execution_count": 18,
     "metadata": {},
     "output_type": "execute_result"
    }
   ],
   "source": [
    "pred_matrix = X_train[['X', 'X^2', 'X^3', 'X^4', 'X^5']]\n",
    "test_matrix = X_test[['X', 'X^2', 'X^3', 'X^4', 'X^5']]\n",
    "y_hat_test = poly_model.fit(pred_matrix, y_train).predict(test_matrix)\n",
    "metrics.r2_score(y_test, y_hat_test)"
   ]
  },
  {
   "cell_type": "markdown",
   "id": "083150c7",
   "metadata": {},
   "source": [
    "Re-run with different random split"
   ]
  },
  {
   "cell_type": "code",
   "execution_count": 19,
   "id": "5fca93d3",
   "metadata": {},
   "outputs": [],
   "source": [
    "X_test, X_train, y_test, y_train = train_test_split(X,y, test_size = 0.5, random_state = 6)"
   ]
  },
  {
   "cell_type": "code",
   "execution_count": 20,
   "id": "ab9196ec",
   "metadata": {},
   "outputs": [
    {
     "data": {
      "text/plain": [
       "0.4951389161003863"
      ]
     },
     "execution_count": 20,
     "metadata": {},
     "output_type": "execute_result"
    }
   ],
   "source": [
    "pred_matrix = X_train[['X']]\n",
    "test_matrix = X_test[['X']]\n",
    "y_hat_test = poly_model.fit(pred_matrix, y_train).predict(test_matrix)\n",
    "metrics.r2_score(y_test, y_hat_test)"
   ]
  },
  {
   "cell_type": "code",
   "execution_count": 21,
   "id": "c1df015e",
   "metadata": {},
   "outputs": [
    {
     "data": {
      "text/plain": [
       "0.6379429900911943"
      ]
     },
     "execution_count": 21,
     "metadata": {},
     "output_type": "execute_result"
    }
   ],
   "source": [
    "pred_matrix = X_train[['X', 'X^2']]\n",
    "test_matrix = X_test[['X', 'X^2']]\n",
    "y_hat_test = poly_model.fit(pred_matrix, y_train).predict(test_matrix)\n",
    "metrics.r2_score(y_test, y_hat_test)"
   ]
  },
  {
   "cell_type": "code",
   "execution_count": 22,
   "id": "5d6ef873",
   "metadata": {},
   "outputs": [
    {
     "data": {
      "text/plain": [
       "0.6994495949363551"
      ]
     },
     "execution_count": 22,
     "metadata": {},
     "output_type": "execute_result"
    }
   ],
   "source": [
    "pred_matrix = X_train[['X', 'X^2', 'X^3']]\n",
    "test_matrix = X_test[['X', 'X^2', 'X^3']]\n",
    "y_hat_test = poly_model.fit(pred_matrix, y_train).predict(test_matrix)\n",
    "metrics.r2_score(y_test, y_hat_test)"
   ]
  },
  {
   "cell_type": "code",
   "execution_count": 23,
   "id": "14132cfe",
   "metadata": {},
   "outputs": [
    {
     "data": {
      "text/plain": [
       "0.7011043471799752"
      ]
     },
     "execution_count": 23,
     "metadata": {},
     "output_type": "execute_result"
    }
   ],
   "source": [
    "pred_matrix = X_train[['X', 'X^2', 'X^3', 'X^4']]\n",
    "test_matrix = X_test[['X', 'X^2', 'X^3', 'X^4']]\n",
    "y_hat_test = poly_model.fit(pred_matrix, y_train).predict(test_matrix)\n",
    "metrics.r2_score(y_test, y_hat_test)"
   ]
  },
  {
   "cell_type": "code",
   "execution_count": 24,
   "id": "9bb741b5",
   "metadata": {},
   "outputs": [
    {
     "data": {
      "text/plain": [
       "0.6822965378117414"
      ]
     },
     "execution_count": 24,
     "metadata": {},
     "output_type": "execute_result"
    }
   ],
   "source": [
    "pred_matrix = X_train[['X', 'X^2', 'X^3', 'X^4', 'X^5']]\n",
    "test_matrix = X_test[['X', 'X^2', 'X^3', 'X^4', 'X^5']]\n",
    "y_hat_test = poly_model.fit(pred_matrix, y_train).predict(test_matrix)\n",
    "metrics.r2_score(y_test, y_hat_test)"
   ]
  },
  {
   "cell_type": "markdown",
   "id": "5210d04b",
   "metadata": {},
   "source": [
    "## Estimating Model Variance"
   ]
  },
  {
   "cell_type": "markdown",
   "id": "ea7b5afe",
   "metadata": {},
   "source": [
    "### Example - Sample Mean"
   ]
  },
  {
   "cell_type": "markdown",
   "id": "0efab2bc",
   "metadata": {},
   "source": [
    "Draw a sample of 100 variable from a population that has a mean of 3 and a standard deviation of 2"
   ]
  },
  {
   "cell_type": "code",
   "execution_count": 43,
   "id": "60948d6d",
   "metadata": {},
   "outputs": [
    {
     "data": {
      "text/plain": [
       "array([ 5.18409939,  5.76368898,  1.35217265,  2.92063989,  2.4235822 ,\n",
       "        7.45231779,  2.05495018,  3.39937962,  0.13967855,  1.5022895 ,\n",
       "        2.33965294,  9.19764897,  4.7598329 ,  3.72950043,  4.80084213,\n",
       "        6.57245689,  2.4132318 ,  1.37368621,  1.74395376,  1.27233427,\n",
       "        5.14124863,  3.83549941,  1.4722592 ,  3.58004208,  1.7357605 ,\n",
       "        4.09507589,  2.00392709,  4.35701044,  8.30317706,  5.28624396,\n",
       "        0.53479836,  1.79812943,  3.58628024, -2.37054234,  0.67746569,\n",
       "        1.49414198,  4.28032776,  0.18542601,  1.43231685,  1.13455726,\n",
       "        3.41614829,  3.93593797, -1.46460942,  1.74895655,  4.70888616,\n",
       "        3.12513332,  6.08000809,  0.7557608 ,  2.57242937,  6.62750111,\n",
       "        0.55160742,  7.31595843,  4.64635463,  2.56052786,  1.48475873,\n",
       "        0.86551757,  4.47913531,  5.21515368,  0.1705427 ,  2.26631961,\n",
       "        1.2146326 ,  5.66809893, -0.84794435,  3.87741107,  0.72488669,\n",
       "        1.81050879,  4.0327265 ,  4.2748799 ,  1.57089395,  0.85501661,\n",
       "        5.43965343,  4.08219475,  5.23467755,  1.32802546,  1.44954622,\n",
       "        4.05569607,  2.00811263, -0.61812246,  5.70163163,  0.58353475,\n",
       "        5.02030698,  0.65599782,  1.21953555,  4.66687435,  0.97512129,\n",
       "        1.80100035,  2.84068504,  3.02240686,  2.37346274,  0.40949551,\n",
       "        3.01818674, -1.86225712,  8.00743269,  2.84849577,  6.58219299,\n",
       "        4.1791961 ,  2.83205387,  3.97353479,  4.87744017,  4.95076102])"
      ]
     },
     "execution_count": 43,
     "metadata": {},
     "output_type": "execute_result"
    }
   ],
   "source": [
    "mu, sigma = 3,2\n",
    "x = np.random.default_rng().normal(mu, sigma, 100)\n",
    "x"
   ]
  },
  {
   "cell_type": "code",
   "execution_count": 35,
   "id": "26264c2f",
   "metadata": {
    "scrolled": false
   },
   "outputs": [
    {
     "data": {
      "text/plain": [
       "<AxesSubplot:ylabel='Count'>"
      ]
     },
     "execution_count": 35,
     "metadata": {},
     "output_type": "execute_result"
    },
    {
     "data": {
      "image/png": "[encoded data removed]",
      "text/plain": [
       "<Figure size 640x480 with 1 Axes>"
      ]
     },
     "metadata": {},
     "output_type": "display_data"
    }
   ],
   "source": [
    "sns.histplot(x)"
   ]
  },
  {
   "cell_type": "markdown",
   "id": "fc159409",
   "metadata": {},
   "source": [
    "Calculate sample mean and standard error:"
   ]
  },
  {
   "cell_type": "code",
   "execution_count": 44,
   "id": "f1b507cf",
   "metadata": {},
   "outputs": [
    {
     "data": {
      "text/plain": [
       "2.9885909695335737"
      ]
     },
     "execution_count": 44,
     "metadata": {},
     "output_type": "execute_result"
    }
   ],
   "source": [
    "x_bar = np.mean(x)\n",
    "x_bar"
   ]
  },
  {
   "cell_type": "code",
   "execution_count": 48,
   "id": "7481aeba",
   "metadata": {},
   "outputs": [
    {
     "data": {
      "text/plain": [
       "0.22580135250674965"
      ]
     },
     "execution_count": 48,
     "metadata": {},
     "output_type": "execute_result"
    }
   ],
   "source": [
    "se_x = np.std(x)\n",
    "se_x/np.sqrt(len(x))"
   ]
  },
  {
   "cell_type": "code",
   "execution_count": 49,
   "id": "96e19b54",
   "metadata": {},
   "outputs": [
    {
     "data": {
      "text/plain": [
       "0.22693889800595887"
      ]
     },
     "execution_count": 49,
     "metadata": {},
     "output_type": "execute_result"
    }
   ],
   "source": [
    "from scipy.stats import sem\n",
    "sem(x)"
   ]
  },
  {
   "cell_type": "markdown",
   "id": "81bb0a66",
   "metadata": {},
   "source": [
    "Calculate standard error using bootstrapping"
   ]
  },
  {
   "cell_type": "code",
   "execution_count": 51,
   "id": "1027263a",
   "metadata": {},
   "outputs": [
    {
     "data": {
      "text/plain": [
       "0.22659101826003697"
      ]
     },
     "execution_count": 51,
     "metadata": {},
     "output_type": "execute_result"
    }
   ],
   "source": [
    "sample_means = np.zeros(1000)\n",
    "for i in range(1000):\n",
    "    sample_means[i] = np.mean(np.random.choice(x, size = np.size(x), replace=True))\n",
    "np.std(sample_means)"
   ]
  },
  {
   "cell_type": "code",
   "execution_count": 52,
   "id": "621e70b4",
   "metadata": {},
   "outputs": [
    {
     "data": {
      "text/plain": [
       "(array([  8.,  22., 102., 149., 247., 204., 151.,  84.,  24.,   9.]),\n",
       " array([2.32500665, 2.4598679 , 2.59472915, 2.7295904 , 2.86445165,\n",
       "        2.9993129 , 3.13417414, 3.26903539, 3.40389664, 3.53875789,\n",
       "        3.67361914]),\n",
       " <BarContainer object of 10 artists>)"
      ]
     },
     "execution_count": 52,
     "metadata": {},
     "output_type": "execute_result"
    },
    {
     "data": {
      "image/png": "[encoded data removed]",
      "text/plain": [
       "<Figure size 640x480 with 1 Axes>"
      ]
     },
     "metadata": {},
     "output_type": "display_data"
    }
   ],
   "source": [
    "plt.hist(sample_means)"
   ]
  },
  {
   "cell_type": "code",
   "execution_count": 53,
   "id": "d987094b",
   "metadata": {},
   "outputs": [
    {
     "data": {
      "text/plain": [
       "2.5706889106188644"
      ]
     },
     "execution_count": 53,
     "metadata": {},
     "output_type": "execute_result"
    }
   ],
   "source": [
    "np.sort(sample_means)[24]  # Lower bound of 95% CI"
   ]
  },
  {
   "cell_type": "code",
   "execution_count": 54,
   "id": "9b1ea1f5",
   "metadata": {},
   "outputs": [
    {
     "data": {
      "text/plain": [
       "3.428397917049703"
      ]
     },
     "execution_count": 54,
     "metadata": {},
     "output_type": "execute_result"
    }
   ],
   "source": [
    "np.sort(sample_means)[974]  # Upper bound of 95% CI"
   ]
  }
 ],
 "metadata": {
  "kernelspec": {
   "display_name": "Python 3",
   "language": "python",
   "name": "python3"
  },
  "language_info": {
   "codemirror_mode": {
    "name": "ipython",
    "version": 3
   },
   "file_extension": ".py",
   "mimetype": "text/x-python",
   "name": "python",
   "nbconvert_exporter": "python",
   "pygments_lexer": "ipython3",
   "version": "3.8.8"
  }
 },
 "nbformat": 4,
 "nbformat_minor": 5
}
