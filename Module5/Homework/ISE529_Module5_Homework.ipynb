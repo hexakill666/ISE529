{
 "cells": [
  {
   "cell_type": "markdown",
   "id": "5fd3f42b",
   "metadata": {},
   "source": [
    "# <center> Module 5 Homework\n",
    "#### <center> Student Name"
   ]
  },
  {
   "cell_type": "markdown",
   "id": "23589437",
   "metadata": {},
   "source": [
    "## Problem 1"
   ]
  },
  {
   "cell_type": "markdown",
   "id": "df9a0b29",
   "metadata": {},
   "source": [
    "1a)  For this problem, we are going to do a similar analysis for the lasso as was done in the lecture for the ridge regression.\n",
    "\n",
    "Read the Hitters.csv data into a dataframe, drop the rows with NaNs, and create dummy variables to replace the three category columns (use the drop_first=True parameter in the Pandas get_dummies() function.  "
   ]
  },
  {
   "cell_type": "markdown",
   "id": "f7488ad2",
   "metadata": {},
   "source": [
    "1b)  Use the same array of 100 possible values of lambdas from $10^{-2}$ to $10^{10}$ that we used in the class example, create a plot of lasso coefficients as a function of lambda.  Use the full dataset."
   ]
  },
  {
   "cell_type": "markdown",
   "id": "e1ff6202",
   "metadata": {},
   "source": [
    "1c)  Using the LassoCV function and the full dataset, find the best possible lambda value for your dataset and the MSE associated with that model. Use a k-fold validation with 10 partitions."
   ]
  },
  {
   "cell_type": "markdown",
   "id": "9598fec8",
   "metadata": {},
   "source": [
    "1d)  For the lasso model with the best lambda, which coefficients have been driven to 0?  (5 points)"
   ]
  },
  {
   "cell_type": "markdown",
   "id": "55a1939b",
   "metadata": {},
   "source": [
    "1e)  Which coefficients remain in the model (are non-zero)?"
   ]
  },
  {
   "cell_type": "markdown",
   "id": "e0523bcb",
   "metadata": {},
   "source": [
    "1f)  Fit a lasso model to this data using a lambda value of 5.  For this model, which coefficients have been driven to 0?  (5 points)"
   ]
  },
  {
   "cell_type": "markdown",
   "id": "5a5830f0",
   "metadata": {},
   "source": [
    "1g)  Which of these two models (best lambda and lambda = 5) had more coefficients driven to 0?  Explain why that happened."
   ]
  },
  {
   "cell_type": "markdown",
   "id": "50f950df",
   "metadata": {},
   "source": [
    "## Problem 2"
   ]
  },
  {
   "cell_type": "markdown",
   "id": "bde5e043",
   "metadata": {},
   "source": [
    "2)  For this probem, we are going to perform a best subset selection using the same dataset as in problem 1."
   ]
  },
  {
   "cell_type": "markdown",
   "id": "44c43794",
   "metadata": {},
   "source": [
    "2a)  How many different combinations of 5 predictors are there in this dataset?  Hint:  the comb() function in the Python math library can make this easy"
   ]
  },
  {
   "cell_type": "markdown",
   "id": "afc6ca96",
   "metadata": {},
   "source": [
    "2b)  Using sklearn, fit a regression model to the first 5 predictors ('AtBat', 'Hits', 'HmRun', 'Runs', 'RBI').  What is the MSE of your resulting model (using the full dataset)?  (10 points)"
   ]
  },
  {
   "cell_type": "markdown",
   "id": "727e16df",
   "metadata": {},
   "source": [
    "2c)  The itertools package provides a variety of \"iterators\" for use in loops.  The combinations iterator provides an iterator that can be used in for loops, For example, here is the list of all of the combinations of 2 predictors in our dataset:"
   ]
  },
  {
   "cell_type": "code",
   "execution_count": 11,
   "id": "d447c996",
   "metadata": {},
   "outputs": [
    {
     "name": "stdout",
     "output_type": "stream",
     "text": [
      "('AtBat', 'Hits')\n",
      "('AtBat', 'HmRun')\n",
      "('AtBat', 'Runs')\n",
      "('AtBat', 'RBI')\n",
      "('AtBat', 'Walks')\n",
      "('AtBat', 'Years')\n",
      "('AtBat', 'CAtBat')\n",
      "('AtBat', 'CHits')\n",
      "('AtBat', 'CHmRun')\n",
      "('AtBat', 'CRuns')\n",
      "('AtBat', 'CRBI')\n",
      "('AtBat', 'CWalks')\n",
      "('AtBat', 'PutOuts')\n",
      "('AtBat', 'Assists')\n",
      "('AtBat', 'Errors')\n",
      "('AtBat', 'League_N')\n",
      "('AtBat', 'Division_W')\n",
      "('AtBat', 'NewLeague_N')\n",
      "('Hits', 'HmRun')\n",
      "('Hits', 'Runs')\n",
      "('Hits', 'RBI')\n",
      "('Hits', 'Walks')\n",
      "('Hits', 'Years')\n",
      "('Hits', 'CAtBat')\n",
      "('Hits', 'CHits')\n",
      "('Hits', 'CHmRun')\n",
      "('Hits', 'CRuns')\n",
      "('Hits', 'CRBI')\n",
      "('Hits', 'CWalks')\n",
      "('Hits', 'PutOuts')\n",
      "('Hits', 'Assists')\n",
      "('Hits', 'Errors')\n",
      "('Hits', 'League_N')\n",
      "('Hits', 'Division_W')\n",
      "('Hits', 'NewLeague_N')\n",
      "('HmRun', 'Runs')\n",
      "('HmRun', 'RBI')\n",
      "('HmRun', 'Walks')\n",
      "('HmRun', 'Years')\n",
      "('HmRun', 'CAtBat')\n",
      "('HmRun', 'CHits')\n",
      "('HmRun', 'CHmRun')\n",
      "('HmRun', 'CRuns')\n",
      "('HmRun', 'CRBI')\n",
      "('HmRun', 'CWalks')\n",
      "('HmRun', 'PutOuts')\n",
      "('HmRun', 'Assists')\n",
      "('HmRun', 'Errors')\n",
      "('HmRun', 'League_N')\n",
      "('HmRun', 'Division_W')\n",
      "('HmRun', 'NewLeague_N')\n",
      "('Runs', 'RBI')\n",
      "('Runs', 'Walks')\n",
      "('Runs', 'Years')\n",
      "('Runs', 'CAtBat')\n",
      "('Runs', 'CHits')\n",
      "('Runs', 'CHmRun')\n",
      "('Runs', 'CRuns')\n",
      "('Runs', 'CRBI')\n",
      "('Runs', 'CWalks')\n",
      "('Runs', 'PutOuts')\n",
      "('Runs', 'Assists')\n",
      "('Runs', 'Errors')\n",
      "('Runs', 'League_N')\n",
      "('Runs', 'Division_W')\n",
      "('Runs', 'NewLeague_N')\n",
      "('RBI', 'Walks')\n",
      "('RBI', 'Years')\n",
      "('RBI', 'CAtBat')\n",
      "('RBI', 'CHits')\n",
      "('RBI', 'CHmRun')\n",
      "('RBI', 'CRuns')\n",
      "('RBI', 'CRBI')\n",
      "('RBI', 'CWalks')\n",
      "('RBI', 'PutOuts')\n",
      "('RBI', 'Assists')\n",
      "('RBI', 'Errors')\n",
      "('RBI', 'League_N')\n",
      "('RBI', 'Division_W')\n",
      "('RBI', 'NewLeague_N')\n",
      "('Walks', 'Years')\n",
      "('Walks', 'CAtBat')\n",
      "('Walks', 'CHits')\n",
      "('Walks', 'CHmRun')\n",
      "('Walks', 'CRuns')\n",
      "('Walks', 'CRBI')\n",
      "('Walks', 'CWalks')\n",
      "('Walks', 'PutOuts')\n",
      "('Walks', 'Assists')\n",
      "('Walks', 'Errors')\n",
      "('Walks', 'League_N')\n",
      "('Walks', 'Division_W')\n",
      "('Walks', 'NewLeague_N')\n",
      "('Years', 'CAtBat')\n",
      "('Years', 'CHits')\n",
      "('Years', 'CHmRun')\n",
      "('Years', 'CRuns')\n",
      "('Years', 'CRBI')\n",
      "('Years', 'CWalks')\n",
      "('Years', 'PutOuts')\n",
      "('Years', 'Assists')\n",
      "('Years', 'Errors')\n",
      "('Years', 'League_N')\n",
      "('Years', 'Division_W')\n",
      "('Years', 'NewLeague_N')\n",
      "('CAtBat', 'CHits')\n",
      "('CAtBat', 'CHmRun')\n",
      "('CAtBat', 'CRuns')\n",
      "('CAtBat', 'CRBI')\n",
      "('CAtBat', 'CWalks')\n",
      "('CAtBat', 'PutOuts')\n",
      "('CAtBat', 'Assists')\n",
      "('CAtBat', 'Errors')\n",
      "('CAtBat', 'League_N')\n",
      "('CAtBat', 'Division_W')\n",
      "('CAtBat', 'NewLeague_N')\n",
      "('CHits', 'CHmRun')\n",
      "('CHits', 'CRuns')\n",
      "('CHits', 'CRBI')\n",
      "('CHits', 'CWalks')\n",
      "('CHits', 'PutOuts')\n",
      "('CHits', 'Assists')\n",
      "('CHits', 'Errors')\n",
      "('CHits', 'League_N')\n",
      "('CHits', 'Division_W')\n",
      "('CHits', 'NewLeague_N')\n",
      "('CHmRun', 'CRuns')\n",
      "('CHmRun', 'CRBI')\n",
      "('CHmRun', 'CWalks')\n",
      "('CHmRun', 'PutOuts')\n",
      "('CHmRun', 'Assists')\n",
      "('CHmRun', 'Errors')\n",
      "('CHmRun', 'League_N')\n",
      "('CHmRun', 'Division_W')\n",
      "('CHmRun', 'NewLeague_N')\n",
      "('CRuns', 'CRBI')\n",
      "('CRuns', 'CWalks')\n",
      "('CRuns', 'PutOuts')\n",
      "('CRuns', 'Assists')\n",
      "('CRuns', 'Errors')\n",
      "('CRuns', 'League_N')\n",
      "('CRuns', 'Division_W')\n",
      "('CRuns', 'NewLeague_N')\n",
      "('CRBI', 'CWalks')\n",
      "('CRBI', 'PutOuts')\n",
      "('CRBI', 'Assists')\n",
      "('CRBI', 'Errors')\n",
      "('CRBI', 'League_N')\n",
      "('CRBI', 'Division_W')\n",
      "('CRBI', 'NewLeague_N')\n",
      "('CWalks', 'PutOuts')\n",
      "('CWalks', 'Assists')\n",
      "('CWalks', 'Errors')\n",
      "('CWalks', 'League_N')\n",
      "('CWalks', 'Division_W')\n",
      "('CWalks', 'NewLeague_N')\n",
      "('PutOuts', 'Assists')\n",
      "('PutOuts', 'Errors')\n",
      "('PutOuts', 'League_N')\n",
      "('PutOuts', 'Division_W')\n",
      "('PutOuts', 'NewLeague_N')\n",
      "('Assists', 'Errors')\n",
      "('Assists', 'League_N')\n",
      "('Assists', 'Division_W')\n",
      "('Assists', 'NewLeague_N')\n",
      "('Errors', 'League_N')\n",
      "('Errors', 'Division_W')\n",
      "('Errors', 'NewLeague_N')\n",
      "('League_N', 'Division_W')\n",
      "('League_N', 'NewLeague_N')\n",
      "('Division_W', 'NewLeague_N')\n"
     ]
    }
   ],
   "source": [
    "import pandas as pd\n",
    "d0 = pd.read_csv('Hitters.csv').dropna()\n",
    "X = d0.drop(['Salary'], axis=1)\n",
    "X = pd.get_dummies(X, columns = ['League', 'Division', 'NewLeague'], drop_first=True)\n",
    "\n",
    "from itertools import combinations\n",
    "for predictor_comb in combinations(X.columns, 2):\n",
    "    print(predictor_comb)"
   ]
  },
  {
   "cell_type": "markdown",
   "id": "d7a0f12d",
   "metadata": {},
   "source": [
    "2d) Using this combinations function and sklearn, construct a loop that fits a linear regression model to every possible combination of three predictors.  For each combination of predictors, save the model, its predictors, and its MSE in a dataframe called \"models\" and display the first 10 rows of the models dataframe."
   ]
  },
  {
   "cell_type": "markdown",
   "id": "a0dcdb1b",
   "metadata": {},
   "source": [
    "2e)  Find the best model (lowest MSE) and answer the following questions:\n",
    "  - What are the predictors?\n",
    "  - What is the MSE of the model?"
   ]
  },
  {
   "cell_type": "markdown",
   "id": "65d39b31",
   "metadata": {},
   "source": [
    "2f)  Now, use your code to create a function get_best_model(k) which takes the number of predictors as an input (k) and returns a list consisting of the model, its predictors, and its corresponding MSE for the best model with k predictors.  Call the function with k = 3 to test that it returns the same results (predictors and model MSE) as your answer to part e."
   ]
  },
  {
   "cell_type": "markdown",
   "id": "b7dcce50",
   "metadata": {},
   "source": [
    "2g) We are going to wish to evaluate the candidate models using AIC, BIC, and Adjusted $R^2$ which are not available in sklearn.  Re-write you function from part f above using statsmodels instead of sklearn.   Call the function with k = 3 to test that it returns the same results (predictors and model MSE) as your answers to parts e and f."
   ]
  },
  {
   "cell_type": "markdown",
   "id": "3e6ee37e",
   "metadata": {},
   "source": [
    "2h)  Set up a loop to call this function for every number of susbsets between 1 and 18 and store the results in a dataframe called models_best.  This will take a long time to run (about 40 minutes on my computer), so I recommend that you test it using only a relatively small number of subsets (maybe 1 to 5) before running it on the full 19.  Display the resulting models_best dataframe."
   ]
  },
  {
   "cell_type": "markdown",
   "id": "8ea419be",
   "metadata": {},
   "source": [
    "2i)  Create and populate a dataframe best_model_stats that has the following columns:  \"Model Size\", \"R2\", \"Adjusted R2\", \"AIC\", \"BIC\".  Display the dataframe."
   ]
  },
  {
   "cell_type": "markdown",
   "id": "7cbcac3b",
   "metadata": {},
   "source": [
    "2j)  Create four line plots showing the four assessment statistics as a function of model size  (5 points)"
   ]
  },
  {
   "cell_type": "markdown",
   "id": "fa8e4c74",
   "metadata": {},
   "source": [
    "2k.  Based on this data, which model size would you select for each of the three assessment statistics (not including R2)?   (5 points)"
   ]
  },
  {
   "cell_type": "markdown",
   "id": "1221767e",
   "metadata": {},
   "source": [
    "  - Adjusted $R^{2}$:  xxx\n",
    "  - AIC:  xxx\n",
    "  - BIC:  xxx"
   ]
  },
  {
   "cell_type": "markdown",
   "id": "f26d507c",
   "metadata": {},
   "source": [
    "2l.  How does this compare to the number of predictors using the Lassoo \"best model\" that you found in question 1?  (5 points)"
   ]
  }
 ],
 "metadata": {
  "kernelspec": {
   "display_name": "Python 3",
   "language": "python",
   "name": "python3"
  },
  "language_info": {
   "codemirror_mode": {
    "name": "ipython",
    "version": 3
   },
   "file_extension": ".py",
   "mimetype": "text/x-python",
   "name": "python",
   "nbconvert_exporter": "python",
   "pygments_lexer": "ipython3",
   "version": "3.8.8"
  }
 },
 "nbformat": 4,
 "nbformat_minor": 5
}
