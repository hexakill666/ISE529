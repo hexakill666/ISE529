{
 "cells": [
  {
   "cell_type": "markdown",
   "id": "5fd3f42b",
   "metadata": {},
   "source": [
    "# <center> Module 6 Homework\n",
    "#### <center> ISE-529, Summer 2022\n",
    "#### <center> Student Name"
   ]
  },
  {
   "cell_type": "markdown",
   "id": "06175de6",
   "metadata": {},
   "source": [
    "1)  The file \"bank_evals.csv\" contains data on 20 banks with the following attributes: \n",
    "- FinanciallyWeak: (1 - financially weak condition, 0 - other ) \n",
    "- CaptitalAssetRatio: Ratio of total capital to asses \n",
    "- ExpAssetRatio: Ratio of total expenses to total assets \n",
    "- LoansLeasesToAssetRatio: Ratio of total loans and leasses to total assets"
   ]
  },
  {
   "cell_type": "markdown",
   "id": "a2dd613a",
   "metadata": {},
   "source": [
    "a)  Create a logistic regression that models the status of the bank (whether or not it is weak) as a function of TotLns&Lses/Assets and TotExp/Assets.  Use all 20 observations as your training data. Show the resulting intercept and coefficients of your model."
   ]
  },
  {
   "cell_type": "code",
   "execution_count": null,
   "id": "a3a9c84c",
   "metadata": {},
   "outputs": [],
   "source": []
  },
  {
   "cell_type": "markdown",
   "id": "600959b7",
   "metadata": {},
   "source": [
    "b)  Using the LaTex capabilities in Jupyter Notebook, write the equation of the probability of being financially weak as a function of these two predictors."
   ]
  },
  {
   "cell_type": "markdown",
   "id": "95021c89",
   "metadata": {},
   "source": []
  },
  {
   "cell_type": "markdown",
   "id": "4923d155",
   "metadata": {},
   "source": [
    "c)  If we had a new bank whose total loans and leases to asset ratio was 0.6 and total expenses to assets ratio was 0.11, what is the probability that it would be classified as “weak” by regulatory experts? What are the odds?"
   ]
  },
  {
   "cell_type": "code",
   "execution_count": null,
   "id": "cf71bef5",
   "metadata": {},
   "outputs": [],
   "source": []
  },
  {
   "cell_type": "markdown",
   "id": "9ac0692c",
   "metadata": {},
   "source": [
    "d)  Interpret the estimated coefficient for the ratio of total loans and leasses to total assets in terms of the odds being financially weak."
   ]
  },
  {
   "cell_type": "markdown",
   "id": "6ec8fa9b",
   "metadata": {},
   "source": []
  },
  {
   "cell_type": "markdown",
   "id": "e9f695c4",
   "metadata": {},
   "source": [
    "e)  When a weak bank is misclassified as strong, the implications of that mistake are much greater than when a strong bank is misclassified as weak. To minimize the effects of this, should the cutoff value be increased or decreased from a default value of 0.5?"
   ]
  },
  {
   "cell_type": "markdown",
   "id": "0ba18fa0",
   "metadata": {},
   "source": []
  },
  {
   "cell_type": "markdown",
   "id": "30479c67",
   "metadata": {},
   "source": [
    "2)  Suppose we collect data for a group of students in a statistics class with variables ${𝑋_1=}$ hours studied, ${𝑋_2=}$ undergrad GPA, and ${Y=}$ receive an A. We fit a logistic regression and produce estimated coefficients $\\hat{\\beta}_0 = -6$, $\\hat{\\beta}_1 = 0.05$, and $\\hat{\\beta}_2 = 0.9$ (20 points)"
   ]
  },
  {
   "cell_type": "markdown",
   "id": "6cb0739d",
   "metadata": {},
   "source": [
    "a) Estimate the probability that a student who studies for 20 hours and has an undergrad GPA of 3.5 gets an A in the class:  xxx%"
   ]
  },
  {
   "cell_type": "code",
   "execution_count": null,
   "id": "ca7db183",
   "metadata": {},
   "outputs": [],
   "source": []
  },
  {
   "cell_type": "markdown",
   "id": "fbe4aa66",
   "metadata": {},
   "source": [
    "b) How many hours would the student in part (a) need to study to have a 60 % chance of getting an A in the class?  xx"
   ]
  },
  {
   "cell_type": "code",
   "execution_count": null,
   "id": "746b2524",
   "metadata": {},
   "outputs": [],
   "source": []
  },
  {
   "cell_type": "markdown",
   "id": "0402dd72",
   "metadata": {},
   "source": [
    "3)  The file model_assessment_data.csv contains the output of a classification model for 100 observations.  The first column – P(Y) contains the probability that the model assigned to that observation that it contained the event.  The second column indicates whether it actually contained the event."
   ]
  },
  {
   "cell_type": "markdown",
   "id": "5ad53664",
   "metadata": {},
   "source": [
    "a)  Create a dataframe with the following lift curve data as columns\n",
    "  - Percentile:  values from 5 to 100 by 5 (5, 10, 15, ..., 100)\n",
    "  - Model lift (value at the corresponding percentile)\n",
    "  - Best lift (value at the corresponding percentile)"
   ]
  },
  {
   "cell_type": "code",
   "execution_count": null,
   "id": "9de3c301",
   "metadata": {},
   "outputs": [],
   "source": []
  },
  {
   "cell_type": "markdown",
   "id": "177dd555",
   "metadata": {},
   "source": [
    "b) Create a lift curve graphic using this data"
   ]
  },
  {
   "cell_type": "code",
   "execution_count": null,
   "id": "4ac8d7ef",
   "metadata": {},
   "outputs": [],
   "source": []
  },
  {
   "cell_type": "markdown",
   "id": "4caed008",
   "metadata": {},
   "source": [
    "c)  Calculate and display the confusion matrix, sensitivity, and specificity with a classification threshold of 0.5"
   ]
  },
  {
   "cell_type": "code",
   "execution_count": null,
   "id": "c3b664d5",
   "metadata": {},
   "outputs": [],
   "source": []
  },
  {
   "cell_type": "markdown",
   "id": "b4cda065",
   "metadata": {},
   "source": [
    "d)  Create an ROC chart (using 1% intervals for the threshold)"
   ]
  },
  {
   "cell_type": "code",
   "execution_count": 18,
   "id": "3355f13f",
   "metadata": {},
   "outputs": [],
   "source": []
  },
  {
   "cell_type": "markdown",
   "id": "4de9aa96",
   "metadata": {},
   "source": [
    "e) What value of threshold yields the largest ROC separation?"
   ]
  },
  {
   "cell_type": "code",
   "execution_count": null,
   "id": "57db015f",
   "metadata": {},
   "outputs": [],
   "source": []
  },
  {
   "cell_type": "markdown",
   "id": "85e06340",
   "metadata": {},
   "source": [
    "f)  Recalculate the confusion matrix, sensitivity, and specificity using the optimal threshold you found in part (e):"
   ]
  },
  {
   "cell_type": "code",
   "execution_count": null,
   "id": "abbbc89b",
   "metadata": {},
   "outputs": [],
   "source": []
  }
 ],
 "metadata": {
  "kernelspec": {
   "display_name": "Python 3",
   "language": "python",
   "name": "python3"
  },
  "language_info": {
   "codemirror_mode": {
    "name": "ipython",
    "version": 3
   },
   "file_extension": ".py",
   "mimetype": "text/x-python",
   "name": "python",
   "nbconvert_exporter": "python",
   "pygments_lexer": "ipython3",
   "version": "3.8.8"
  }
 },
 "nbformat": 4,
 "nbformat_minor": 5
}
