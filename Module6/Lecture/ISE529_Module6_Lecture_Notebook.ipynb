{
 "cells": [
  {
   "cell_type": "code",
   "execution_count": 75,
   "id": "4d6c6749",
   "metadata": {},
   "outputs": [],
   "source": [
    "import numpy as np\n",
    "import pandas as pd\n",
    "from sklearn.linear_model import LogisticRegression\n",
    "import sklearn.metrics as metrics\n",
    "import seaborn as sns"
   ]
  },
  {
   "cell_type": "code",
   "execution_count": 2,
   "id": "7080df0a",
   "metadata": {},
   "outputs": [
    {
     "data": {
      "text/html": [
       "<div>\n",
       "<style scoped>\n",
       "    .dataframe tbody tr th:only-of-type {\n",
       "        vertical-align: middle;\n",
       "    }\n",
       "\n",
       "    .dataframe tbody tr th {\n",
       "        vertical-align: top;\n",
       "    }\n",
       "\n",
       "    .dataframe thead th {\n",
       "        text-align: right;\n",
       "    }\n",
       "</style>\n",
       "<table border=\"1\" class=\"dataframe\">\n",
       "  <thead>\n",
       "    <tr style=\"text-align: right;\">\n",
       "      <th></th>\n",
       "      <th>default</th>\n",
       "      <th>student</th>\n",
       "      <th>income</th>\n",
       "      <th>balance</th>\n",
       "    </tr>\n",
       "  </thead>\n",
       "  <tbody>\n",
       "    <tr>\n",
       "      <th>0</th>\n",
       "      <td>Yes</td>\n",
       "      <td>Yes</td>\n",
       "      <td>9663.79</td>\n",
       "      <td>2024.66</td>\n",
       "    </tr>\n",
       "    <tr>\n",
       "      <th>1</th>\n",
       "      <td>Yes</td>\n",
       "      <td>Yes</td>\n",
       "      <td>10155.32</td>\n",
       "      <td>1681.48</td>\n",
       "    </tr>\n",
       "    <tr>\n",
       "      <th>2</th>\n",
       "      <td>Yes</td>\n",
       "      <td>Yes</td>\n",
       "      <td>10470.64</td>\n",
       "      <td>2066.70</td>\n",
       "    </tr>\n",
       "    <tr>\n",
       "      <th>3</th>\n",
       "      <td>Yes</td>\n",
       "      <td>Yes</td>\n",
       "      <td>10591.72</td>\n",
       "      <td>1707.91</td>\n",
       "    </tr>\n",
       "    <tr>\n",
       "      <th>4</th>\n",
       "      <td>Yes</td>\n",
       "      <td>Yes</td>\n",
       "      <td>11054.07</td>\n",
       "      <td>1492.96</td>\n",
       "    </tr>\n",
       "    <tr>\n",
       "      <th>...</th>\n",
       "      <td>...</td>\n",
       "      <td>...</td>\n",
       "      <td>...</td>\n",
       "      <td>...</td>\n",
       "    </tr>\n",
       "    <tr>\n",
       "      <th>9496</th>\n",
       "      <td>No</td>\n",
       "      <td>No</td>\n",
       "      <td>70700.65</td>\n",
       "      <td>1067.84</td>\n",
       "    </tr>\n",
       "    <tr>\n",
       "      <th>9497</th>\n",
       "      <td>No</td>\n",
       "      <td>No</td>\n",
       "      <td>71238.55</td>\n",
       "      <td>1253.18</td>\n",
       "    </tr>\n",
       "    <tr>\n",
       "      <th>9498</th>\n",
       "      <td>No</td>\n",
       "      <td>No</td>\n",
       "      <td>71878.77</td>\n",
       "      <td>201.81</td>\n",
       "    </tr>\n",
       "    <tr>\n",
       "      <th>9499</th>\n",
       "      <td>No</td>\n",
       "      <td>No</td>\n",
       "      <td>72461.30</td>\n",
       "      <td>1233.71</td>\n",
       "    </tr>\n",
       "    <tr>\n",
       "      <th>9500</th>\n",
       "      <td>No</td>\n",
       "      <td>No</td>\n",
       "      <td>73554.23</td>\n",
       "      <td>1593.43</td>\n",
       "    </tr>\n",
       "  </tbody>\n",
       "</table>\n",
       "<p>9501 rows × 4 columns</p>\n",
       "</div>"
      ],
      "text/plain": [
       "     default student   income   balance\n",
       "0        Yes     Yes   9663.79  2024.66\n",
       "1        Yes     Yes  10155.32  1681.48\n",
       "2        Yes     Yes  10470.64  2066.70\n",
       "3        Yes     Yes  10591.72  1707.91\n",
       "4        Yes     Yes  11054.07  1492.96\n",
       "...      ...     ...       ...      ...\n",
       "9496      No      No  70700.65  1067.84\n",
       "9497      No      No  71238.55  1253.18\n",
       "9498      No      No  71878.77   201.81\n",
       "9499      No      No  72461.30  1233.71\n",
       "9500      No      No  73554.23  1593.43\n",
       "\n",
       "[9501 rows x 4 columns]"
      ]
     },
     "execution_count": 2,
     "metadata": {},
     "output_type": "execute_result"
    }
   ],
   "source": [
    "credit_default_data = pd.read_csv(\"Credit Card Default Data.csv\")\n",
    "credit_default_data"
   ]
  },
  {
   "cell_type": "markdown",
   "id": "62642c91",
   "metadata": {},
   "source": [
    "### Create simple logistic regression model with balance as predictor"
   ]
  },
  {
   "cell_type": "code",
   "execution_count": 3,
   "id": "4faef800",
   "metadata": {},
   "outputs": [
    {
     "data": {
      "text/plain": [
       "0       Yes\n",
       "1       Yes\n",
       "2       Yes\n",
       "3       Yes\n",
       "4       Yes\n",
       "       ... \n",
       "9496     No\n",
       "9497     No\n",
       "9498     No\n",
       "9499     No\n",
       "9500     No\n",
       "Name: default, Length: 9501, dtype: object"
      ]
     },
     "execution_count": 3,
     "metadata": {},
     "output_type": "execute_result"
    }
   ],
   "source": [
    "y1 = credit_default_data['default'].copy()\n",
    "X1 = credit_default_data[['balance']].copy()  # sklearn expects x to be a dataframe.  \n",
    "y1"
   ]
  },
  {
   "cell_type": "code",
   "execution_count": 4,
   "id": "87d666d5",
   "metadata": {},
   "outputs": [],
   "source": [
    "model1 = LogisticRegression().fit(X1,y1)"
   ]
  },
  {
   "cell_type": "code",
   "execution_count": 5,
   "id": "5035228c",
   "metadata": {},
   "outputs": [
    {
     "data": {
      "text/plain": [
       "array([-10.64979227])"
      ]
     },
     "execution_count": 5,
     "metadata": {},
     "output_type": "execute_result"
    }
   ],
   "source": [
    "model1.intercept_"
   ]
  },
  {
   "cell_type": "code",
   "execution_count": 6,
   "id": "c42108c6",
   "metadata": {},
   "outputs": [
    {
     "data": {
      "text/plain": [
       "array([[0.005498]])"
      ]
     },
     "execution_count": 6,
     "metadata": {},
     "output_type": "execute_result"
    }
   ],
   "source": [
    "model1.coef_"
   ]
  },
  {
   "cell_type": "code",
   "execution_count": 7,
   "id": "ec406088",
   "metadata": {},
   "outputs": [
    {
     "data": {
      "text/plain": [
       "0.9710556783496475"
      ]
     },
     "execution_count": 7,
     "metadata": {},
     "output_type": "execute_result"
    }
   ],
   "source": [
    "model1.score(X1,y1)"
   ]
  },
  {
   "cell_type": "markdown",
   "id": "e5607160",
   "metadata": {},
   "source": [
    "Calculate estimated probability of default for someone with a balance of 1000 and 2000"
   ]
  },
  {
   "cell_type": "code",
   "execution_count": 8,
   "id": "d786da32",
   "metadata": {},
   "outputs": [
    {
     "data": {
      "text/plain": [
       "array([[0.00575567]])"
      ]
     },
     "execution_count": 8,
     "metadata": {},
     "output_type": "execute_result"
    }
   ],
   "source": [
    "balance = 1000\n",
    "np.exp(model1.intercept_ + model1.coef_*balance)/(1+np.exp(model1.intercept_ + model1.coef_*balance))"
   ]
  },
  {
   "cell_type": "code",
   "execution_count": 9,
   "id": "29ed24c4",
   "metadata": {},
   "outputs": [
    {
     "data": {
      "text/plain": [
       "array([[0.58569553]])"
      ]
     },
     "execution_count": 9,
     "metadata": {},
     "output_type": "execute_result"
    }
   ],
   "source": [
    "balance = 2000\n",
    "np.exp(model1.intercept_ + model1.coef_*balance)/(1+np.exp(model1.intercept_ + model1.coef_*balance))"
   ]
  },
  {
   "cell_type": "markdown",
   "id": "4f597c3b",
   "metadata": {},
   "source": [
    "### Create simple logistic regression model with student as predictor"
   ]
  },
  {
   "cell_type": "code",
   "execution_count": 10,
   "id": "90612b28",
   "metadata": {},
   "outputs": [],
   "source": [
    "y2 = credit_default_data['default'].copy()\n",
    "dummy_vars = pd.get_dummies(credit_default_data['student'])\n",
    "X2 = dummy_vars[['Yes']].copy()"
   ]
  },
  {
   "cell_type": "code",
   "execution_count": 11,
   "id": "980077a6",
   "metadata": {},
   "outputs": [],
   "source": [
    "model2 = LogisticRegression().fit(X2,y2)"
   ]
  },
  {
   "cell_type": "code",
   "execution_count": 12,
   "id": "66e48410",
   "metadata": {},
   "outputs": [
    {
     "data": {
      "text/plain": [
       "array([-3.43705617])"
      ]
     },
     "execution_count": 12,
     "metadata": {},
     "output_type": "execute_result"
    }
   ],
   "source": [
    "model2.intercept_"
   ]
  },
  {
   "cell_type": "code",
   "execution_count": 13,
   "id": "360f2d65",
   "metadata": {},
   "outputs": [
    {
     "data": {
      "text/plain": [
       "array([[0.35856645]])"
      ]
     },
     "execution_count": 13,
     "metadata": {},
     "output_type": "execute_result"
    }
   ],
   "source": [
    "model2.coef_"
   ]
  },
  {
   "cell_type": "markdown",
   "id": "45e5d703",
   "metadata": {},
   "source": [
    "Calculate estimated probability of default for students and non-students:"
   ]
  },
  {
   "cell_type": "code",
   "execution_count": 14,
   "id": "7eccf829",
   "metadata": {},
   "outputs": [
    {
     "data": {
      "text/plain": [
       "array([[0.0440033]])"
      ]
     },
     "execution_count": 14,
     "metadata": {},
     "output_type": "execute_result"
    }
   ],
   "source": [
    "student = 1\n",
    "prob_student = np.exp(model2.intercept_ + model2.coef_*student)/(1+np.exp(model2.intercept_ + \n",
    "                                                                          model2.coef_*student))\n",
    "prob_student"
   ]
  },
  {
   "cell_type": "code",
   "execution_count": 15,
   "id": "12ab9b4a",
   "metadata": {},
   "outputs": [],
   "source": [
    "student = 0\n",
    "prob_non_student = np.exp(model2.intercept_ + model2.coef_*student)/(1+np.exp(model2.intercept_ + \n",
    "                                                                              model2.coef_*student))"
   ]
  },
  {
   "cell_type": "markdown",
   "id": "e4a60883",
   "metadata": {},
   "source": [
    "Interpreting the odds ratio for the student status"
   ]
  },
  {
   "cell_type": "code",
   "execution_count": 16,
   "id": "0b2f2158",
   "metadata": {},
   "outputs": [
    {
     "data": {
      "text/plain": [
       "array([[1.43127613]])"
      ]
     },
     "execution_count": 16,
     "metadata": {},
     "output_type": "execute_result"
    }
   ],
   "source": [
    "np.exp(model2.coef_)"
   ]
  },
  {
   "cell_type": "code",
   "execution_count": 17,
   "id": "e2ff0ef3",
   "metadata": {},
   "outputs": [
    {
     "data": {
      "text/plain": [
       "array([[1.41229856]])"
      ]
     },
     "execution_count": 17,
     "metadata": {},
     "output_type": "execute_result"
    }
   ],
   "source": [
    "prob_student/prob_non_student"
   ]
  },
  {
   "cell_type": "markdown",
   "id": "ce4357e7",
   "metadata": {},
   "source": [
    "## Create and Assess multiple logistic model"
   ]
  },
  {
   "cell_type": "code",
   "execution_count": 18,
   "id": "b4ae2d5f",
   "metadata": {},
   "outputs": [],
   "source": [
    "y3 = credit_default_data['default'].copy()\n",
    "X3 = credit_default_data.drop('default', 1).copy()"
   ]
  },
  {
   "cell_type": "code",
   "execution_count": 19,
   "id": "1fab3ac3",
   "metadata": {
    "scrolled": false
   },
   "outputs": [
    {
     "data": {
      "text/html": [
       "<div>\n",
       "<style scoped>\n",
       "    .dataframe tbody tr th:only-of-type {\n",
       "        vertical-align: middle;\n",
       "    }\n",
       "\n",
       "    .dataframe tbody tr th {\n",
       "        vertical-align: top;\n",
       "    }\n",
       "\n",
       "    .dataframe thead th {\n",
       "        text-align: right;\n",
       "    }\n",
       "</style>\n",
       "<table border=\"1\" class=\"dataframe\">\n",
       "  <thead>\n",
       "    <tr style=\"text-align: right;\">\n",
       "      <th></th>\n",
       "      <th>student</th>\n",
       "      <th>income</th>\n",
       "      <th>balance</th>\n",
       "    </tr>\n",
       "  </thead>\n",
       "  <tbody>\n",
       "    <tr>\n",
       "      <th>0</th>\n",
       "      <td>1</td>\n",
       "      <td>9663.79</td>\n",
       "      <td>2024.66</td>\n",
       "    </tr>\n",
       "    <tr>\n",
       "      <th>1</th>\n",
       "      <td>1</td>\n",
       "      <td>10155.32</td>\n",
       "      <td>1681.48</td>\n",
       "    </tr>\n",
       "    <tr>\n",
       "      <th>2</th>\n",
       "      <td>1</td>\n",
       "      <td>10470.64</td>\n",
       "      <td>2066.70</td>\n",
       "    </tr>\n",
       "    <tr>\n",
       "      <th>3</th>\n",
       "      <td>1</td>\n",
       "      <td>10591.72</td>\n",
       "      <td>1707.91</td>\n",
       "    </tr>\n",
       "    <tr>\n",
       "      <th>4</th>\n",
       "      <td>1</td>\n",
       "      <td>11054.07</td>\n",
       "      <td>1492.96</td>\n",
       "    </tr>\n",
       "    <tr>\n",
       "      <th>...</th>\n",
       "      <td>...</td>\n",
       "      <td>...</td>\n",
       "      <td>...</td>\n",
       "    </tr>\n",
       "    <tr>\n",
       "      <th>9496</th>\n",
       "      <td>0</td>\n",
       "      <td>70700.65</td>\n",
       "      <td>1067.84</td>\n",
       "    </tr>\n",
       "    <tr>\n",
       "      <th>9497</th>\n",
       "      <td>0</td>\n",
       "      <td>71238.55</td>\n",
       "      <td>1253.18</td>\n",
       "    </tr>\n",
       "    <tr>\n",
       "      <th>9498</th>\n",
       "      <td>0</td>\n",
       "      <td>71878.77</td>\n",
       "      <td>201.81</td>\n",
       "    </tr>\n",
       "    <tr>\n",
       "      <th>9499</th>\n",
       "      <td>0</td>\n",
       "      <td>72461.30</td>\n",
       "      <td>1233.71</td>\n",
       "    </tr>\n",
       "    <tr>\n",
       "      <th>9500</th>\n",
       "      <td>0</td>\n",
       "      <td>73554.23</td>\n",
       "      <td>1593.43</td>\n",
       "    </tr>\n",
       "  </tbody>\n",
       "</table>\n",
       "<p>9501 rows × 3 columns</p>\n",
       "</div>"
      ],
      "text/plain": [
       "      student   income   balance\n",
       "0           1   9663.79  2024.66\n",
       "1           1  10155.32  1681.48\n",
       "2           1  10470.64  2066.70\n",
       "3           1  10591.72  1707.91\n",
       "4           1  11054.07  1492.96\n",
       "...       ...       ...      ...\n",
       "9496        0  70700.65  1067.84\n",
       "9497        0  71238.55  1253.18\n",
       "9498        0  71878.77   201.81\n",
       "9499        0  72461.30  1233.71\n",
       "9500        0  73554.23  1593.43\n",
       "\n",
       "[9501 rows x 3 columns]"
      ]
     },
     "execution_count": 19,
     "metadata": {},
     "output_type": "execute_result"
    }
   ],
   "source": [
    "dummy_vars = pd.get_dummies(credit_default_data['student'])\n",
    "X3['student'] = dummy_vars['Yes']\n",
    "X3"
   ]
  },
  {
   "cell_type": "markdown",
   "id": "c2e0bf5c",
   "metadata": {},
   "source": [
    "### Split dataset into training and test"
   ]
  },
  {
   "cell_type": "code",
   "execution_count": 42,
   "id": "cd68c7b9",
   "metadata": {},
   "outputs": [],
   "source": [
    "from sklearn.model_selection import train_test_split\n",
    "X_train, X_test, y_train, y_test  = train_test_split(X3,y3, test_size = 0.25, random_state = 1)\n",
    "model3 = LogisticRegression().fit(X_train,y_train)"
   ]
  },
  {
   "cell_type": "code",
   "execution_count": 52,
   "id": "1f63e4e8",
   "metadata": {},
   "outputs": [
    {
     "data": {
      "text/plain": [
       "array([-2.95293691])"
      ]
     },
     "execution_count": 52,
     "metadata": {},
     "output_type": "execute_result"
    }
   ],
   "source": [
    "model3.intercept_"
   ]
  },
  {
   "cell_type": "code",
   "execution_count": 54,
   "id": "a712b1df",
   "metadata": {},
   "outputs": [
    {
     "data": {
      "text/html": [
       "<div>\n",
       "<style scoped>\n",
       "    .dataframe tbody tr th:only-of-type {\n",
       "        vertical-align: middle;\n",
       "    }\n",
       "\n",
       "    .dataframe tbody tr th {\n",
       "        vertical-align: top;\n",
       "    }\n",
       "\n",
       "    .dataframe thead th {\n",
       "        text-align: right;\n",
       "    }\n",
       "</style>\n",
       "<table border=\"1\" class=\"dataframe\">\n",
       "  <thead>\n",
       "    <tr style=\"text-align: right;\">\n",
       "      <th></th>\n",
       "      <th>Coefficients</th>\n",
       "    </tr>\n",
       "  </thead>\n",
       "  <tbody>\n",
       "    <tr>\n",
       "      <th>income</th>\n",
       "      <td>-3.911981</td>\n",
       "    </tr>\n",
       "    <tr>\n",
       "      <th>balance</th>\n",
       "      <td>-0.000135</td>\n",
       "    </tr>\n",
       "    <tr>\n",
       "      <th>student_Yes</th>\n",
       "      <td>0.004101</td>\n",
       "    </tr>\n",
       "  </tbody>\n",
       "</table>\n",
       "</div>"
      ],
      "text/plain": [
       "             Coefficients\n",
       " income         -3.911981\n",
       "balance         -0.000135\n",
       "student_Yes      0.004101"
      ]
     },
     "execution_count": 54,
     "metadata": {},
     "output_type": "execute_result"
    }
   ],
   "source": [
    "pd.DataFrame(model3.coef_.T, columns = ['Coefficients'], index = X.columns)"
   ]
  },
  {
   "cell_type": "markdown",
   "id": "a22674e9",
   "metadata": {},
   "source": [
    "#### Generate Confustion Matrix"
   ]
  },
  {
   "cell_type": "code",
   "execution_count": 149,
   "id": "539ff0ef",
   "metadata": {},
   "outputs": [
    {
     "data": {
      "text/plain": [
       "array([[2270,   20],\n",
       "       [  73,   13]], dtype=int64)"
      ]
     },
     "execution_count": 149,
     "metadata": {},
     "output_type": "execute_result"
    }
   ],
   "source": [
    "y_hat = model3.predict(X_test)\n",
    "cnf_matrix = metrics.confusion_matrix(y_test, y_hat)\n",
    "cnf_matrix"
   ]
  },
  {
   "cell_type": "code",
   "execution_count": 150,
   "id": "82bc30cd",
   "metadata": {},
   "outputs": [
    {
     "data": {
      "text/plain": [
       "<sklearn.metrics._plot.confusion_matrix.ConfusionMatrixDisplay at 0x291b79b7fd0>"
      ]
     },
     "execution_count": 150,
     "metadata": {},
     "output_type": "execute_result"
    },
    {
     "data": {
      "image/png": "[encoded data removed]",
      "text/plain": [
       "<Figure size 432x288 with 2 Axes>"
      ]
     },
     "metadata": {
      "needs_background": "light"
     },
     "output_type": "display_data"
    }
   ],
   "source": [
    "metrics.ConfusionMatrixDisplay(cnf_matrix).plot()"
   ]
  },
  {
   "cell_type": "code",
   "execution_count": 151,
   "id": "e19d7690",
   "metadata": {},
   "outputs": [
    {
     "name": "stdout",
     "output_type": "stream",
     "text": [
      "True Negatives: 2270\n",
      "False Positives: 20\n",
      "False Negatives: 73\n",
      "True Positives: 13\n"
     ]
    }
   ],
   "source": [
    "TN = cnf_matrix[0,0]\n",
    "FP = cnf_matrix[0,1]\n",
    "FN = cnf_matrix[1,0]\n",
    "TP = cnf_matrix[1,1]\n",
    "print('True Negatives:', TN)\n",
    "print('False Positives:', FP)\n",
    "print('False Negatives:', FN)\n",
    "print('True Positives:', TP)"
   ]
  },
  {
   "cell_type": "code",
   "execution_count": 153,
   "id": "73d6ab1f",
   "metadata": {},
   "outputs": [
    {
     "name": "stdout",
     "output_type": "stream",
     "text": [
      "Sensitivity: 0.1511627906976744\n",
      "Specificity: 0.9912663755458515\n"
     ]
    }
   ],
   "source": [
    "Sensitivity = TP/(TP+FN)\n",
    "Specificity = TN/(TN + FP)\n",
    "print('Sensitivity:', Sensitivity)\n",
    "print('Specificity:', Specificity)"
   ]
  },
  {
   "cell_type": "markdown",
   "id": "954b17bc",
   "metadata": {},
   "source": [
    "#### Adjusting the classification threshold"
   ]
  },
  {
   "cell_type": "code",
   "execution_count": 132,
   "id": "74341004",
   "metadata": {},
   "outputs": [
    {
     "data": {
      "text/plain": [
       "array([0.05459464, 0.00301417, 0.00049685, ..., 0.05420965, 0.00601634,\n",
       "       0.00354868])"
      ]
     },
     "execution_count": 132,
     "metadata": {},
     "output_type": "execute_result"
    }
   ],
   "source": [
    "y_probs = model3.predict_proba(X_test)[:,1]\n",
    "y_probs"
   ]
  },
  {
   "cell_type": "code",
   "execution_count": 133,
   "id": "65e54133",
   "metadata": {},
   "outputs": [
    {
     "data": {
      "text/plain": [
       "<AxesSubplot:ylabel='Count'>"
      ]
     },
     "execution_count": 133,
     "metadata": {},
     "output_type": "execute_result"
    },
    {
     "data": {
      "image/png": "[encoded data removed]",
      "text/plain": [
       "<Figure size 432x288 with 1 Axes>"
      ]
     },
     "metadata": {
      "needs_background": "light"
     },
     "output_type": "display_data"
    }
   ],
   "source": [
    "sns.histplot(y_probs)"
   ]
  },
  {
   "cell_type": "code",
   "execution_count": 142,
   "id": "db4c7521",
   "metadata": {
    "scrolled": true
   },
   "outputs": [
    {
     "data": {
      "text/plain": [
       "<sklearn.metrics._plot.confusion_matrix.ConfusionMatrixDisplay at 0x291b7817130>"
      ]
     },
     "execution_count": 142,
     "metadata": {},
     "output_type": "execute_result"
    },
    {
     "data": {
      "image/png": "[encoded data removed]",
      "text/plain": [
       "<Figure size 432x288 with 2 Axes>"
      ]
     },
     "metadata": {
      "needs_background": "light"
     },
     "output_type": "display_data"
    }
   ],
   "source": [
    "threshold = 0.5\n",
    "preds = np.where(y_probs > threshold, 'Yes', 'No')\n",
    "cnf_matrix = metrics.confusion_matrix(y_test, preds)\n",
    "metrics.ConfusionMatrixDisplay(cnf_matrix, display_labels = [\"No\", \"Yes\"]).plot()"
   ]
  },
  {
   "cell_type": "code",
   "execution_count": 154,
   "id": "d84c5e5e",
   "metadata": {},
   "outputs": [
    {
     "name": "stdout",
     "output_type": "stream",
     "text": [
      "Sensitivity: 0.1511627906976744\n",
      "Specificity: 0.9912663755458515\n"
     ]
    }
   ],
   "source": [
    "TN = cnf_matrix[0,0]\n",
    "FP = cnf_matrix[0,1]\n",
    "FN = cnf_matrix[1,0]\n",
    "TP = cnf_matrix[1,1]\n",
    "Sensitivity = TP/(TP+FN)\n",
    "Specificity = TN/(TN + FP)\n",
    "print('Sensitivity:', Sensitivity)\n",
    "print('Specificity:', Specificity)"
   ]
  },
  {
   "cell_type": "code",
   "execution_count": 156,
   "id": "77fa2c56",
   "metadata": {},
   "outputs": [
    {
     "data": {
      "text/plain": [
       "<sklearn.metrics._plot.confusion_matrix.ConfusionMatrixDisplay at 0x291b72491c0>"
      ]
     },
     "execution_count": 156,
     "metadata": {},
     "output_type": "execute_result"
    },
    {
     "data": {
      "image/png": "[encoded data removed]",
      "text/plain": [
       "<Figure size 432x288 with 2 Axes>"
      ]
     },
     "metadata": {
      "needs_background": "light"
     },
     "output_type": "display_data"
    }
   ],
   "source": [
    "threshold = 0.1\n",
    "preds = np.where(y_probs > threshold, 'Yes', 'No')\n",
    "cnf_matrix = metrics.confusion_matrix(y_test, preds)\n",
    "metrics.ConfusionMatrixDisplay(cnf_matrix, display_labels = [\"No\", \"Yes\"]).plot()"
   ]
  },
  {
   "cell_type": "code",
   "execution_count": 157,
   "id": "d6bd17b3",
   "metadata": {},
   "outputs": [
    {
     "name": "stdout",
     "output_type": "stream",
     "text": [
      "Sensitivity: 0.6162790697674418\n",
      "Specificity: 0.9161572052401746\n"
     ]
    }
   ],
   "source": [
    "TN = cnf_matrix[0,0]\n",
    "FP = cnf_matrix[0,1]\n",
    "FN = cnf_matrix[1,0]\n",
    "TP = cnf_matrix[1,1]\n",
    "Sensitivity = TP/(TP+FN)\n",
    "Specificity = TN/(TN + FP)\n",
    "print('Sensitivity:', Sensitivity)\n",
    "print('Specificity:', Specificity)"
   ]
  },
  {
   "cell_type": "markdown",
   "id": "eb698b02",
   "metadata": {},
   "source": [
    "#### ROC Chart"
   ]
  },
  {
   "cell_type": "code",
   "execution_count": 178,
   "id": "72c1da62",
   "metadata": {},
   "outputs": [
    {
     "data": {
      "image/png": "[encoded data removed]",
      "text/plain": [
       "<Figure size 432x288 with 1 Axes>"
      ]
     },
     "metadata": {
      "needs_background": "light"
     },
     "output_type": "display_data"
    }
   ],
   "source": [
    "fpr, tpr, thresholds = metrics.roc_curve(y_test, y_probs, pos_label = 'Yes')\n",
    "roc_auc = metrics.auc(fpr, tpr)\n",
    "display = metrics.RocCurveDisplay(fpr=fpr, tpr=tpr, roc_auc=roc_auc).plot()"
   ]
  },
  {
   "cell_type": "code",
   "execution_count": null,
   "id": "adea252f",
   "metadata": {},
   "outputs": [],
   "source": []
  },
  {
   "cell_type": "code",
   "execution_count": 104,
   "id": "00117aa9",
   "metadata": {},
   "outputs": [
    {
     "name": "stdout",
     "output_type": "stream",
     "text": [
      "              precision    recall  f1-score   support\n",
      "\n",
      "          No       0.97      0.99      0.98      2290\n",
      "         Yes       0.39      0.15      0.22        86\n",
      "\n",
      "    accuracy                           0.96      2376\n",
      "   macro avg       0.68      0.57      0.60      2376\n",
      "weighted avg       0.95      0.96      0.95      2376\n",
      "\n"
     ]
    }
   ],
   "source": [
    "classification_report = metrics.classification_report(y_test, y_hat)\n",
    "print(classification_report)"
   ]
  },
  {
   "cell_type": "code",
   "execution_count": null,
   "id": "c3c6d8a1",
   "metadata": {},
   "outputs": [],
   "source": []
  }
 ],
 "metadata": {
  "kernelspec": {
   "display_name": "Python 3",
   "language": "python",
   "name": "python3"
  },
  "language_info": {
   "codemirror_mode": {
    "name": "ipython",
    "version": 3
   },
   "file_extension": ".py",
   "mimetype": "text/x-python",
   "name": "python",
   "nbconvert_exporter": "python",
   "pygments_lexer": "ipython3",
   "version": "3.8.8"
  }
 },
 "nbformat": 4,
 "nbformat_minor": 5
}
