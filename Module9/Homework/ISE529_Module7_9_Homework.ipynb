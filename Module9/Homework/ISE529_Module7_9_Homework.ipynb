{
 "cells": [
  {
   "cell_type": "markdown",
   "id": "ff649393",
   "metadata": {},
   "source": [
    "#  <center>Module 9 Homework\n",
    "## <center>ISE-529\n",
    "### <center>Assignment"
   ]
  },
  {
   "cell_type": "markdown",
   "id": "ec5067a2",
   "metadata": {},
   "source": [
    "1)  This problem uses Poisson regression to model data on suicide rates by country (couts per 10,000 population) in 2015 based on the existence of a mental health plan in the country in 2011 (1 = no, 2 = yes) and the number of pysychiatrists in the country in 2011 (per 100,000 population)."
   ]
  },
  {
   "cell_type": "markdown",
   "id": "0e911ad9",
   "metadata": {},
   "source": [
    "1a)  Read in the dataset from the file \"Suicide Rates by Country - 2015\" and create a histogram of the counts of suicides per 10,000 population (\"rates\")"
   ]
  },
  {
   "cell_type": "code",
   "execution_count": null,
   "id": "5ded38f8",
   "metadata": {},
   "outputs": [],
   "source": []
  },
  {
   "cell_type": "markdown",
   "id": "aa79a38c",
   "metadata": {},
   "source": [
    "1b)  Does this histogram appear to indicate that this variable follows a Poisson or a Gaussian distribution?"
   ]
  },
  {
   "cell_type": "markdown",
   "id": "4fd66ab9",
   "metadata": {},
   "source": []
  },
  {
   "cell_type": "markdown",
   "id": "be30b881",
   "metadata": {},
   "source": [
    "1c)  Run a Poisson regression using \"plan\" and \"psych\" as the predictors and \"rates\" as the response variable.  Display the resulting coefficients.  Use the full dataset (do not create partitions)"
   ]
  },
  {
   "cell_type": "code",
   "execution_count": null,
   "id": "76a22ecb",
   "metadata": {},
   "outputs": [],
   "source": []
  },
  {
   "cell_type": "markdown",
   "id": "5f157ac8",
   "metadata": {},
   "source": [
    "1D)  What would be the expected number of suicides per 100,000 population for a country that had a health plan and had 10 psychiatrists per 10,000 population?  "
   ]
  },
  {
   "cell_type": "code",
   "execution_count": null,
   "id": "a26d896b",
   "metadata": {},
   "outputs": [],
   "source": []
  },
  {
   "cell_type": "markdown",
   "id": "aaafda92",
   "metadata": {},
   "source": [
    "1E) For this country (from 1D), what is the probability that there would be 100 suicides (per 10,000 population)?"
   ]
  },
  {
   "cell_type": "code",
   "execution_count": null,
   "id": "cd61634b",
   "metadata": {},
   "outputs": [],
   "source": []
  },
  {
   "cell_type": "markdown",
   "id": "83855414",
   "metadata": {},
   "source": [
    "1f)  For this country (from 1D), what is the probability that there would be between 100 and 120 suicides (inclusive).  Assume that the counts are all integers (they have been rounded)."
   ]
  },
  {
   "cell_type": "code",
   "execution_count": null,
   "id": "23293a4a",
   "metadata": {},
   "outputs": [],
   "source": []
  },
  {
   "cell_type": "markdown",
   "id": "009fbe00",
   "metadata": {},
   "source": [
    "2)  For this problem, we will be using a wage dataset to develop tree-based models to predict salary (\"wage\") based on age (in thousands of dollars), education, health, job classification, and health insurance (whether health insurance is offered)"
   ]
  },
  {
   "cell_type": "markdown",
   "id": "82c97cfa",
   "metadata": {},
   "source": [
    "2a)  Read in the datasaet and convert string variables to appropriate numeric values.  Convert nominal categories to binary dummy variables and ordinal categories to appropriate integer-valued variables.  Display the first ten rows of your dataframe."
   ]
  },
  {
   "cell_type": "code",
   "execution_count": null,
   "id": "b33d3610",
   "metadata": {},
   "outputs": [],
   "source": []
  },
  {
   "cell_type": "markdown",
   "id": "7cb843c9",
   "metadata": {},
   "source": [
    "2b)  Split the dataset into an 80% training partition and a 20% test partition (set random_state = 0).  Create a deision tree regression model with a maximum depth of three levels.  Set random_state = 0.  Plot your decision tree."
   ]
  },
  {
   "cell_type": "code",
   "execution_count": 99,
   "id": "d2520183",
   "metadata": {},
   "outputs": [],
   "source": [
    "plt.rcParams['figure.figsize'] = [15,8]  #Include this command to create larger-sized figures\n"
   ]
  },
  {
   "cell_type": "markdown",
   "id": "0b80ea6c",
   "metadata": {},
   "source": [
    "2c)  What would be the predicted wage for a 45-year old person with an advanced degree in an \"informational\" job classification with Very Good health and health insurance?"
   ]
  },
  {
   "cell_type": "markdown",
   "id": "cfb57a98",
   "metadata": {},
   "source": []
  },
  {
   "cell_type": "markdown",
   "id": "33d051c6",
   "metadata": {},
   "source": [
    "2d)  Calculate the test MSE for this tree"
   ]
  },
  {
   "cell_type": "code",
   "execution_count": null,
   "id": "de048b8b",
   "metadata": {},
   "outputs": [],
   "source": []
  },
  {
   "cell_type": "markdown",
   "id": "30093efd",
   "metadata": {},
   "source": [
    "2e)  We are going to try to improve our model using cost complexity pruning.  Following the lecture example, crete a \"cost complexity pruning path (using random_state = 0) and plot the resulting model $R^2$ values as a function of different effective alphas."
   ]
  },
  {
   "cell_type": "code",
   "execution_count": null,
   "id": "6722d7b7",
   "metadata": {},
   "outputs": [],
   "source": []
  },
  {
   "cell_type": "markdown",
   "id": "0fe602fd",
   "metadata": {},
   "source": [
    "2f)  Find the precise alpha that results in a maxim test $R^2$"
   ]
  },
  {
   "cell_type": "code",
   "execution_count": null,
   "id": "e9a32719",
   "metadata": {},
   "outputs": [],
   "source": []
  },
  {
   "cell_type": "markdown",
   "id": "f2c2c60c",
   "metadata": {},
   "source": [
    "2g)  What is the mean square error of a decision tree constructed using the \"best alpha\" that you calculated in the previous step?"
   ]
  },
  {
   "cell_type": "code",
   "execution_count": null,
   "id": "5f5bd5bb",
   "metadata": {},
   "outputs": [],
   "source": []
  },
  {
   "cell_type": "markdown",
   "id": "195f754a",
   "metadata": {},
   "source": [
    "2h)  Find the variable importances for this best alpha tree.  What is the most important variable in predicting wage?"
   ]
  },
  {
   "cell_type": "code",
   "execution_count": null,
   "id": "3ab8df31",
   "metadata": {
    "scrolled": true
   },
   "outputs": [],
   "source": []
  },
  {
   "cell_type": "markdown",
   "id": "987c4cd9",
   "metadata": {},
   "source": [
    "Education level"
   ]
  },
  {
   "cell_type": "markdown",
   "id": "f1b40ccd",
   "metadata": {},
   "source": [
    "2i) Create a random forest model for this dataset based on randomly selecting 3 features at each decision node. Set the random_state=0. What is the model's MSE?"
   ]
  },
  {
   "cell_type": "code",
   "execution_count": null,
   "id": "41524c36",
   "metadata": {},
   "outputs": [],
   "source": []
  },
  {
   "cell_type": "markdown",
   "id": "bdb95fd3",
   "metadata": {},
   "source": [
    "2j)  Create a gradient boosting model for this dataset based on using 5000 estimators.  Set the random_state=0.  What is the model's MSE?"
   ]
  },
  {
   "cell_type": "code",
   "execution_count": null,
   "id": "bc3905cc",
   "metadata": {},
   "outputs": [],
   "source": []
  }
 ],
 "metadata": {
  "kernelspec": {
   "display_name": "Python 3",
   "language": "python",
   "name": "python3"
  },
  "language_info": {
   "codemirror_mode": {
    "name": "ipython",
    "version": 3
   },
   "file_extension": ".py",
   "mimetype": "text/x-python",
   "name": "python",
   "nbconvert_exporter": "python",
   "pygments_lexer": "ipython3",
   "version": "3.8.8"
  }
 },
 "nbformat": 4,
 "nbformat_minor": 5
}
